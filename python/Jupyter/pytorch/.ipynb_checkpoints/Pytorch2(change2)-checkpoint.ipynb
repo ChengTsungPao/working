{
 "cells": [
  {
   "cell_type": "markdown",
   "metadata": {},
   "source": [
    "### Layers : Fundamental blocks of Neural Network"
   ]
  },
  {
   "cell_type": "code",
   "execution_count": 1,
   "metadata": {},
   "outputs": [],
   "source": [
    "import torch\n",
    "from torch.nn import Linear, ReLU\n",
    "import torch.nn as nn\n",
    "import numpy as np\n",
    "from torch.autograd import Variable\n",
    "\n"
   ]
  },
  {
   "cell_type": "markdown",
   "metadata": {},
   "source": [
    "### Linear(in_features,out_features,bias)\n",
    "\n",
    "定義 輸入和輸出層的維度(weight的維度)"
   ]
  },
  {
   "cell_type": "code",
   "execution_count": 2,
   "metadata": {},
   "outputs": [
    {
     "data": {
      "text/plain": [
       "tensor([[ 1.3674, -0.1240, -0.1245, -0.5646,  1.0261]],\n",
       "       grad_fn=<AddmmBackward>)"
      ]
     },
     "execution_count": 2,
     "metadata": {},
     "output_type": "execute_result"
    }
   ],
   "source": [
    "myLayer = Linear(in_features=10,out_features=5,bias=True)\n",
    "inp = Variable(torch.randn(1,10))\n",
    "myLayer = Linear(in_features=10,out_features=5,bias=True) \n",
    "myLayer(inp)"
   ]
  },
  {
   "cell_type": "code",
   "execution_count": 3,
   "metadata": {},
   "outputs": [
    {
     "data": {
      "text/plain": [
       "Parameter containing:\n",
       "tensor([[ 0.1086, -0.0032, -0.1726, -0.2917, -0.2321, -0.1221,  0.0398, -0.2243,\n",
       "         -0.3114, -0.2054],\n",
       "        [ 0.0961,  0.0321,  0.1991, -0.1609, -0.2867, -0.1709, -0.2107,  0.2972,\n",
       "          0.0900, -0.2611],\n",
       "        [-0.3053,  0.1653, -0.0303, -0.2112, -0.1097, -0.1235,  0.2295, -0.0543,\n",
       "          0.2380, -0.0214],\n",
       "        [ 0.1242, -0.1319,  0.0426, -0.2045,  0.1032,  0.2621, -0.0854,  0.2583,\n",
       "          0.0328, -0.0680],\n",
       "        [-0.1783,  0.0088, -0.1117, -0.0364, -0.3002, -0.2273, -0.2780, -0.2134,\n",
       "         -0.0474,  0.2673]], requires_grad=True)"
      ]
     },
     "execution_count": 3,
     "metadata": {},
     "output_type": "execute_result"
    }
   ],
   "source": [
    "myLayer.weight"
   ]
  },
  {
   "cell_type": "code",
   "execution_count": 4,
   "metadata": {},
   "outputs": [
    {
     "data": {
      "text/plain": [
       "Parameter containing:\n",
       "tensor([ 0.0237, -0.2723, -0.1328,  0.1506,  0.1731], requires_grad=True)"
      ]
     },
     "execution_count": 4,
     "metadata": {},
     "output_type": "execute_result"
    }
   ],
   "source": [
    "myLayer.bias"
   ]
  },
  {
   "cell_type": "markdown",
   "metadata": {},
   "source": [
    "### Stacking Linear layers\n",
    "\n",
    "建立多層神經層透過迭代"
   ]
  },
  {
   "cell_type": "code",
   "execution_count": null,
   "metadata": {},
   "outputs": [
    {
     "data": {
      "text/plain": [
       "tensor([[0.2186, 0.3087]], grad_fn=<AddmmBackward>)"
      ]
     },
     "execution_count": 5,
     "metadata": {},
     "output_type": "execute_result"
    }
   ],
   "source": [
    "myLayer1 = Linear(10,5)\n",
    "myLayer2 = Linear(5,2)\n",
    "myLayer2(myLayer1(inp))"
   ]
  },
  {
   "cell_type": "markdown",
   "metadata": {},
   "source": [
    "### PyTorch Non-linear Activations\n",
    "\n",
    "使用兩種呼叫激勵函數的不同方式"
   ]
  },
  {
   "cell_type": "code",
   "execution_count": null,
   "metadata": {},
   "outputs": [
    {
     "data": {
      "text/plain": [
       "tensor([[1., 2., 0., 0.]])"
      ]
     },
     "execution_count": 6,
     "metadata": {},
     "output_type": "execute_result"
    }
   ],
   "source": [
    "sample_data = Variable(torch.Tensor([[1,2,-1,-1]])) \n",
    "myRelu = ReLU()\n",
    "myRelu(sample_data)\n"
   ]
  },
  {
   "cell_type": "code",
   "execution_count": null,
   "metadata": {},
   "outputs": [
    {
     "data": {
      "text/plain": [
       "tensor([[1., 2., 0., 0.]])"
      ]
     },
     "execution_count": 7,
     "metadata": {},
     "output_type": "execute_result"
    }
   ],
   "source": [
    "import torch.nn as nn\n",
    "import torch.nn.functional as F\n",
    "sample_data = Variable(torch.Tensor([[1,2,-1,-1]])) \n",
    "f = F.relu(sample_data) # Much simpler.\n",
    "f"
   ]
  },
  {
   "cell_type": "markdown",
   "metadata": {},
   "source": [
    "### Neural Network \n",
    "\n",
    "利用類別建立多層神經網路"
   ]
  },
  {
   "cell_type": "code",
   "execution_count": null,
   "metadata": {},
   "outputs": [
    {
     "name": "stdout",
     "output_type": "stream",
     "text": [
      "MyFirstNetwork(\n",
      "  (layer1): Linear(in_features=50176, out_features=3136, bias=True)\n",
      "  (layer2): Linear(in_features=3136, out_features=2, bias=True)\n",
      ")\n"
     ]
    }
   ],
   "source": [
    "class MyFirstNetwork(nn.Module):\n",
    "    def __init__(self,input_size,hidden_size,output_size):\n",
    "        super(MyFirstNetwork,self).__init__() \n",
    "        self.layer1 = nn.Linear(input_size,hidden_size) \n",
    "        self.layer2 = nn.Linear(hidden_size,output_size)\n",
    "    def layer(self):\n",
    "        first  = [self.layer1.weight.data,self.layer1.bias.data]\n",
    "        second = [self.layer2.weight.data,self.layer2.bias.data]\n",
    "        return first,second\n",
    "    def forward(self,input): \n",
    "        out = self.layer1(input) \n",
    "        out = F.relu(out)\n",
    "        out = self.layer2(out) \n",
    "        out = F.softmax(out,dim=1)\n",
    "        return out\n",
    "\n",
    "model = MyFirstNetwork(224*224,56*56,2)\n",
    "print(model)"
   ]
  },
  {
   "cell_type": "markdown",
   "metadata": {},
   "source": [
    "### Loss\n",
    "\n",
    "介紹兩種不同的loss function"
   ]
  },
  {
   "cell_type": "code",
   "execution_count": null,
   "metadata": {},
   "outputs": [],
   "source": [
    "loss = nn.MSELoss()\n",
    "input = Variable(torch.randn(3, 5), requires_grad=True) \n",
    "target = Variable(torch.randn(3, 5))\n",
    "output = loss(input, target)\n",
    "output.backward()"
   ]
  },
  {
   "cell_type": "markdown",
   "metadata": {},
   "source": [
    "分類問題常用的loss function: 交叉熵(cross-entropy)"
   ]
  },
  {
   "cell_type": "code",
   "execution_count": null,
   "metadata": {},
   "outputs": [],
   "source": [
    "def cross_entropy(true_label, prediction):\n",
    "    if true_label == 1:\n",
    "        return -log(prediction)\n",
    "    else:\n",
    "        return -log(1 - prediction)"
   ]
  },
  {
   "cell_type": "markdown",
   "metadata": {},
   "source": [
    "### loss(x,class)=−x[class]+log(∑exp(x[j]))\n",
    "\n",
    "利用上述公式自訂函數與內建函數比較"
   ]
  },
  {
   "cell_type": "code",
   "execution_count": null,
   "metadata": {},
   "outputs": [
    {
     "name": "stdout",
     "output_type": "stream",
     "text": [
      "1.659788966178894\n",
      "1.659788995200539\n"
     ]
    }
   ],
   "source": [
    "loss = nn.CrossEntropyLoss()\n",
    "input = Variable(torch.randn(3, 5), requires_grad=True) \n",
    "target = Variable(torch.LongTensor(3).random_(5)) \n",
    "output = loss(input, target)\n",
    "output.backward()\n",
    "print(output.data.item())\n",
    "\n",
    "def CrossEntropyLoss(input,target):\n",
    "    sum = 0\n",
    "    for i in range(len(input)):\n",
    "        tmp = 0\n",
    "        for j in range(len(input[0])):\n",
    "            tmp+=np.e**(input[i][j])\n",
    "        sum+=-input[i][target[i]]+np.log(tmp)\n",
    "    return float(sum)/len(input)\n",
    "\n",
    "print(CrossEntropyLoss(input.data.numpy(),target.data.numpy()))"
   ]
  },
  {
   "cell_type": "markdown",
   "metadata": {},
   "source": [
    "### Optimizer\n",
    "\n",
    "將多個圖形利用自訂的類別建立成一個物件"
   ]
  },
  {
   "cell_type": "code",
   "execution_count": null,
   "metadata": {},
   "outputs": [],
   "source": [
    "from glob import glob\n",
    "from PIL import Image\n",
    "from torch.utils.data import Dataset\n",
    "# ### Optimizer\n",
    "class DogsAndCatsDataset(Dataset):\n",
    "    def __init__(self,root_dir,size=(224,224)):\n",
    "        self.files = glob(root_dir)\n",
    "        self.size = size\n",
    "        self.arr = np.array([[0],[1]],int)\n",
    "    def __len__(self):\n",
    "        return len(self.files)\n",
    "    def __getitem__(self,idx):\n",
    "        input = Variable(torch.from_numpy(np.asarray(Image.open(self.files[idx]).resize((1,224*224)), float)))\n",
    "        if(idx%2==0):\n",
    "            target = Variable(torch.from_numpy(self.arr[0]))\n",
    "        else:\n",
    "            target = Variable(torch.from_numpy(self.arr[1])) \n",
    "        return input,target\n",
    "\n",
    "dataset=DogsAndCatsDataset(\"D:/program/vscode_workspace/private/data/dogs-vs-cats/classifier/*.jpg\")"
   ]
  },
  {
   "cell_type": "markdown",
   "metadata": {},
   "source": [
    "### Training"
   ]
  },
  {
   "cell_type": "code",
   "execution_count": null,
   "metadata": {},
   "outputs": [
    {
     "name": "stdout",
     "output_type": "stream",
     "text": [
      "Training......\n",
      "epoch 0\n",
      "  Completion ratio : 50.0%\n",
      "  Completion ratio : 98.33333333333333%\n",
      "epoch 1\n",
      "  Completion ratio : 46.666666666666664%\n",
      "  Completion ratio : 95.0%\n",
      "epoch 2\n",
      "  Completion ratio : 43.333333333333336%\n",
      "  Completion ratio : 91.66666666666667%\n",
      "epoch 3\n",
      "  Completion ratio : 40.0%\n",
      "  Completion ratio : 88.33333333333333%\n",
      "epoch 4\n",
      "  Completion ratio : 36.666666666666664%\n",
      "  Completion ratio : 86.66666666666667%\n",
      "epoch 5\n",
      "  Completion ratio : 35.0%\n",
      "  Completion ratio : 83.33333333333333%\n",
      "epoch 6\n",
      "  Completion ratio : 31.666666666666668%\n",
      "  Completion ratio : 81.66666666666667%\n",
      "epoch 7\n",
      "  Completion ratio : 35.0%\n",
      "  Completion ratio : 86.66666666666667%\n",
      "epoch 8\n",
      "  Completion ratio : 40.0%\n",
      "  Completion ratio : 90.0%\n",
      "epoch 9\n",
      "  Completion ratio : 40.0%\n"
     ]
    }
   ],
   "source": [
    "import torch.optim as optim\n",
    "from time import perf_counter\n",
    "loss_fn = nn.CrossEntropyLoss()\n",
    "optimizer = optim.SGD(model.parameters(), lr = 0.0001,momentum=0.9)\n",
    "print(\"Training......\")\n",
    "\n",
    "t1 = perf_counter()\n",
    "t  = t1\n",
    "for i in range(10):\n",
    "    index = 0\n",
    "    print(\"epoch\",i)\n",
    "    for input, target in dataset:\n",
    "        data=input[:,:,0].view(1,-1).float()+input[:,:,1].view(1,-1).float()+input[:,:,2].view(1,-1).float()\n",
    "        output = model(data/(3*255.))\n",
    "        optimizer.zero_grad()\n",
    "        loss = loss_fn(output, target.long())\n",
    "        loss.backward()\n",
    "        optimizer.step()\n",
    "        index+=1\n",
    "        if(perf_counter()-t > 30):\n",
    "            t = perf_counter()\n",
    "            print(\"  Completion ratio :\",str(index*100.0/60)+\"%\")\n",
    "t2  = perf_counter()\n",
    "\n",
    "print(model)\n",
    "print(\"--------------------------------------\")\n",
    "print(\"layer1 :\",\"\\nweight :\\n\",model.layer()[0][0].numpy(),\"\\nbias :\\n\",model.layer()[0][1].numpy())\n",
    "print(\"\")\n",
    "print(\"layer2 :\",\"\\nweight :\\n\",model.layer()[1][0].numpy(),\"\\nbias :\\n\",model.layer()[1][1].numpy())\n",
    "print(\"time :\",str((t2-t1)/60.0)+\" min\")\n",
    "\n",
    "print(\"\\ntest.....\")\n",
    "test = DogsAndCatsDataset(\"D:/program/vscode_workspace/private/data/dogs-vs-cats/sample_test/*.jpg\")\n",
    "data1=test[0][0][:,:,0].view(1,-1).float()+test[0][0][:,:,1].view(1,-1).float()+test[0][0][:,:,2].view(1,-1).float()\n",
    "data2=test[1][0][:,:,0].view(1,-1).float()+test[1][0][:,:,1].view(1,-1).float()+test[1][0][:,:,2].view(1,-1).float()\n",
    "output1 = model(data1/(3*255.))\n",
    "output2 = model(data2/(3*255.))\n",
    "print(output1)\n",
    "print(output2)"
   ]
  }
 ],
 "metadata": {
  "kernelspec": {
   "display_name": "Python 3",
   "language": "python",
   "name": "python3"
  },
  "language_info": {
   "codemirror_mode": {
    "name": "ipython",
    "version": 3
   },
   "file_extension": ".py",
   "mimetype": "text/x-python",
   "name": "python",
   "nbconvert_exporter": "python",
   "pygments_lexer": "ipython3",
   "version": "3.7.2"
  }
 },
 "nbformat": 4,
 "nbformat_minor": 2
}
