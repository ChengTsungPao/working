{
 "cells": [
  {
   "cell_type": "markdown",
   "metadata": {},
   "source": [
    "### Layers : Fundamental blocks of Neural Network"
   ]
  },
  {
   "cell_type": "code",
   "execution_count": 1,
   "metadata": {},
   "outputs": [],
   "source": [
    "import torch\n",
    "from torch.nn import Linear, ReLU\n",
    "import torch.nn as nn\n",
    "import numpy as np\n",
    "from torch.autograd import Variable\n",
    "\n"
   ]
  },
  {
   "cell_type": "markdown",
   "metadata": {},
   "source": [
    "### Linear(in_features,out_features,bias)\n",
    "\n",
    "定義 輸入和輸出層的維度(weight的維度)"
   ]
  },
  {
   "cell_type": "code",
   "execution_count": 2,
   "metadata": {},
   "outputs": [
    {
     "data": {
      "text/plain": [
       "tensor([[-0.5043, -0.9452, -0.2227,  0.6060, -0.0637]],\n",
       "       grad_fn=<AddmmBackward>)"
      ]
     },
     "execution_count": 2,
     "metadata": {},
     "output_type": "execute_result"
    }
   ],
   "source": [
    "myLayer = Linear(in_features=10,out_features=5,bias=True)\n",
    "inp = Variable(torch.randn(1,10))\n",
    "myLayer = Linear(in_features=10,out_features=5,bias=True) \n",
    "myLayer(inp)"
   ]
  },
  {
   "cell_type": "code",
   "execution_count": 3,
   "metadata": {},
   "outputs": [
    {
     "data": {
      "text/plain": [
       "Parameter containing:\n",
       "tensor([[-0.0945,  0.2008, -0.1593,  0.1647,  0.1253, -0.3072,  0.2887, -0.1306,\n",
       "         -0.1266, -0.0958],\n",
       "        [-0.0722,  0.0916, -0.2821,  0.0060,  0.0675, -0.1782, -0.0556, -0.3038,\n",
       "         -0.1205, -0.2765],\n",
       "        [-0.1606,  0.2588, -0.3080,  0.2579,  0.1673,  0.1432,  0.0645, -0.2425,\n",
       "         -0.1204, -0.0503],\n",
       "        [-0.2912, -0.0441,  0.2624,  0.0130,  0.2188, -0.0714,  0.3049,  0.2062,\n",
       "          0.0970,  0.0201],\n",
       "        [-0.1975,  0.1083, -0.0462, -0.1595, -0.0147,  0.0779,  0.1128, -0.0493,\n",
       "          0.0009, -0.0293]], requires_grad=True)"
      ]
     },
     "execution_count": 3,
     "metadata": {},
     "output_type": "execute_result"
    }
   ],
   "source": [
    "myLayer.weight"
   ]
  },
  {
   "cell_type": "code",
   "execution_count": 4,
   "metadata": {},
   "outputs": [
    {
     "data": {
      "text/plain": [
       "Parameter containing:\n",
       "tensor([-0.0160, -0.0228, -0.0096, -0.0321, -0.0408], requires_grad=True)"
      ]
     },
     "execution_count": 4,
     "metadata": {},
     "output_type": "execute_result"
    }
   ],
   "source": [
    "myLayer.bias"
   ]
  },
  {
   "cell_type": "markdown",
   "metadata": {},
   "source": [
    "### Stacking Linear layers\n",
    "\n",
    "建立多層神經層透過迭代"
   ]
  },
  {
   "cell_type": "code",
   "execution_count": 5,
   "metadata": {},
   "outputs": [
    {
     "data": {
      "text/plain": [
       "tensor([[-0.1608,  0.2106]], grad_fn=<AddmmBackward>)"
      ]
     },
     "execution_count": 5,
     "metadata": {},
     "output_type": "execute_result"
    }
   ],
   "source": [
    "myLayer1 = Linear(10,5)\n",
    "myLayer2 = Linear(5,2)\n",
    "myLayer2(myLayer1(inp))"
   ]
  },
  {
   "cell_type": "markdown",
   "metadata": {},
   "source": [
    "### PyTorch Non-linear Activations\n",
    "\n",
    "使用兩種呼叫激勵函數的不同方式"
   ]
  },
  {
   "cell_type": "code",
   "execution_count": 6,
   "metadata": {},
   "outputs": [
    {
     "data": {
      "text/plain": [
       "tensor([[1., 2., 0., 0.]])"
      ]
     },
     "execution_count": 6,
     "metadata": {},
     "output_type": "execute_result"
    }
   ],
   "source": [
    "sample_data = Variable(torch.Tensor([[1,2,-1,-1]])) \n",
    "myRelu = ReLU()\n",
    "myRelu(sample_data)\n"
   ]
  },
  {
   "cell_type": "code",
   "execution_count": 7,
   "metadata": {},
   "outputs": [
    {
     "data": {
      "text/plain": [
       "tensor([[1., 2., 0., 0.]])"
      ]
     },
     "execution_count": 7,
     "metadata": {},
     "output_type": "execute_result"
    }
   ],
   "source": [
    "import torch.nn as nn\n",
    "import torch.nn.functional as F\n",
    "sample_data = Variable(torch.Tensor([[1,2,-1,-1]])) \n",
    "f = F.relu(sample_data) # Much simpler.\n",
    "f"
   ]
  },
  {
   "cell_type": "markdown",
   "metadata": {},
   "source": [
    "### Neural Network \n",
    "\n",
    "利用類別建立多層神經網路"
   ]
  },
  {
   "cell_type": "code",
   "execution_count": 8,
   "metadata": {},
   "outputs": [
    {
     "name": "stdout",
     "output_type": "stream",
     "text": [
      "MyFirstNetwork(\n",
      "  (layer1): Linear(in_features=37632, out_features=3136, bias=True)\n",
      "  (layer2): Linear(in_features=3136, out_features=2, bias=True)\n",
      ")\n"
     ]
    }
   ],
   "source": [
    "class MyFirstNetwork(nn.Module):\n",
    "    def __init__(self,input_size,hidden_size,output_size):\n",
    "        super(MyFirstNetwork,self).__init__() \n",
    "        self.layer1 = nn.Linear(input_size,hidden_size) \n",
    "        self.layer2 = nn.Linear(hidden_size,output_size)\n",
    "    def layer(self):\n",
    "        first  = [self.layer1.weight.data,self.layer1.bias.data]\n",
    "        second = [self.layer2.weight.data,self.layer2.bias.data]\n",
    "        return first,second\n",
    "    def forward(self,input): \n",
    "        out = self.layer1(input) \n",
    "        out = F.relu(out)\n",
    "        out = self.layer2(out) \n",
    "        out = F.softmax(out,dim=1)\n",
    "        return out\n",
    "\n",
    "model = MyFirstNetwork(112*112*3,56*56,2)\n",
    "print(model)"
   ]
  },
  {
   "cell_type": "markdown",
   "metadata": {},
   "source": [
    "### Loss\n",
    "\n",
    "介紹兩種不同的loss function"
   ]
  },
  {
   "cell_type": "code",
   "execution_count": 9,
   "metadata": {},
   "outputs": [],
   "source": [
    "loss = nn.MSELoss()\n",
    "input = Variable(torch.randn(3, 5), requires_grad=True) \n",
    "target = Variable(torch.randn(3, 5))\n",
    "output = loss(input, target)\n",
    "output.backward()"
   ]
  },
  {
   "cell_type": "markdown",
   "metadata": {},
   "source": [
    "分類問題常用的loss function: 交叉熵(cross-entropy)"
   ]
  },
  {
   "cell_type": "code",
   "execution_count": 10,
   "metadata": {},
   "outputs": [],
   "source": [
    "def cross_entropy(true_label, prediction):\n",
    "    if true_label == 1:\n",
    "        return -log(prediction)\n",
    "    else:\n",
    "        return -log(1 - prediction)"
   ]
  },
  {
   "cell_type": "markdown",
   "metadata": {},
   "source": [
    "### loss(x,class)=−x[class]+log(∑exp(x[j]))\n",
    "\n",
    "利用上述公式自訂函數與內建函數比較"
   ]
  },
  {
   "cell_type": "code",
   "execution_count": 11,
   "metadata": {},
   "outputs": [
    {
     "name": "stdout",
     "output_type": "stream",
     "text": [
      "1.5371613502502441\n",
      "1.5371613815822813\n"
     ]
    }
   ],
   "source": [
    "loss = nn.CrossEntropyLoss()\n",
    "input = Variable(torch.randn(3, 5), requires_grad=True) \n",
    "target = Variable(torch.LongTensor(3).random_(5)) \n",
    "output = loss(input, target)\n",
    "output.backward()\n",
    "print(output.data.item())\n",
    "\n",
    "def CrossEntropyLoss(input,target):\n",
    "    sum = 0\n",
    "    for i in range(len(input)):\n",
    "        tmp = 0\n",
    "        for j in range(len(input[0])):\n",
    "            tmp+=np.e**(input[i][j])\n",
    "        sum+=-input[i][target[i]]+np.log(tmp)\n",
    "    return float(sum)/len(input)\n",
    "\n",
    "print(CrossEntropyLoss(input.data.numpy(),target.data.numpy()))"
   ]
  },
  {
   "cell_type": "markdown",
   "metadata": {},
   "source": [
    "### Optimizer\n",
    "\n",
    "將多個圖形利用自訂的類別建立成一個物件"
   ]
  },
  {
   "cell_type": "code",
   "execution_count": 12,
   "metadata": {},
   "outputs": [],
   "source": [
    "from glob import glob\n",
    "from PIL import Image\n",
    "from torch.utils.data import Dataset\n",
    "# ### Optimizer\n",
    "class DogsAndCatsDataset(Dataset):\n",
    "    def __init__(self,root_dir,size=(112,112)):\n",
    "        self.files = glob(root_dir)\n",
    "        self.size = size\n",
    "        self.arr = np.array([[0],[1]],int)\n",
    "    def __len__(self):\n",
    "        return len(self.files)\n",
    "    def __getitem__(self,idx):\n",
    "        input = Variable(torch.from_numpy(np.asarray(Image.open(self.files[idx]).resize((self.size)), float).reshape(1,-1)))\n",
    "        if(idx%2==0):\n",
    "            target = Variable(torch.from_numpy(self.arr[0]))\n",
    "        else:\n",
    "            target = Variable(torch.from_numpy(self.arr[1])) \n",
    "        return input,target\n",
    "\n",
    "dataset=DogsAndCatsDataset(\"D:/program/vscode_workspace/private/data/dogs-vs-cats/classifier/*.jpg\")"
   ]
  },
  {
   "cell_type": "markdown",
   "metadata": {},
   "source": [
    "### Training"
   ]
  },
  {
   "cell_type": "code",
   "execution_count": 13,
   "metadata": {},
   "outputs": [
    {
     "name": "stdout",
     "output_type": "stream",
     "text": [
      "Training......\n",
      "epoch 0\n",
      "  Completion ratio : 51.666666666666664%\n",
      "epoch 1\n",
      "  Completion ratio : 3.3333333333333335%\n",
      "  Completion ratio : 55.0%\n",
      "epoch 2\n",
      "  Completion ratio : 5.0%\n",
      "  Completion ratio : 58.333333333333336%\n",
      "epoch 3\n",
      "  Completion ratio : 8.333333333333334%\n",
      "  Completion ratio : 61.666666666666664%\n",
      "epoch 4\n",
      "  Completion ratio : 11.666666666666666%\n",
      "  Completion ratio : 65.0%\n",
      "epoch 5\n",
      "  Completion ratio : 13.333333333333334%\n",
      "  Completion ratio : 61.666666666666664%\n",
      "epoch 6\n",
      "  Completion ratio : 6.666666666666667%\n",
      "  Completion ratio : 55.0%\n",
      "  Completion ratio : 98.33333333333333%\n",
      "epoch 7\n",
      "  Completion ratio : 45.0%\n",
      "  Completion ratio : 88.33333333333333%\n",
      "epoch 8\n",
      "  Completion ratio : 35.0%\n",
      "  Completion ratio : 80.0%\n",
      "epoch 9\n",
      "  Completion ratio : 25.0%\n",
      "  Completion ratio : 70.0%\n",
      "MyFirstNetwork(\n",
      "  (layer1): Linear(in_features=37632, out_features=3136, bias=True)\n",
      "  (layer2): Linear(in_features=3136, out_features=2, bias=True)\n",
      ")\n",
      "--------------------------------------\n",
      "layer1 : \n",
      "weight :\n",
      " [[-5.1796278e-03 -5.6028753e-03 -4.8946589e-03 ... -1.5884829e-05\n",
      "   3.2322044e-03 -4.9751969e-03]\n",
      " [ 3.4724167e-03  1.9739959e-03  1.8980965e-03 ...  2.5953606e-03\n",
      "  -2.6170448e-03 -3.8126528e-03]\n",
      " [-2.8621955e-03  4.0407772e-03  2.8427832e-03 ... -1.7803402e-03\n",
      "  -3.0916140e-03 -6.4902473e-05]\n",
      " ...\n",
      " [-2.6578144e-03  1.4502890e-03  1.3372360e-03 ...  4.9672173e-03\n",
      "   3.7717426e-03  2.2009083e-03]\n",
      " [ 3.7805054e-05 -1.5769495e-03 -5.5409218e-03 ... -4.9009365e-03\n",
      "  -4.8927534e-03  4.9930494e-03]\n",
      " [-2.3646408e-03  2.4004658e-03  3.5612620e-03 ...  2.2012498e-03\n",
      "   3.3195773e-03 -4.5197685e-03]] \n",
      "bias :\n",
      " [-0.00170626  0.00293933  0.00139254 ...  0.00034954  0.00172485\n",
      " -0.00275573]\n",
      "\n",
      "layer2 : \n",
      "weight :\n",
      " [[ 0.00183448  0.01062655  0.00403015 ... -0.00585421  0.00415344\n",
      "   0.0075279 ]\n",
      " [ 0.01603874  0.00032954  0.00323918 ... -0.01762636  0.00430364\n",
      "   0.00724887]] \n",
      "bias :\n",
      " [ 0.01706091 -0.01724096]\n",
      "time : 10.545101021416666 min\n",
      "\n",
      "test.....\n",
      "tensor([[1., 0.]], grad_fn=<SoftmaxBackward>)\n",
      "tensor([[1., 0.]], grad_fn=<SoftmaxBackward>)\n"
     ]
    }
   ],
   "source": [
    "import torch.optim as optim\n",
    "from time import perf_counter\n",
    "loss_fn = nn.CrossEntropyLoss()\n",
    "optimizer = optim.Adam(model.parameters(), lr = 0.0001)\n",
    "print(\"Training......\")\n",
    "\n",
    "t1 = perf_counter()\n",
    "t  = t1\n",
    "for i in range(10):\n",
    "    index = 0\n",
    "    print(\"epoch\",i)\n",
    "    for input, target in dataset:\n",
    "        output = model(input.float()/(3*(255.)**2)**0.5)\n",
    "        optimizer.zero_grad()\n",
    "        loss = loss_fn(output, target.long())\n",
    "        loss.backward()\n",
    "        optimizer.step()\n",
    "        index+=1\n",
    "        if(perf_counter()-t > 30):\n",
    "            t = perf_counter()\n",
    "            print(\"  Completion ratio :\",str(index*100.0/60)+\"%\")\n",
    "t2  = perf_counter()\n",
    "\n",
    "print(model)\n",
    "print(\"--------------------------------------\")\n",
    "print(\"layer1 :\",\"\\nweight :\\n\",model.layer()[0][0].numpy(),\"\\nbias :\\n\",model.layer()[0][1].numpy())\n",
    "print(\"\")\n",
    "print(\"layer2 :\",\"\\nweight :\\n\",model.layer()[1][0].numpy(),\"\\nbias :\\n\",model.layer()[1][1].numpy())\n",
    "print(\"time :\",str((t2-t1)/60.0)+\" min\")\n",
    "\n",
    "print(\"\\ntest.....\")\n",
    "test = DogsAndCatsDataset(\"D:/program/vscode_workspace/private/data/dogs-vs-cats/sample_test/*.jpg\")\n",
    "output1 = test[0][0]\n",
    "output2 = test[1][0]\n",
    "output1 = model(output1.float())\n",
    "output2 = model(output2 .float())\n",
    "print(output1)\n",
    "print(output2)"
   ]
  }
 ],
 "metadata": {
  "kernelspec": {
   "display_name": "Python 3",
   "language": "python",
   "name": "python3"
  },
  "language_info": {
   "codemirror_mode": {
    "name": "ipython",
    "version": 3
   },
   "file_extension": ".py",
   "mimetype": "text/x-python",
   "name": "python",
   "nbconvert_exporter": "python",
   "pygments_lexer": "ipython3",
   "version": "3.7.2"
  }
 },
 "nbformat": 4,
 "nbformat_minor": 2
}
