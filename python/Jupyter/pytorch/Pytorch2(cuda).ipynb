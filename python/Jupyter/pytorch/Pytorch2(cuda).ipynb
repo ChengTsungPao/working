{
 "cells": [
  {
   "cell_type": "markdown",
   "metadata": {},
   "source": [
    "### Layers : Fundamental blocks of Neural Network"
   ]
  },
  {
   "cell_type": "code",
   "execution_count": 1,
   "metadata": {},
   "outputs": [],
   "source": [
    "import torch\n",
    "from torch.nn import Linear, ReLU\n",
    "import torch.nn as nn\n",
    "import numpy as np\n",
    "from torch.autograd import Variable\n",
    "\n"
   ]
  },
  {
   "cell_type": "markdown",
   "metadata": {},
   "source": [
    "### Linear(in_features,out_features,bias)\n",
    "\n",
    "定義 輸入和輸出層的維度(weight的維度)"
   ]
  },
  {
   "cell_type": "code",
   "execution_count": 2,
   "metadata": {},
   "outputs": [
    {
     "data": {
      "text/plain": [
       "tensor([[-0.0849,  0.0905,  0.7727,  1.3033,  0.1889]],\n",
       "       grad_fn=<AddmmBackward>)"
      ]
     },
     "execution_count": 2,
     "metadata": {},
     "output_type": "execute_result"
    }
   ],
   "source": [
    "myLayer = Linear(in_features=10,out_features=5,bias=True)\n",
    "inp = Variable(torch.randn(1,10))\n",
    "myLayer = Linear(in_features=10,out_features=5,bias=True) \n",
    "myLayer(inp)"
   ]
  },
  {
   "cell_type": "code",
   "execution_count": 3,
   "metadata": {},
   "outputs": [
    {
     "data": {
      "text/plain": [
       "Parameter containing:\n",
       "tensor([[-0.2387,  0.2461,  0.0400,  0.3149, -0.0983, -0.2933, -0.2519,  0.1193,\n",
       "          0.1335, -0.2589],\n",
       "        [ 0.1351,  0.0382,  0.2531,  0.1099,  0.1777, -0.2558, -0.1711, -0.0573,\n",
       "          0.0229, -0.1513],\n",
       "        [ 0.1416, -0.1679,  0.0619,  0.0597, -0.2159, -0.3015, -0.0551,  0.2016,\n",
       "         -0.2469, -0.2178],\n",
       "        [ 0.1052, -0.1095, -0.0971,  0.2633,  0.0479,  0.1643, -0.2891,  0.2123,\n",
       "         -0.2719, -0.2520],\n",
       "        [ 0.2962,  0.1138,  0.2381,  0.2380, -0.1595, -0.0852, -0.0812, -0.1172,\n",
       "         -0.1722, -0.2352]], requires_grad=True)"
      ]
     },
     "execution_count": 3,
     "metadata": {},
     "output_type": "execute_result"
    }
   ],
   "source": [
    "myLayer.weight"
   ]
  },
  {
   "cell_type": "code",
   "execution_count": 4,
   "metadata": {},
   "outputs": [
    {
     "data": {
      "text/plain": [
       "Parameter containing:\n",
       "tensor([ 0.1728,  0.0194,  0.2135, -0.3099,  0.2750], requires_grad=True)"
      ]
     },
     "execution_count": 4,
     "metadata": {},
     "output_type": "execute_result"
    }
   ],
   "source": [
    "myLayer.bias"
   ]
  },
  {
   "cell_type": "markdown",
   "metadata": {},
   "source": [
    "### Stacking Linear layers\n",
    "\n",
    "建立多層神經層透過迭代"
   ]
  },
  {
   "cell_type": "code",
   "execution_count": 5,
   "metadata": {},
   "outputs": [
    {
     "data": {
      "text/plain": [
       "tensor([[-0.0013,  0.7794]], grad_fn=<AddmmBackward>)"
      ]
     },
     "execution_count": 5,
     "metadata": {},
     "output_type": "execute_result"
    }
   ],
   "source": [
    "myLayer1 = Linear(10,5)\n",
    "myLayer2 = Linear(5,2)\n",
    "myLayer2(myLayer1(inp))"
   ]
  },
  {
   "cell_type": "markdown",
   "metadata": {},
   "source": [
    "### PyTorch Non-linear Activations\n",
    "\n",
    "使用兩種呼叫激勵函數的不同方式"
   ]
  },
  {
   "cell_type": "code",
   "execution_count": 6,
   "metadata": {},
   "outputs": [
    {
     "data": {
      "text/plain": [
       "tensor([[1., 2., 0., 0.]])"
      ]
     },
     "execution_count": 6,
     "metadata": {},
     "output_type": "execute_result"
    }
   ],
   "source": [
    "sample_data = Variable(torch.Tensor([[1,2,-1,-1]])) \n",
    "myRelu = ReLU()\n",
    "myRelu(sample_data)\n"
   ]
  },
  {
   "cell_type": "code",
   "execution_count": 7,
   "metadata": {},
   "outputs": [
    {
     "data": {
      "text/plain": [
       "tensor([[1., 2., 0., 0.]])"
      ]
     },
     "execution_count": 7,
     "metadata": {},
     "output_type": "execute_result"
    }
   ],
   "source": [
    "import torch.nn as nn\n",
    "import torch.nn.functional as F\n",
    "sample_data = Variable(torch.Tensor([[1,2,-1,-1]])) \n",
    "f = F.relu(sample_data) # Much simpler.\n",
    "f"
   ]
  },
  {
   "cell_type": "markdown",
   "metadata": {},
   "source": [
    "### Neural Network \n",
    "\n",
    "利用類別建立多層神經網路"
   ]
  },
  {
   "cell_type": "code",
   "execution_count": 8,
   "metadata": {},
   "outputs": [
    {
     "name": "stdout",
     "output_type": "stream",
     "text": [
      "MyFirstNetwork(\n",
      "  (layer1): Linear(in_features=23716, out_features=3136, bias=True)\n",
      "  (layer2): Linear(in_features=3136, out_features=2, bias=True)\n",
      ")\n"
     ]
    }
   ],
   "source": [
    "class MyFirstNetwork(nn.Module):\n",
    "    def __init__(self,input_size,hidden_size,output_size):\n",
    "        super(MyFirstNetwork,self).__init__() \n",
    "        self.layer1 = nn.Linear(input_size,hidden_size) \n",
    "        self.layer2 = nn.Linear(hidden_size,output_size)\n",
    "    def layer(self):\n",
    "        first  = [self.layer1.weight.data,self.layer1.bias.data]\n",
    "        second = [self.layer2.weight.data,self.layer2.bias.data]\n",
    "        return first,second\n",
    "    def forward(self,input): \n",
    "        out = self.layer1(input) \n",
    "        out = F.relu(out)\n",
    "        out = self.layer2(out) \n",
    "        out = F.softmax(out,dim=1)\n",
    "        return out\n",
    "\n",
    "model = MyFirstNetwork(154*154,56*56,2)\n",
    "model = model.cuda()\n",
    "print(model)"
   ]
  },
  {
   "cell_type": "markdown",
   "metadata": {},
   "source": [
    "### Loss\n",
    "\n",
    "介紹兩種不同的loss function"
   ]
  },
  {
   "cell_type": "code",
   "execution_count": 9,
   "metadata": {},
   "outputs": [],
   "source": [
    "loss = nn.MSELoss()\n",
    "input = Variable(torch.randn(3, 5), requires_grad=True) \n",
    "target = Variable(torch.randn(3, 5))\n",
    "output = loss(input, target)\n",
    "output.backward()"
   ]
  },
  {
   "cell_type": "markdown",
   "metadata": {},
   "source": [
    "分類問題常用的loss function: 交叉熵(cross-entropy)"
   ]
  },
  {
   "cell_type": "code",
   "execution_count": 10,
   "metadata": {},
   "outputs": [],
   "source": [
    "def cross_entropy(true_label, prediction):\n",
    "    if true_label == 1:\n",
    "        return -log(prediction)\n",
    "    else:\n",
    "        return -log(1 - prediction)"
   ]
  },
  {
   "cell_type": "markdown",
   "metadata": {},
   "source": [
    "### loss(x,class)=−x[class]+log(∑exp(x[j]))\n",
    "\n",
    "利用上述公式自訂函數與內建函數比較"
   ]
  },
  {
   "cell_type": "code",
   "execution_count": 11,
   "metadata": {},
   "outputs": [
    {
     "name": "stdout",
     "output_type": "stream",
     "text": [
      "2.2620832920074463\n",
      "2.262083344402672\n"
     ]
    }
   ],
   "source": [
    "loss = nn.CrossEntropyLoss()\n",
    "input = Variable(torch.randn(3, 5), requires_grad=True) \n",
    "target = Variable(torch.LongTensor(3).random_(5)) \n",
    "output = loss(input, target)\n",
    "output.backward()\n",
    "print(output.data.item())\n",
    "\n",
    "def CrossEntropyLoss(input,target):\n",
    "    sum = 0\n",
    "    for i in range(len(input)):\n",
    "        tmp = 0\n",
    "        for j in range(len(input[0])):\n",
    "            tmp+=np.e**(input[i][j])\n",
    "        sum+=-input[i][target[i]]+np.log(tmp)\n",
    "    return float(sum)/len(input)\n",
    "\n",
    "print(CrossEntropyLoss(input.data.numpy(),target.data.numpy()))"
   ]
  },
  {
   "cell_type": "markdown",
   "metadata": {},
   "source": [
    "### Optimizer\n",
    "\n",
    "將多個圖形利用自訂的類別建立成一個物件"
   ]
  },
  {
   "cell_type": "code",
   "execution_count": 12,
   "metadata": {},
   "outputs": [],
   "source": [
    "from glob import glob\n",
    "from PIL import Image\n",
    "from torch.utils.data import Dataset\n",
    "# ### Optimizer\n",
    "class DogsAndCatsDataset(Dataset):\n",
    "    def __init__(self,root_dir,size=(154,154)):\n",
    "        self.files = glob(root_dir)\n",
    "        self.size = size\n",
    "        self.arr = np.array([[0],[1]],int)\n",
    "    def __len__(self):\n",
    "        return len(self.files)\n",
    "    def __getitem__(self,idx):\n",
    "        input = Variable(torch.from_numpy(np.asarray(Image.open(self.files[idx]).resize((self.size)).convert('L'), float).reshape(1,-1)))  \n",
    "        if(idx<1000):\n",
    "            target = Variable(torch.from_numpy(self.arr[0]))\n",
    "        else:\n",
    "            target = Variable(torch.from_numpy(self.arr[1])) \n",
    "        return input,target\n",
    "\n",
    "dataset = DogsAndCatsDataset(\"D:/program/vscode_workspace/private/data/dogs-vs-cats/classifier2/*.jpg\")\n",
    "test = DogsAndCatsDataset(\"D:/program/vscode_workspace/private/data/dogs-vs-cats/sample_test/*.jpg\")"
   ]
  },
  {
   "cell_type": "markdown",
   "metadata": {},
   "source": [
    "### Training"
   ]
  },
  {
   "cell_type": "code",
   "execution_count": 13,
   "metadata": {
    "scrolled": true
   },
   "outputs": [
    {
     "name": "stdout",
     "output_type": "stream",
     "text": [
      "epoch 0\n",
      "  Completion ratio : 8.7%\n",
      "  Completion ratio : 17.45%\n",
      "  Completion ratio : 26.15%\n",
      "  Completion ratio : 34.85%\n",
      "  Completion ratio : 43.55%\n",
      "  Completion ratio : 52.25%\n",
      "  Completion ratio : 60.95%\n",
      "  Completion ratio : 69.65%\n",
      "  Completion ratio : 78.35%\n",
      "  Completion ratio : 87.05%\n",
      "  Completion ratio : 95.75%\n",
      "  accuracy : 50.0%\n",
      "epoch 1\n",
      "  Completion ratio : 4.45%\n",
      "  Completion ratio : 13.15%\n",
      "  Completion ratio : 21.85%\n",
      "  Completion ratio : 30.55%\n",
      "  Completion ratio : 39.25%\n",
      "  Completion ratio : 47.95%\n",
      "  Completion ratio : 56.65%\n",
      "  Completion ratio : 65.35%\n",
      "  Completion ratio : 74.05%\n",
      "  Completion ratio : 82.75%\n",
      "  Completion ratio : 91.45%\n",
      "  accuracy : 50.0%\n",
      "epoch 2\n",
      "  Completion ratio : 0.15%\n",
      "  Completion ratio : 8.85%\n",
      "  Completion ratio : 17.55%\n",
      "  Completion ratio : 26.25%\n",
      "  Completion ratio : 34.95%\n",
      "  Completion ratio : 43.65%\n",
      "  Completion ratio : 52.35%\n",
      "  Completion ratio : 61.05%\n",
      "  Completion ratio : 69.75%\n",
      "  Completion ratio : 78.45%\n",
      "  Completion ratio : 87.15%\n",
      "  Completion ratio : 95.85%\n",
      "  accuracy : 50.0%\n",
      "epoch 3\n",
      "  Completion ratio : 4.55%\n",
      "  Completion ratio : 13.25%\n",
      "  Completion ratio : 21.95%\n",
      "  Completion ratio : 30.65%\n",
      "  Completion ratio : 39.35%\n",
      "  Completion ratio : 48.05%\n",
      "  Completion ratio : 56.75%\n",
      "  Completion ratio : 65.45%\n",
      "  Completion ratio : 74.15%\n",
      "  Completion ratio : 82.85%\n",
      "  Completion ratio : 91.55%\n",
      "  accuracy : 50.0%\n",
      "epoch 4\n",
      "  Completion ratio : 0.25%\n",
      "  Completion ratio : 8.95%\n",
      "  Completion ratio : 17.65%\n",
      "  Completion ratio : 26.35%\n",
      "  Completion ratio : 35.05%\n",
      "  Completion ratio : 43.75%\n",
      "  Completion ratio : 52.45%\n",
      "  Completion ratio : 61.15%\n"
     ]
    },
    {
     "ename": "KeyboardInterrupt",
     "evalue": "",
     "output_type": "error",
     "traceback": [
      "\u001b[1;31m---------------------------------------------------------------------------\u001b[0m",
      "\u001b[1;31mKeyboardInterrupt\u001b[0m                         Traceback (most recent call last)",
      "\u001b[1;32m<ipython-input-13-1f2bffd9161b>\u001b[0m in \u001b[0;36m<module>\u001b[1;34m\u001b[0m\n\u001b[0;32m     11\u001b[0m     \u001b[1;32mfor\u001b[0m \u001b[0minput\u001b[0m\u001b[1;33m,\u001b[0m \u001b[0mtarget\u001b[0m \u001b[1;32min\u001b[0m \u001b[0mdataset\u001b[0m\u001b[1;33m:\u001b[0m\u001b[1;33m\u001b[0m\u001b[1;33m\u001b[0m\u001b[0m\n\u001b[0;32m     12\u001b[0m         \u001b[1;32mif\u001b[0m \u001b[0mtorch\u001b[0m\u001b[1;33m.\u001b[0m\u001b[0mcuda\u001b[0m\u001b[1;33m.\u001b[0m\u001b[0mis_available\u001b[0m\u001b[1;33m(\u001b[0m\u001b[1;33m)\u001b[0m\u001b[1;33m:\u001b[0m\u001b[1;33m\u001b[0m\u001b[1;33m\u001b[0m\u001b[0m\n\u001b[1;32m---> 13\u001b[1;33m             \u001b[0minput\u001b[0m \u001b[1;33m=\u001b[0m \u001b[0mVariable\u001b[0m\u001b[1;33m(\u001b[0m\u001b[0minput\u001b[0m\u001b[1;33m.\u001b[0m\u001b[0mcuda\u001b[0m\u001b[1;33m(\u001b[0m\u001b[1;33m)\u001b[0m\u001b[1;33m)\u001b[0m\u001b[1;33m\u001b[0m\u001b[1;33m\u001b[0m\u001b[0m\n\u001b[0m\u001b[0;32m     14\u001b[0m             \u001b[0mtarget\u001b[0m \u001b[1;33m=\u001b[0m \u001b[0mVariable\u001b[0m\u001b[1;33m(\u001b[0m\u001b[0mtarget\u001b[0m\u001b[1;33m.\u001b[0m\u001b[0mcuda\u001b[0m\u001b[1;33m(\u001b[0m\u001b[1;33m)\u001b[0m\u001b[1;33m)\u001b[0m\u001b[1;33m\u001b[0m\u001b[1;33m\u001b[0m\u001b[0m\n\u001b[0;32m     15\u001b[0m         \u001b[1;32melse\u001b[0m\u001b[1;33m:\u001b[0m\u001b[1;33m\u001b[0m\u001b[1;33m\u001b[0m\u001b[0m\n",
      "\u001b[1;31mKeyboardInterrupt\u001b[0m: "
     ]
    }
   ],
   "source": [
    "import torch.optim as optim\n",
    "from time import perf_counter\n",
    "loss_fn = nn.CrossEntropyLoss()\n",
    "loss_fn = loss_fn.cuda()\n",
    "optimizer = optim.Adam(model.parameters(), lr = 0.0001)\n",
    "t1 = perf_counter()\n",
    "t  = t1\n",
    "for i in range(100):\n",
    "    index = 0\n",
    "    print(\"epoch\",i)\n",
    "    for input, target in dataset:\n",
    "        if torch.cuda.is_available():\n",
    "            input = Variable(input.cuda())\n",
    "            target = Variable(target.cuda())\n",
    "        else:\n",
    "            input, target = Variable(input), Variable(target)    \n",
    "        output = model(input.float()/(3*255.))\n",
    "        optimizer.zero_grad()\n",
    "        loss = loss_fn(output, target.long())\n",
    "        loss.backward()\n",
    "        optimizer.step()\n",
    "        index+=1\n",
    "        if(perf_counter()-t > 30):\n",
    "            t = perf_counter()\n",
    "            print(\"  Completion ratio :\",str(index*100.0/2000)+\"%\")\n",
    "    ans=0\n",
    "    for j in range(10):        \n",
    "        output = test[j][0].cuda()\n",
    "        output = model(output.float())     \n",
    "        tmp = output.data.cpu().numpy()     \n",
    "        if(tmp[0][0]>tmp[0][1] and j<5):\n",
    "            ans+=1\n",
    "        if(tmp[0][0]<tmp[0][1] and j>=5):\n",
    "            ans+=1\n",
    "    print(\"  accuracy :\",str(ans*100/10.)+\"%\")\n",
    "\n",
    "        \n",
    "t2  = perf_counter()\n",
    "\n",
    "print(model)\n",
    "print(\"--------------------------------------\")\n",
    "print(\"layer1 :\",\"\\nweight :\\n\",model.layer()[0][0].cpu().numpy(),\"\\nbias :\\n\",model.layer()[0][1].cpu().numpy())\n",
    "print(\"\")\n",
    "print(\"layer2 :\",\"\\nweight :\\n\",model.layer()[1][0].cpu().numpy(),\"\\nbias :\\n\",model.layer()[1][1].cpu().numpy())\n",
    "print(\"time :\",str((t2-t1)/60.0)+\"min\")\n",
    "#print(\"\\ntest.....\")"
   ]
  }
 ],
 "metadata": {
  "kernelspec": {
   "display_name": "Python 3",
   "language": "python",
   "name": "python3"
  },
  "language_info": {
   "codemirror_mode": {
    "name": "ipython",
    "version": 3
   },
   "file_extension": ".py",
   "mimetype": "text/x-python",
   "name": "python",
   "nbconvert_exporter": "python",
   "pygments_lexer": "ipython3",
   "version": "3.6.5"
  }
 },
 "nbformat": 4,
 "nbformat_minor": 2
}
