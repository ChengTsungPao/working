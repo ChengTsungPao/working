{
 "cells": [
  {
   "cell_type": "code",
   "execution_count": 1,
   "metadata": {
    "collapsed": true
   },
   "outputs": [],
   "source": [
    "import tensorflow as tf"
   ]
  },
  {
   "cell_type": "code",
   "execution_count": 3,
   "metadata": {},
   "outputs": [
    {
     "name": "stdout",
     "output_type": "stream",
     "text": [
      "XWb:\n",
      "[[-0.35999998  0.28      ]]\n",
      "y:\n",
      "[[ 0.    0.28]]\n"
     ]
    }
   ],
   "source": [
    "X = tf.Variable([[0.4,0.2,0.4]])\n",
    "W = tf.Variable([[-0.5,-0.2],\n",
    "                 [-0.3,0.4],\n",
    "                 [-0.5,0.2]])\n",
    "\n",
    "b = tf.Variable([[0.1,0.2]])\n",
    "XWb = tf.matmul(X,W) + b\n",
    "y=tf.nn.relu(tf.matmul(X,W)+b)\n",
    "with tf.Session() as sess:\n",
    "    init = tf.global_variables_initializer()\n",
    "    sess.run(init)\n",
    "    print('XWb:');print(sess.run(XWb))\n",
    "    print('y:');print(sess.run(y))"
   ]
  },
  {
   "cell_type": "code",
   "execution_count": 4,
   "metadata": {},
   "outputs": [
    {
     "name": "stdout",
     "output_type": "stream",
     "text": [
      "XWb:\n",
      "[[-0.35999998  0.28      ]]\n",
      "y:\n",
      "[[ 0.41095957  0.56954622]]\n"
     ]
    }
   ],
   "source": [
    "X = tf.Variable([[0.4,0.2,0.4]])\n",
    "W = tf.Variable([[-0.5,-0.2],\n",
    "                 [-0.3,0.4],\n",
    "                 [-0.5,0.2]])\n",
    "\n",
    "b = tf.Variable([[0.1,0.2]])\n",
    "XWb = tf.matmul(X,W) + b\n",
    "y=tf.nn.sigmoid(tf.matmul(X,W)+b)\n",
    "with tf.Session() as sess:\n",
    "    init = tf.global_variables_initializer()\n",
    "    sess.run(init)\n",
    "    print('XWb:');print(sess.run(XWb))\n",
    "    print('y:');print(sess.run(y))"
   ]
  },
  {
   "cell_type": "code",
   "execution_count": 8,
   "metadata": {},
   "outputs": [
    {
     "name": "stdout",
     "output_type": "stream",
     "text": [
      "b:\n",
      "[[ 1.1470567   0.60065973]]\n",
      "W:\n",
      "[[-0.09281324  0.437998  ]\n",
      " [ 0.21235648 -0.57089746]\n",
      " [-2.10521173  1.53616703]]\n",
      "y:\n",
      "[[ 0.31031799  1.27614629]]\n"
     ]
    }
   ],
   "source": [
    "W = tf.Variable(tf.random_normal([3,2]))\n",
    "b = tf.Variable(tf.random_normal([1,2]))\n",
    "X = tf.Variable([[0.4,0.2,0.4]])\n",
    "y = tf.nn.relu(tf.matmul(X,W)+b)\n",
    "with tf.Session() as sess:\n",
    "    init = tf.global_variables_initializer()\n",
    "    sess.run(init)\n",
    "    print('b:');print(sess.run(b))\n",
    "    print('W:');print(sess.run(W))\n",
    "    print('y:');print(sess.run(y))\n",
    "                "
   ]
  },
  {
   "cell_type": "code",
   "execution_count": 12,
   "metadata": {},
   "outputs": [
    {
     "name": "stdout",
     "output_type": "stream",
     "text": [
      "b:\n",
      "[[-1.50676847 -0.24082857]]\n",
      "W:\n",
      "[[-1.22945952  0.62823892]\n",
      " [-1.03482568  0.90052015]\n",
      " [-1.28838432  1.7796073 ]]\n",
      "y:\n",
      "[[ 0.          0.90241402]]\n"
     ]
    }
   ],
   "source": [
    "W = tf.Variable(tf.random_normal([3,2]))\n",
    "b = tf.Variable(tf.random_normal([1,2]))\n",
    "X = tf.Variable([[0.4,0.2,0.4]])\n",
    "y = tf.nn.relu(tf.matmul(X,W)+b)\n",
    "with tf.Session() as sess:\n",
    "    init = tf.global_variables_initializer()\n",
    "    sess.run(init)\n",
    "    (_b,_W,_y) = sess.run((b,W,y))\n",
    "    print('b:')\n",
    "    print(_b)\n",
    "    print('W:')\n",
    "    print(_W)\n",
    "    print('y:')\n",
    "    print(_y)"
   ]
  },
  {
   "cell_type": "code",
   "execution_count": 19,
   "metadata": {},
   "outputs": [
    {
     "name": "stdout",
     "output_type": "stream",
     "text": [
      "b:\n",
      "[[-0.54636788  0.94469517]]\n",
      "W:\n",
      "[[ 1.1164149  -0.32446605]\n",
      " [-0.69078892 -1.31933677]\n",
      " [-0.8876828   0.21048197]]\n",
      "y:\n",
      "[[ 0.          0.63523424]]\n"
     ]
    }
   ],
   "source": [
    "import numpy as np\n",
    "W = tf.Variable(tf.random_normal([3,2]))\n",
    "b = tf.Variable(tf.random_normal([1,2]))\n",
    "X = tf.placeholder(\"float\",[None,3])\n",
    "y = tf.nn.relu(tf.matmul(X,W)+b)\n",
    "with tf.Session() as sess:\n",
    "    init = tf.global_variables_initializer()\n",
    "    sess.run(init)\n",
    "    X_array = np.array([[0.4,0.2,0.4]])\n",
    "    (_b,_W,_y) = sess.run((b,W,y),feed_dict={X:X_array})\n",
    "    print('b:')\n",
    "    print(_b)\n",
    "    print('W:')\n",
    "    print(_W)\n",
    "    print('y:')\n",
    "    print(_y)"
   ]
  },
  {
   "cell_type": "code",
   "execution_count": 20,
   "metadata": {},
   "outputs": [
    {
     "name": "stdout",
     "output_type": "stream",
     "text": [
      "b:\n",
      "[[ 0.65702045 -0.28859493]]\n",
      "W:\n",
      "[[ 1.99659002  1.61770117]\n",
      " [ 1.17648518 -0.53973264]\n",
      " [ 0.5182364  -0.60908306]]\n",
      "y:\n",
      "[[ 1.89824808  0.00690582]\n",
      " [ 1.98570979  0.        ]\n",
      " [ 1.04452157  0.10806701]]\n"
     ]
    }
   ],
   "source": [
    "import numpy as np\n",
    "W = tf.Variable(tf.random_normal([3,2]))\n",
    "b = tf.Variable(tf.random_normal([1,2]))\n",
    "X = tf.placeholder(\"float\",[None,3])\n",
    "y = tf.nn.relu(tf.matmul(X,W)+b)\n",
    "with tf.Session() as sess:\n",
    "    init = tf.global_variables_initializer()\n",
    "    sess.run(init)\n",
    "    X_array = np.array([[0.4,0.2,0.4],\n",
    "                       [0.3,0.4,0.5],\n",
    "                       [0.3,-0.4,0.5]])\n",
    "    (_b,_W,_y) = sess.run((b,W,y),feed_dict={X:X_array})\n",
    "    print('b:')\n",
    "    print(_b)\n",
    "    print('W:')\n",
    "    print(_W)\n",
    "    print('y:')\n",
    "    print(_y)"
   ]
  },
  {
   "cell_type": "code",
   "execution_count": 27,
   "metadata": {
    "collapsed": true
   },
   "outputs": [],
   "source": [
    "def layer(output_dim,input_dim,inputs,activation=None):\n",
    "    W = tf.Variable(tf.random_normal([input_dim,output_dim]))\n",
    "    b = tf.Variable(tf.random_normal([1,output_dim]))\n",
    "    XWb = tf.matmul(inputs, W) + b\n",
    "    if activation is None:\n",
    "        outputs = XWb\n",
    "    else:\n",
    "        outputs = activation(XWb)\n",
    "    return outputs"
   ]
  },
  {
   "cell_type": "code",
   "execution_count": 28,
   "metadata": {},
   "outputs": [
    {
     "name": "stdout",
     "output_type": "stream",
     "text": [
      "input Layer X:\n",
      "[[ 0.40000001  0.2         0.40000001  0.5       ]]\n",
      "input Layer h:\n",
      "[[ 0.  0.  0.]]\n",
      "input Layer y:\n",
      "[[ 1.20160925  0.39383703]]\n"
     ]
    }
   ],
   "source": [
    "X = tf.placeholder(\"float\",[None,4])\n",
    "h = layer(output_dim=3,input_dim=4,inputs=X,activation=tf.nn.relu)\n",
    "y = layer(output_dim=2, input_dim=3,inputs=h,activation=tf.nn.relu)\n",
    "with tf.Session() as sess:\n",
    "    init = tf.global_variables_initializer()\n",
    "    sess.run(init)\n",
    "    X_array = np.array([[0.4,0.2,0.4,0.5]])\n",
    "    (layer_X,layer_h,layer_y)=sess.run((X,h,y),feed_dict={X:X_array})\n",
    "    print('input Layer X:');print(layer_X)\n",
    "    print('hidden Layer h:');print(layer_h)\n",
    "    print('output Layer y:');print(layer_y)"
   ]
  },
  {
   "cell_type": "code",
   "execution_count": 31,
   "metadata": {
    "collapsed": true
   },
   "outputs": [],
   "source": [
    "def layer_debug(output_dim,input_dim,inputs,activation=None):\n",
    "    W = tf.Variable(tf.random_normal([input_dim,output_dim]))\n",
    "    b = tf.Variable(tf.random_normal([1,output_dim]))\n",
    "    XWb = tf.matmul(inputs, W) + b\n",
    "    if activation is None:\n",
    "        outputs = XWb\n",
    "    else:\n",
    "        outputs = activation(XWb)\n",
    "    return outputs,W,b"
   ]
  },
  {
   "cell_type": "code",
   "execution_count": 32,
   "metadata": {},
   "outputs": [
    {
     "name": "stdout",
     "output_type": "stream",
     "text": [
      "input Layer X:\n",
      "[[ 0.40000001  0.2         0.40000001  0.5       ]]\n",
      "W1:\n",
      "[[ 0.70348501  0.70167798 -1.574682  ]\n",
      " [-0.58636349  1.3438288  -2.49163699]\n",
      " [ 1.4916904   1.15510142  0.30159774]\n",
      " [ 0.38175648  0.23526374 -1.14331365]]\n",
      "b1\n",
      "[[-0.19949797 -0.75947201 -1.52959251]]\n",
      "hidden Layer h:\n",
      "[[ 0.75217783  0.36963749  0.        ]]\n",
      "W2:\n",
      "[[ 0.01408581  0.7554993 ]\n",
      " [-0.16701341  1.3344357 ]\n",
      " [ 1.54244447  0.35600528]]\n",
      "b2\n",
      "[[ 1.38322043 -1.58611965]]\n",
      "output Layer y:\n",
      "[[ 1.33208108  0.        ]]\n"
     ]
    }
   ],
   "source": [
    "X = tf.placeholder(\"float\",[None,4])\n",
    "h,W1,b1 = layer_debug(output_dim=3,input_dim=4,inputs=X,activation=tf.nn.relu)\n",
    "y,W2,b2 = layer_debug(output_dim=2, input_dim=3,inputs=h,activation=tf.nn.relu)\n",
    "with tf.Session() as sess:\n",
    "    init = tf.global_variables_initializer()\n",
    "    sess.run(init)\n",
    "    X_array = np.array([[0.4,0.2,0.4,0.5]])\n",
    "    (layer_X,layer_h,layer_y,W1,b1,W2,b2)=sess.run((X,h,y,W1,b1,W2,b2),feed_dict={X:X_array})\n",
    "    print('input Layer X:');print(layer_X)\n",
    "    print('W1:');print(W1)\n",
    "    print('b1');print(b1)\n",
    "    print('hidden Layer h:');print(layer_h)\n",
    "    print('W2:');print(W2)\n",
    "    print('b2');print(b2)\n",
    "    print('output Layer y:');print(layer_y)"
   ]
  }
 ],
 "metadata": {
  "kernelspec": {
   "display_name": "Python 3",
   "language": "python",
   "name": "python3"
  },
  "language_info": {
   "codemirror_mode": {
    "name": "ipython",
    "version": 3
   },
   "file_extension": ".py",
   "mimetype": "text/x-python",
   "name": "python",
   "nbconvert_exporter": "python",
   "pygments_lexer": "ipython3",
   "version": "3.6.5"
  }
 },
 "nbformat": 4,
 "nbformat_minor": 2
}
