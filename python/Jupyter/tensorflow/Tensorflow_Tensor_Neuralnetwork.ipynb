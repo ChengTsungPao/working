{
 "cells": [
  {
   "cell_type": "code",
   "execution_count": 1,
   "metadata": {},
   "outputs": [
    {
     "name": "stderr",
     "output_type": "stream",
     "text": [
      "C:\\Users\\Cheng\\Anaconda3\\lib\\site-packages\\h5py\\__init__.py:36: FutureWarning: Conversion of the second argument of issubdtype from `float` to `np.floating` is deprecated. In future, it will be treated as `np.float64 == np.dtype(float).type`.\n",
      "  from ._conv import register_converters as _register_converters\n"
     ]
    }
   ],
   "source": [
    "import tensorflow as tf"
   ]
  },
  {
   "cell_type": "code",
   "execution_count": 2,
   "metadata": {},
   "outputs": [
    {
     "name": "stdout",
     "output_type": "stream",
     "text": [
      "XWb:\n",
      "[[-0.36000004  0.28      ]]\n",
      "y:\n",
      "[[0.   0.28]]\n"
     ]
    }
   ],
   "source": [
    "X = tf.Variable([[0.4,0.2,0.4]])\n",
    "W = tf.Variable([[-0.5,-0.2],\n",
    "                 [-0.3,0.4],\n",
    "                 [-0.5,0.2]])\n",
    "\n",
    "b = tf.Variable([[0.1,0.2]])\n",
    "XWb = tf.matmul(X,W) + b\n",
    "y=tf.nn.relu(tf.matmul(X,W)+b)\n",
    "with tf.Session() as sess:\n",
    "    init = tf.global_variables_initializer()\n",
    "    sess.run(init)\n",
    "    print('XWb:');print(sess.run(XWb))\n",
    "    print('y:');print(sess.run(y))"
   ]
  },
  {
   "cell_type": "code",
   "execution_count": 3,
   "metadata": {},
   "outputs": [
    {
     "name": "stdout",
     "output_type": "stream",
     "text": [
      "XWb:\n",
      "[[-0.36000004  0.28      ]]\n",
      "y:\n",
      "[[0.41095954 0.5695462 ]]\n"
     ]
    }
   ],
   "source": [
    "X = tf.Variable([[0.4,0.2,0.4]])\n",
    "W = tf.Variable([[-0.5,-0.2],\n",
    "                 [-0.3,0.4],\n",
    "                 [-0.5,0.2]])\n",
    "\n",
    "b = tf.Variable([[0.1,0.2]])\n",
    "XWb = tf.matmul(X,W) + b\n",
    "y=tf.nn.sigmoid(tf.matmul(X,W)+b)\n",
    "with tf.Session() as sess:\n",
    "    init = tf.global_variables_initializer()\n",
    "    sess.run(init)\n",
    "    print('XWb:');print(sess.run(XWb))\n",
    "    print('y:');print(sess.run(y))"
   ]
  },
  {
   "cell_type": "code",
   "execution_count": 4,
   "metadata": {},
   "outputs": [
    {
     "name": "stdout",
     "output_type": "stream",
     "text": [
      "b:\n",
      "[[-1.4970522  0.2610488]]\n",
      "W:\n",
      "[[ 1.2712184   0.46073842]\n",
      " [ 0.3063255  -0.82256854]\n",
      " [ 0.75509715  0.7280417 ]]\n",
      "y:\n",
      "[[0.        0.5720471]]\n"
     ]
    }
   ],
   "source": [
    "W = tf.Variable(tf.random_normal([3,2]))\n",
    "b = tf.Variable(tf.random_normal([1,2]))\n",
    "X = tf.Variable([[0.4,0.2,0.4]])\n",
    "y = tf.nn.relu(tf.matmul(X,W)+b)\n",
    "with tf.Session() as sess:\n",
    "    init = tf.global_variables_initializer()\n",
    "    sess.run(init)\n",
    "    print('b:');print(sess.run(b))\n",
    "    print('W:');print(sess.run(W))\n",
    "    print('y:');print(sess.run(y))\n",
    "                "
   ]
  },
  {
   "cell_type": "code",
   "execution_count": 5,
   "metadata": {},
   "outputs": [
    {
     "name": "stdout",
     "output_type": "stream",
     "text": [
      "b:\n",
      "[[-0.19359148 -1.5589753 ]]\n",
      "W:\n",
      "[[ 1.3213915   0.02941797]\n",
      " [-0.51481295  0.9441283 ]\n",
      " [-0.39751586  0.87693924]]\n",
      "y:\n",
      "[[0.07299617 0.        ]]\n"
     ]
    }
   ],
   "source": [
    "W = tf.Variable(tf.random_normal([3,2]))\n",
    "b = tf.Variable(tf.random_normal([1,2]))\n",
    "X = tf.Variable([[0.4,0.2,0.4]])\n",
    "y = tf.nn.relu(tf.matmul(X,W)+b)\n",
    "with tf.Session() as sess:\n",
    "    init = tf.global_variables_initializer()\n",
    "    sess.run(init)\n",
    "    (_b,_W,_y) = sess.run((b,W,y))\n",
    "    print('b:')\n",
    "    print(_b)\n",
    "    print('W:')\n",
    "    print(_W)\n",
    "    print('y:')\n",
    "    print(_y)"
   ]
  },
  {
   "cell_type": "code",
   "execution_count": 6,
   "metadata": {},
   "outputs": [
    {
     "name": "stdout",
     "output_type": "stream",
     "text": [
      "b:\n",
      "[[0.6935373 0.5904182]]\n",
      "W:\n",
      "[[ 0.05705361  0.3213399 ]\n",
      " [ 0.05285475  0.49119422]\n",
      " [-1.4182988  -0.17641759]]\n",
      "y:\n",
      "[[0.15961015 0.746626  ]]\n"
     ]
    }
   ],
   "source": [
    "import numpy as np\n",
    "W = tf.Variable(tf.random_normal([3,2]))\n",
    "b = tf.Variable(tf.random_normal([1,2]))\n",
    "X = tf.placeholder(\"float\",[None,3])\n",
    "y = tf.nn.relu(tf.matmul(X,W)+b)\n",
    "with tf.Session() as sess:\n",
    "    init = tf.global_variables_initializer()\n",
    "    sess.run(init)\n",
    "    X_array = np.array([[0.4,0.2,0.4]])\n",
    "    (_b,_W,_y) = sess.run((b,W,y),feed_dict={X:X_array})\n",
    "    print('b:')\n",
    "    print(_b)\n",
    "    print('W:')\n",
    "    print(_W)\n",
    "    print('y:')\n",
    "    print(_y)"
   ]
  },
  {
   "cell_type": "code",
   "execution_count": 7,
   "metadata": {},
   "outputs": [
    {
     "name": "stdout",
     "output_type": "stream",
     "text": [
      "b:\n",
      "[[ 1.6648107  -0.42802197]]\n",
      "W:\n",
      "[[ 0.38185203  0.00354607]\n",
      " [ 0.98866487 -0.7910595 ]\n",
      " [-1.5668468  -0.82836187]]\n",
      "y:\n",
      "[[1.3885458  0.        ]\n",
      " [1.3914088  0.        ]\n",
      " [0.60047686 0.        ]]\n"
     ]
    }
   ],
   "source": [
    "import numpy as np\n",
    "W = tf.Variable(tf.random_normal([3,2]))\n",
    "b = tf.Variable(tf.random_normal([1,2]))\n",
    "X = tf.placeholder(\"float\",[None,3])\n",
    "y = tf.nn.relu(tf.matmul(X,W)+b)\n",
    "with tf.Session() as sess:\n",
    "    init = tf.global_variables_initializer()\n",
    "    sess.run(init)\n",
    "    X_array = np.array([[0.4,0.2,0.4],\n",
    "                       [0.3,0.4,0.5],\n",
    "                       [0.3,-0.4,0.5]])\n",
    "    (_b,_W,_y) = sess.run((b,W,y),feed_dict={X:X_array})\n",
    "    print('b:')\n",
    "    print(_b)\n",
    "    print('W:')\n",
    "    print(_W)\n",
    "    print('y:')\n",
    "    print(_y)"
   ]
  },
  {
   "cell_type": "code",
   "execution_count": 8,
   "metadata": {},
   "outputs": [],
   "source": [
    "def layer(output_dim,input_dim,inputs,activation=None):\n",
    "    W = tf.Variable(tf.random_normal([input_dim,output_dim]))\n",
    "    b = tf.Variable(tf.random_normal([1,output_dim]))\n",
    "    XWb = tf.matmul(inputs, W) + b\n",
    "    if activation is None:\n",
    "        outputs = XWb\n",
    "    else:\n",
    "        outputs = activation(XWb)\n",
    "    return outputs"
   ]
  },
  {
   "cell_type": "code",
   "execution_count": 9,
   "metadata": {},
   "outputs": [
    {
     "name": "stdout",
     "output_type": "stream",
     "text": [
      "input Layer X:\n",
      "[[0.4 0.2 0.4 0.5]]\n",
      "hidden Layer h:\n",
      "[[0.        2.2297761 0.       ]]\n",
      "output Layer y:\n",
      "[[0. 0.]]\n"
     ]
    }
   ],
   "source": [
    "X = tf.placeholder(\"float\",[None,4])\n",
    "h = layer(output_dim=3,input_dim=4,inputs=X,activation=tf.nn.relu)\n",
    "y = layer(output_dim=2, input_dim=3,inputs=h,activation=tf.nn.relu)\n",
    "with tf.Session() as sess:\n",
    "    init = tf.global_variables_initializer()\n",
    "    sess.run(init)\n",
    "    X_array = np.array([[0.4,0.2,0.4,0.5]])\n",
    "    (layer_X,layer_h,layer_y)=sess.run((X,h,y),feed_dict={X:X_array})\n",
    "    print('input Layer X:');print(layer_X)\n",
    "    print('hidden Layer h:');print(layer_h)\n",
    "    print('output Layer y:');print(layer_y)"
   ]
  },
  {
   "cell_type": "code",
   "execution_count": 10,
   "metadata": {},
   "outputs": [],
   "source": [
    "def layer_debug(output_dim,input_dim,inputs,activation=None):\n",
    "    W = tf.Variable(tf.random_normal([input_dim,output_dim]))\n",
    "    b = tf.Variable(tf.random_normal([1,output_dim]))\n",
    "    XWb = tf.matmul(inputs, W) + b\n",
    "    if activation is None:\n",
    "        outputs = XWb\n",
    "    else:\n",
    "        outputs = activation(XWb)\n",
    "    return outputs,W,b"
   ]
  },
  {
   "cell_type": "code",
   "execution_count": 11,
   "metadata": {},
   "outputs": [
    {
     "name": "stdout",
     "output_type": "stream",
     "text": [
      "input Layer X:\n",
      "[[0.4 0.2 0.4 0.5]]\n",
      "W1:\n",
      "[[ 0.48692992 -1.404191    0.13867468]\n",
      " [ 1.5082169   0.70173436 -1.0665488 ]\n",
      " [ 0.0542456   0.69790035  0.33494666]\n",
      " [-0.06346969 -2.0806634  -1.5468943 ]]\n",
      "b1\n",
      "[[0.8932587  0.73713505 0.03573233]]\n",
      "hidden Layer h:\n",
      "[[1.3796375 0.        0.       ]]\n",
      "W2:\n",
      "[[ 0.9120577  1.5155661]\n",
      " [-2.0088723 -1.0106348]\n",
      " [ 0.7053975  1.4190295]]\n",
      "b2\n",
      "[[ 1.7638803 -0.9448273]]\n",
      "output Layer y:\n",
      "[[3.0221891 1.1461046]]\n"
     ]
    }
   ],
   "source": [
    "X = tf.placeholder(\"float\",[None,4])\n",
    "h,W1,b1 = layer_debug(output_dim=3,input_dim=4,inputs=X,activation=tf.nn.relu)\n",
    "y,W2,b2 = layer_debug(output_dim=2, input_dim=3,inputs=h,activation=tf.nn.relu)\n",
    "with tf.Session() as sess:\n",
    "    init = tf.global_variables_initializer()\n",
    "    sess.run(init)\n",
    "    X_array = np.array([[0.4,0.2,0.4,0.5]])\n",
    "    (layer_X,layer_h,layer_y,W1,b1,W2,b2)=sess.run((X,h,y,W1,b1,W2,b2),feed_dict={X:X_array})\n",
    "    print('input Layer X:');print(layer_X)\n",
    "    print('W1:');print(W1)\n",
    "    print('b1');print(b1)\n",
    "    print('hidden Layer h:');print(layer_h)\n",
    "    print('W2:');print(W2)\n",
    "    print('b2');print(b2)\n",
    "    print('output Layer y:');print(layer_y)"
   ]
  }
 ],
 "metadata": {
  "kernelspec": {
   "display_name": "Python 3",
   "language": "python",
   "name": "python3"
  },
  "language_info": {
   "codemirror_mode": {
    "name": "ipython",
    "version": 3
   },
   "file_extension": ".py",
   "mimetype": "text/x-python",
   "name": "python",
   "nbconvert_exporter": "python",
   "pygments_lexer": "ipython3",
   "version": "3.6.5"
  }
 },
 "nbformat": 4,
 "nbformat_minor": 2
}
