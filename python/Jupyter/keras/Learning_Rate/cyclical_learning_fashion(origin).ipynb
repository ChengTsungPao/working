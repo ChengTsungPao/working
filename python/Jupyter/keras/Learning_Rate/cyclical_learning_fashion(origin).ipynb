{
 "cells": [
  {
   "cell_type": "markdown",
   "metadata": {},
   "source": [
    "# Cyclical Learning using Fashion_MNIST dataset\n",
    "## References:\n",
    "1. Leslie Smith, \"Cyclical Learning Rates for Training Neural Networks\", arXiv: 1506.01186\n",
    "2. https://www.pyimagesearch.com/2019/07/29/cyclical-learning-rates-with-keras-and-deep-learning/"
   ]
  },
  {
   "cell_type": "code",
   "execution_count": 1,
   "metadata": {},
   "outputs": [
    {
     "name": "stderr",
     "output_type": "stream",
     "text": [
      "/opt/conda/lib/python3.6/site-packages/h5py/__init__.py:36: FutureWarning: Conversion of the second argument of issubdtype from `float` to `np.floating` is deprecated. In future, it will be treated as `np.float64 == np.dtype(float).type`.\n",
      "  from ._conv import register_converters as _register_converters\n",
      "Using TensorFlow backend.\n"
     ]
    }
   ],
   "source": [
    "import numpy as np\n",
    "import matplotlib.pyplot as plt\n",
    "#import matplotlib\n",
    "#matplotlib.use(\"Agg\")\n",
    "\n",
    "import os, sys\n",
    "import cv2\n",
    "from sklearn.preprocessing import LabelBinarizer\n",
    "from sklearn.metrics import classification_report\n",
    "from keras.preprocessing.image import ImageDataGenerator\n",
    "from keras.optimizers import SGD\n",
    "from keras.datasets import fashion_mnist\n",
    "#from keras.datasets import cifar10\n",
    "\n",
    "from utils.learningratefinder import LearningRateFinder\n",
    "from utils.clr_callback import CyclicLR\n",
    "from model.minigooglenet import MiniGoogLeNet"
   ]
  },
  {
   "cell_type": "markdown",
   "metadata": {},
   "source": [
    "# Define hyper-parameters"
   ]
  },
  {
   "cell_type": "code",
   "execution_count": 2,
   "metadata": {},
   "outputs": [],
   "source": [
    "# initialize the list of class label names\n",
    "CLASSES = [\"top\", \"trouser\", \"pullover\", \"dress\", \"coat\", \"sandal\", \"shirt\", \"sneaker\", \"bag\", \"ankle boot\"]\n",
    "\n",
    "# define hyper-parameters\n",
    "MIN_LR = 1e-5\n",
    "MAX_LR = 1e-2\n",
    "BATCH_SIZE = 64\n",
    "STEP_SIZE = 8\n",
    "CLR_METHOD = \"triangular\"\n",
    "NUM_EPOCHS = 48\n",
    "lr_find = 1\n",
    "\n",
    "# define plot path\n",
    "LRFIND_PLOT_PATH = os.path.sep.join([\"output\", \"lrfind_plot2.png\"])\n",
    "TRAINING_PLOT_PATH = os.path.sep.join([\"output\", \"training_plot2.png\"])\n",
    "CLR_PLOT_PATH = os.path.sep.join([\"output\", \"clr_plot2.png\"])"
   ]
  },
  {
   "cell_type": "markdown",
   "metadata": {},
   "source": [
    "# Load data"
   ]
  },
  {
   "cell_type": "code",
   "execution_count": 3,
   "metadata": {},
   "outputs": [
    {
     "name": "stdout",
     "output_type": "stream",
     "text": [
      "[INFO] loading Fashion MNIST data...\n"
     ]
    }
   ],
   "source": [
    "print(\"[INFO] loading Fashion MNIST data...\")\n",
    "((X_train, Y_train), (X_test, Y_test)) = fashion_mnist.load_data()\n",
    "\n",
    "# Fashion MNIST images are 28x28, reshape to 32x32\n",
    "X_train = np.array([cv2.resize(x, (32, 32)) for x in X_train])\n",
    "X_test = np.array([cv2.resize(x, (32, 32)) for x in X_test])\n",
    "\n",
    "# normalization\n",
    "X_train = X_train.astype(\"float\") / 255.0\n",
    "X_test = X_test.astype(\"float\") / 255.0\n",
    "\n",
    "# reshape\n",
    "X_train = X_train.reshape((X_train.shape[0], 32, 32, 1))\n",
    "X_test = X_test.reshape((X_test.shape[0], 32, 32, 1))\n",
    "\n",
    "\"\"\"One can also try cifar10 dataset\n",
    "print(\"[INFO] loading CIFAR-10 data...\")\n",
    "((X_train, Y_train), (X_test, Y_test)) = cifar10.load_data()\n",
    "X_train = X_train.astype(\"float\")\n",
    "X_test = X_test.astype(\"float\")\n",
    "\n",
    "# apply mean subtraction to the data\n",
    "mean = np.mean(X_train, axis=0)\n",
    "X_train -= mean\n",
    "X_test -= mean\n",
    "\"\"\"\n",
    "\n",
    "# One-hot encoding\n",
    "lb = LabelBinarizer()\n",
    "Y_train = lb.fit_transform(Y_train)\n",
    "Y_test = lb.transform(Y_test)"
   ]
  },
  {
   "cell_type": "code",
   "execution_count": 4,
   "metadata": {},
   "outputs": [],
   "source": [
    "# construct the image generator for data augmentation\n",
    "gen_aug = ImageDataGenerator(width_shift_range=0.1, height_shift_range=0.1, horizontal_flip=True, fill_mode=\"nearest\")"
   ]
  },
  {
   "cell_type": "markdown",
   "metadata": {},
   "source": [
    "# Model construction"
   ]
  },
  {
   "cell_type": "code",
   "execution_count": 5,
   "metadata": {},
   "outputs": [
    {
     "name": "stdout",
     "output_type": "stream",
     "text": [
      "__________________________________________________________________________________________________\n",
      "Layer (type)                    Output Shape         Param #     Connected to                     \n",
      "==================================================================================================\n",
      "input_1 (InputLayer)            (None, 32, 32, 1)    0                                            \n",
      "__________________________________________________________________________________________________\n",
      "conv2d_1 (Conv2D)               (None, 32, 32, 96)   960         input_1[0][0]                    \n",
      "__________________________________________________________________________________________________\n",
      "batch_normalization_1 (BatchNor (None, 32, 32, 96)   384         conv2d_1[0][0]                   \n",
      "__________________________________________________________________________________________________\n",
      "activation_1 (Activation)       (None, 32, 32, 96)   0           batch_normalization_1[0][0]      \n",
      "__________________________________________________________________________________________________\n",
      "conv2d_2 (Conv2D)               (None, 32, 32, 32)   3104        activation_1[0][0]               \n",
      "__________________________________________________________________________________________________\n",
      "conv2d_3 (Conv2D)               (None, 32, 32, 32)   27680       activation_1[0][0]               \n",
      "__________________________________________________________________________________________________\n",
      "batch_normalization_2 (BatchNor (None, 32, 32, 32)   128         conv2d_2[0][0]                   \n",
      "__________________________________________________________________________________________________\n",
      "batch_normalization_3 (BatchNor (None, 32, 32, 32)   128         conv2d_3[0][0]                   \n",
      "__________________________________________________________________________________________________\n",
      "activation_2 (Activation)       (None, 32, 32, 32)   0           batch_normalization_2[0][0]      \n",
      "__________________________________________________________________________________________________\n",
      "activation_3 (Activation)       (None, 32, 32, 32)   0           batch_normalization_3[0][0]      \n",
      "__________________________________________________________________________________________________\n",
      "concatenate_1 (Concatenate)     (None, 32, 32, 64)   0           activation_2[0][0]               \n",
      "                                                                 activation_3[0][0]               \n",
      "__________________________________________________________________________________________________\n",
      "conv2d_4 (Conv2D)               (None, 32, 32, 32)   2080        concatenate_1[0][0]              \n",
      "__________________________________________________________________________________________________\n",
      "conv2d_5 (Conv2D)               (None, 32, 32, 48)   27696       concatenate_1[0][0]              \n",
      "__________________________________________________________________________________________________\n",
      "batch_normalization_4 (BatchNor (None, 32, 32, 32)   128         conv2d_4[0][0]                   \n",
      "__________________________________________________________________________________________________\n",
      "batch_normalization_5 (BatchNor (None, 32, 32, 48)   192         conv2d_5[0][0]                   \n",
      "__________________________________________________________________________________________________\n",
      "activation_4 (Activation)       (None, 32, 32, 32)   0           batch_normalization_4[0][0]      \n",
      "__________________________________________________________________________________________________\n",
      "activation_5 (Activation)       (None, 32, 32, 48)   0           batch_normalization_5[0][0]      \n",
      "__________________________________________________________________________________________________\n",
      "concatenate_2 (Concatenate)     (None, 32, 32, 80)   0           activation_4[0][0]               \n",
      "                                                                 activation_5[0][0]               \n",
      "__________________________________________________________________________________________________\n",
      "conv2d_6 (Conv2D)               (None, 15, 15, 80)   57680       concatenate_2[0][0]              \n",
      "__________________________________________________________________________________________________\n",
      "batch_normalization_6 (BatchNor (None, 15, 15, 80)   320         conv2d_6[0][0]                   \n",
      "__________________________________________________________________________________________________\n",
      "activation_6 (Activation)       (None, 15, 15, 80)   0           batch_normalization_6[0][0]      \n",
      "__________________________________________________________________________________________________\n",
      "max_pooling2d_1 (MaxPooling2D)  (None, 15, 15, 80)   0           concatenate_2[0][0]              \n",
      "__________________________________________________________________________________________________\n",
      "concatenate_3 (Concatenate)     (None, 15, 15, 160)  0           activation_6[0][0]               \n",
      "                                                                 max_pooling2d_1[0][0]            \n",
      "__________________________________________________________________________________________________\n",
      "conv2d_7 (Conv2D)               (None, 15, 15, 112)  18032       concatenate_3[0][0]              \n",
      "__________________________________________________________________________________________________\n",
      "conv2d_8 (Conv2D)               (None, 15, 15, 48)   69168       concatenate_3[0][0]              \n",
      "__________________________________________________________________________________________________\n",
      "batch_normalization_7 (BatchNor (None, 15, 15, 112)  448         conv2d_7[0][0]                   \n",
      "__________________________________________________________________________________________________\n",
      "batch_normalization_8 (BatchNor (None, 15, 15, 48)   192         conv2d_8[0][0]                   \n",
      "__________________________________________________________________________________________________\n",
      "activation_7 (Activation)       (None, 15, 15, 112)  0           batch_normalization_7[0][0]      \n",
      "__________________________________________________________________________________________________\n",
      "activation_8 (Activation)       (None, 15, 15, 48)   0           batch_normalization_8[0][0]      \n",
      "__________________________________________________________________________________________________\n",
      "concatenate_4 (Concatenate)     (None, 15, 15, 160)  0           activation_7[0][0]               \n",
      "                                                                 activation_8[0][0]               \n",
      "__________________________________________________________________________________________________\n",
      "conv2d_9 (Conv2D)               (None, 15, 15, 96)   15456       concatenate_4[0][0]              \n",
      "__________________________________________________________________________________________________\n",
      "conv2d_10 (Conv2D)              (None, 15, 15, 64)   92224       concatenate_4[0][0]              \n",
      "__________________________________________________________________________________________________\n",
      "batch_normalization_9 (BatchNor (None, 15, 15, 96)   384         conv2d_9[0][0]                   \n",
      "__________________________________________________________________________________________________\n",
      "batch_normalization_10 (BatchNo (None, 15, 15, 64)   256         conv2d_10[0][0]                  \n",
      "__________________________________________________________________________________________________\n",
      "activation_9 (Activation)       (None, 15, 15, 96)   0           batch_normalization_9[0][0]      \n",
      "__________________________________________________________________________________________________\n",
      "activation_10 (Activation)      (None, 15, 15, 64)   0           batch_normalization_10[0][0]     \n",
      "__________________________________________________________________________________________________\n",
      "concatenate_5 (Concatenate)     (None, 15, 15, 160)  0           activation_9[0][0]               \n",
      "                                                                 activation_10[0][0]              \n",
      "__________________________________________________________________________________________________\n",
      "conv2d_11 (Conv2D)              (None, 15, 15, 80)   12880       concatenate_5[0][0]              \n",
      "__________________________________________________________________________________________________\n",
      "conv2d_12 (Conv2D)              (None, 15, 15, 80)   115280      concatenate_5[0][0]              \n",
      "__________________________________________________________________________________________________\n",
      "batch_normalization_11 (BatchNo (None, 15, 15, 80)   320         conv2d_11[0][0]                  \n",
      "__________________________________________________________________________________________________\n",
      "batch_normalization_12 (BatchNo (None, 15, 15, 80)   320         conv2d_12[0][0]                  \n",
      "__________________________________________________________________________________________________\n",
      "activation_11 (Activation)      (None, 15, 15, 80)   0           batch_normalization_11[0][0]     \n",
      "__________________________________________________________________________________________________\n",
      "activation_12 (Activation)      (None, 15, 15, 80)   0           batch_normalization_12[0][0]     \n",
      "__________________________________________________________________________________________________\n",
      "concatenate_6 (Concatenate)     (None, 15, 15, 160)  0           activation_11[0][0]              \n",
      "                                                                 activation_12[0][0]              \n",
      "__________________________________________________________________________________________________\n",
      "conv2d_13 (Conv2D)              (None, 15, 15, 48)   7728        concatenate_6[0][0]              \n",
      "__________________________________________________________________________________________________\n",
      "conv2d_14 (Conv2D)              (None, 15, 15, 96)   138336      concatenate_6[0][0]              \n",
      "__________________________________________________________________________________________________\n",
      "batch_normalization_13 (BatchNo (None, 15, 15, 48)   192         conv2d_13[0][0]                  \n",
      "__________________________________________________________________________________________________\n",
      "batch_normalization_14 (BatchNo (None, 15, 15, 96)   384         conv2d_14[0][0]                  \n",
      "__________________________________________________________________________________________________\n",
      "activation_13 (Activation)      (None, 15, 15, 48)   0           batch_normalization_13[0][0]     \n",
      "__________________________________________________________________________________________________\n",
      "activation_14 (Activation)      (None, 15, 15, 96)   0           batch_normalization_14[0][0]     \n",
      "__________________________________________________________________________________________________\n",
      "concatenate_7 (Concatenate)     (None, 15, 15, 144)  0           activation_13[0][0]              \n",
      "                                                                 activation_14[0][0]              \n",
      "__________________________________________________________________________________________________\n",
      "conv2d_15 (Conv2D)              (None, 7, 7, 96)     124512      concatenate_7[0][0]              \n",
      "__________________________________________________________________________________________________\n",
      "batch_normalization_15 (BatchNo (None, 7, 7, 96)     384         conv2d_15[0][0]                  \n",
      "__________________________________________________________________________________________________\n",
      "activation_15 (Activation)      (None, 7, 7, 96)     0           batch_normalization_15[0][0]     \n",
      "__________________________________________________________________________________________________\n",
      "max_pooling2d_2 (MaxPooling2D)  (None, 7, 7, 144)    0           concatenate_7[0][0]              \n",
      "__________________________________________________________________________________________________\n",
      "concatenate_8 (Concatenate)     (None, 7, 7, 240)    0           activation_15[0][0]              \n",
      "                                                                 max_pooling2d_2[0][0]            \n",
      "__________________________________________________________________________________________________\n",
      "conv2d_16 (Conv2D)              (None, 7, 7, 176)    42416       concatenate_8[0][0]              \n",
      "__________________________________________________________________________________________________\n",
      "conv2d_17 (Conv2D)              (None, 7, 7, 160)    345760      concatenate_8[0][0]              \n",
      "__________________________________________________________________________________________________\n",
      "batch_normalization_16 (BatchNo (None, 7, 7, 176)    704         conv2d_16[0][0]                  \n",
      "__________________________________________________________________________________________________\n",
      "batch_normalization_17 (BatchNo (None, 7, 7, 160)    640         conv2d_17[0][0]                  \n",
      "__________________________________________________________________________________________________\n",
      "activation_16 (Activation)      (None, 7, 7, 176)    0           batch_normalization_16[0][0]     \n",
      "__________________________________________________________________________________________________\n",
      "activation_17 (Activation)      (None, 7, 7, 160)    0           batch_normalization_17[0][0]     \n",
      "__________________________________________________________________________________________________\n",
      "concatenate_9 (Concatenate)     (None, 7, 7, 336)    0           activation_16[0][0]              \n",
      "                                                                 activation_17[0][0]              \n",
      "__________________________________________________________________________________________________\n",
      "conv2d_18 (Conv2D)              (None, 7, 7, 176)    59312       concatenate_9[0][0]              \n",
      "__________________________________________________________________________________________________\n",
      "conv2d_19 (Conv2D)              (None, 7, 7, 160)    484000      concatenate_9[0][0]              \n",
      "__________________________________________________________________________________________________\n",
      "batch_normalization_18 (BatchNo (None, 7, 7, 176)    704         conv2d_18[0][0]                  \n",
      "__________________________________________________________________________________________________\n",
      "batch_normalization_19 (BatchNo (None, 7, 7, 160)    640         conv2d_19[0][0]                  \n",
      "__________________________________________________________________________________________________\n",
      "activation_18 (Activation)      (None, 7, 7, 176)    0           batch_normalization_18[0][0]     \n",
      "__________________________________________________________________________________________________\n",
      "activation_19 (Activation)      (None, 7, 7, 160)    0           batch_normalization_19[0][0]     \n",
      "__________________________________________________________________________________________________\n",
      "concatenate_10 (Concatenate)    (None, 7, 7, 336)    0           activation_18[0][0]              \n",
      "                                                                 activation_19[0][0]              \n",
      "__________________________________________________________________________________________________\n",
      "average_pooling2d_1 (AveragePoo (None, 1, 1, 336)    0           concatenate_10[0][0]             \n",
      "__________________________________________________________________________________________________\n",
      "dropout_1 (Dropout)             (None, 1, 1, 336)    0           average_pooling2d_1[0][0]        \n",
      "__________________________________________________________________________________________________\n",
      "flatten_1 (Flatten)             (None, 336)          0           dropout_1[0][0]                  \n",
      "__________________________________________________________________________________________________\n",
      "dense_1 (Dense)                 (None, 10)           3370        flatten_1[0][0]                  \n",
      "__________________________________________________________________________________________________\n",
      "activation_20 (Activation)      (None, 10)           0           dense_1[0][0]                    \n",
      "==================================================================================================\n",
      "Total params: 1,654,522\n",
      "Trainable params: 1,651,098\n",
      "Non-trainable params: 3,424\n",
      "__________________________________________________________________________________________________\n"
     ]
    }
   ],
   "source": [
    "# initialize a model\n",
    "model = MiniGoogLeNet.build(width=32, height=32, depth=1, classes=10)\n",
    "model.summary()"
   ]
  },
  {
   "cell_type": "code",
   "execution_count": 6,
   "metadata": {},
   "outputs": [
    {
     "name": "stdout",
     "output_type": "stream",
     "text": [
      "[INFO] compiling model...\n"
     ]
    }
   ],
   "source": [
    "# initialize the optimizer\n",
    "print(\"[INFO] compiling model...\")\n",
    "opt = SGD(lr=MIN_LR, momentum=0.9)\n",
    "model.compile(loss=\"categorical_crossentropy\", optimizer=opt, metrics=[\"accuracy\"])"
   ]
  },
  {
   "cell_type": "markdown",
   "metadata": {},
   "source": [
    "# Find learning rate"
   ]
  },
  {
   "cell_type": "code",
   "execution_count": 7,
   "metadata": {},
   "outputs": [
    {
     "name": "stdout",
     "output_type": "stream",
     "text": [
      "[INFO] finding learning rate...\n",
      "Epoch 1/3\n",
      "938/938 [==============================] - 37s 39ms/step - loss: 2.5533 - acc: 0.1046\n",
      "Epoch 2/3\n",
      "938/938 [==============================] - 34s 36ms/step - loss: 2.0813 - acc: 0.2594\n",
      "Epoch 3/3\n",
      "938/938 [==============================] - 34s 36ms/step - loss: 1.0438 - acc: 0.6524\n",
      "[INFO] learning rate finder complete\n",
      "[INFO] examine plot and adjust learning rates before training\n"
     ]
    },
    {
     "data": {
      "image/png": "[encoded data removed]",
      "text/plain": [
       "<Figure size 432x288 with 1 Axes>"
      ]
     },
     "metadata": {
      "needs_background": "light"
     },
     "output_type": "display_data"
    }
   ],
   "source": [
    "if lr_find > 0:\n",
    "# initialize the learning rate finder (from 1e-10 to 1e+1)\n",
    "    print(\"[INFO] finding learning rate...\")\n",
    "    lrf = LearningRateFinder(model)\n",
    "    lrf.find(gen_aug.flow(X_train, Y_train, batch_size=BATCH_SIZE), 1e-10, 1e+1,\n",
    "    stepsPerEpoch=np.ceil((len(X_train) / float(BATCH_SIZE))), batchSize=BATCH_SIZE)\n",
    "\n",
    "    # plot the loss and save the resulting plot to disk\n",
    "    lrf.plot_loss()\n",
    "    plt.savefig(LRFIND_PLOT_PATH)\n",
    "    \n",
    "    print(\"[INFO] learning rate finder complete\")\n",
    "    print(\"[INFO] examine plot and adjust learning rates before training\")\n",
    "    #exit(0)"
   ]
  },
  {
   "cell_type": "markdown",
   "metadata": {},
   "source": [
    "# Cyclical training"
   ]
  },
  {
   "cell_type": "code",
   "execution_count": 8,
   "metadata": {},
   "outputs": [
    {
     "name": "stdout",
     "output_type": "stream",
     "text": [
      "[INFO] training network...\n",
      "Epoch 1/48\n",
      "937/937 [==============================] - 35s 37ms/step - loss: 11.9532 - acc: 0.2060 - val_loss: 9.5905 - val_acc: 0.1000\n",
      "Epoch 2/48\n",
      "937/937 [==============================] - 34s 36ms/step - loss: 4.3061 - acc: 0.6220 - val_loss: 3.7441 - val_acc: 0.6223\n",
      "Epoch 3/48\n",
      "937/937 [==============================] - 34s 36ms/step - loss: 2.4137 - acc: 0.7578 - val_loss: 1.9378 - val_acc: 0.7924\n",
      "Epoch 4/48\n",
      "937/937 [==============================] - 34s 37ms/step - loss: 1.9025 - acc: 0.8056 - val_loss: 1.7954 - val_acc: 0.8379\n",
      "Epoch 5/48\n",
      "937/937 [==============================] - 34s 36ms/step - loss: 1.8513 - acc: 0.8207 - val_loss: 1.8728 - val_acc: 0.8158\n",
      "Epoch 6/48\n",
      "937/937 [==============================] - 34s 37ms/step - loss: 1.8281 - acc: 0.8278 - val_loss: 1.8572 - val_acc: 0.8179\n",
      "Epoch 7/48\n",
      "937/937 [==============================] - 34s 36ms/step - loss: 1.8054 - acc: 0.8364 - val_loss: 2.0707 - val_acc: 0.7344\n",
      "Epoch 8/48\n",
      "937/937 [==============================] - 34s 36ms/step - loss: 1.7924 - acc: 0.8404 - val_loss: 1.8112 - val_acc: 0.8363\n",
      "Epoch 9/48\n",
      "937/937 [==============================] - 35s 37ms/step - loss: 1.7743 - acc: 0.8450 - val_loss: 1.7644 - val_acc: 0.8505\n",
      "Epoch 10/48\n",
      "937/937 [==============================] - 34s 37ms/step - loss: 1.7665 - acc: 0.8499 - val_loss: 1.7383 - val_acc: 0.8588\n",
      "Epoch 11/48\n",
      "937/937 [==============================] - 34s 37ms/step - loss: 1.7467 - acc: 0.8551 - val_loss: 1.7434 - val_acc: 0.8568\n",
      "Epoch 12/48\n",
      "937/937 [==============================] - 35s 37ms/step - loss: 1.7403 - acc: 0.8561 - val_loss: 1.7296 - val_acc: 0.8594\n",
      "Epoch 13/48\n",
      "937/937 [==============================] - 34s 36ms/step - loss: 1.7264 - acc: 0.8588 - val_loss: 1.7296 - val_acc: 0.8608\n",
      "Epoch 14/48\n",
      "937/937 [==============================] - 34s 37ms/step - loss: 1.7230 - acc: 0.8622 - val_loss: 1.7164 - val_acc: 0.8649\n",
      "Epoch 15/48\n",
      "937/937 [==============================] - 35s 37ms/step - loss: 1.7094 - acc: 0.8657 - val_loss: 1.7148 - val_acc: 0.8657\n",
      "Epoch 16/48\n",
      "937/937 [==============================] - 34s 37ms/step - loss: 1.7110 - acc: 0.8665 - val_loss: 1.7114 - val_acc: 0.8672\n",
      "Epoch 17/48\n",
      "937/937 [==============================] - 35s 37ms/step - loss: 1.6986 - acc: 0.8679 - val_loss: 1.7126 - val_acc: 0.8657\n",
      "Epoch 18/48\n",
      "937/937 [==============================] - 35s 37ms/step - loss: 1.7116 - acc: 0.8662 - val_loss: 1.7105 - val_acc: 0.8657\n",
      "Epoch 19/48\n",
      "937/937 [==============================] - 35s 37ms/step - loss: 1.7157 - acc: 0.8648 - val_loss: 1.7411 - val_acc: 0.8596\n",
      "Epoch 20/48\n",
      "937/937 [==============================] - 35s 37ms/step - loss: 1.7163 - acc: 0.8628 - val_loss: 1.7408 - val_acc: 0.8576\n",
      "Epoch 21/48\n",
      "937/937 [==============================] - 34s 37ms/step - loss: 1.7250 - acc: 0.8608 - val_loss: 1.7385 - val_acc: 0.8574\n",
      "Epoch 22/48\n",
      "937/937 [==============================] - 34s 37ms/step - loss: 1.7229 - acc: 0.8621 - val_loss: 1.9474 - val_acc: 0.8057\n",
      "Epoch 23/48\n",
      "937/937 [==============================] - 35s 37ms/step - loss: 1.7288 - acc: 0.8610 - val_loss: 1.7437 - val_acc: 0.8548\n",
      "Epoch 24/48\n",
      "937/937 [==============================] - 35s 37ms/step - loss: 1.7333 - acc: 0.8595 - val_loss: 1.7381 - val_acc: 0.8579\n",
      "Epoch 25/48\n",
      "937/937 [==============================] - 34s 37ms/step - loss: 1.7234 - acc: 0.8606 - val_loss: 1.7536 - val_acc: 0.8554\n",
      "Epoch 26/48\n",
      "937/937 [==============================] - 35s 37ms/step - loss: 1.7203 - acc: 0.8631 - val_loss: 1.7445 - val_acc: 0.8576\n",
      "Epoch 27/48\n",
      "937/937 [==============================] - 34s 37ms/step - loss: 1.7156 - acc: 0.8658 - val_loss: 1.7095 - val_acc: 0.8677\n",
      "Epoch 28/48\n",
      "937/937 [==============================] - 34s 37ms/step - loss: 1.6947 - acc: 0.8691 - val_loss: 1.7231 - val_acc: 0.8628\n",
      "Epoch 29/48\n",
      "937/937 [==============================] - 34s 37ms/step - loss: 1.6958 - acc: 0.8702 - val_loss: 1.7106 - val_acc: 0.8683\n",
      "Epoch 30/48\n",
      "937/937 [==============================] - 35s 37ms/step - loss: 1.6968 - acc: 0.8715 - val_loss: 1.7091 - val_acc: 0.8691\n",
      "Epoch 31/48\n",
      "937/937 [==============================] - 34s 37ms/step - loss: 1.6807 - acc: 0.8752 - val_loss: 1.7066 - val_acc: 0.8686\n",
      "Epoch 32/48\n",
      "937/937 [==============================] - 34s 37ms/step - loss: 1.6760 - acc: 0.8765 - val_loss: 1.7029 - val_acc: 0.8705\n",
      "Epoch 33/48\n",
      "937/937 [==============================] - 34s 36ms/step - loss: 1.6846 - acc: 0.8762 - val_loss: 1.7039 - val_acc: 0.8699\n",
      "Epoch 34/48\n",
      "937/937 [==============================] - 35s 37ms/step - loss: 1.6755 - acc: 0.8770 - val_loss: 1.7142 - val_acc: 0.8669\n",
      "Epoch 35/48\n",
      "937/937 [==============================] - 34s 37ms/step - loss: 1.6828 - acc: 0.8748 - val_loss: 1.7186 - val_acc: 0.8662\n",
      "Epoch 36/48\n",
      "937/937 [==============================] - 35s 37ms/step - loss: 1.6835 - acc: 0.8742 - val_loss: 1.7336 - val_acc: 0.8623\n",
      "Epoch 37/48\n",
      "937/937 [==============================] - 35s 37ms/step - loss: 1.6953 - acc: 0.8720 - val_loss: 1.7188 - val_acc: 0.8656\n",
      "Epoch 38/48\n",
      "937/937 [==============================] - 34s 37ms/step - loss: 1.6970 - acc: 0.8692 - val_loss: 1.7307 - val_acc: 0.8642\n",
      "Epoch 39/48\n",
      "937/937 [==============================] - 35s 37ms/step - loss: 1.7049 - acc: 0.8673 - val_loss: 1.7581 - val_acc: 0.8570\n",
      "Epoch 40/48\n",
      "937/937 [==============================] - 35s 37ms/step - loss: 1.7023 - acc: 0.8684 - val_loss: 1.7859 - val_acc: 0.8454\n",
      "Epoch 41/48\n",
      "937/937 [==============================] - 34s 37ms/step - loss: 1.7053 - acc: 0.8675 - val_loss: 1.7268 - val_acc: 0.8632\n",
      "Epoch 42/48\n",
      "937/937 [==============================] - 35s 37ms/step - loss: 1.6919 - acc: 0.8701 - val_loss: 1.7149 - val_acc: 0.8667\n",
      "Epoch 43/48\n",
      "937/937 [==============================] - 35s 37ms/step - loss: 1.6917 - acc: 0.8730 - val_loss: 1.7140 - val_acc: 0.8691\n",
      "Epoch 44/48\n",
      "937/937 [==============================] - 35s 37ms/step - loss: 1.6818 - acc: 0.8744 - val_loss: 1.7500 - val_acc: 0.8539\n",
      "Epoch 45/48\n",
      "937/937 [==============================] - 34s 37ms/step - loss: 1.6782 - acc: 0.8772 - val_loss: 1.7050 - val_acc: 0.8717\n",
      "Epoch 46/48\n",
      "937/937 [==============================] - 34s 37ms/step - loss: 1.6677 - acc: 0.8795 - val_loss: 1.7076 - val_acc: 0.8693\n",
      "Epoch 47/48\n",
      "937/937 [==============================] - 35s 37ms/step - loss: 1.6669 - acc: 0.8810 - val_loss: 1.7018 - val_acc: 0.8714\n",
      "Epoch 48/48\n",
      "937/937 [==============================] - 35s 37ms/step - loss: 1.6622 - acc: 0.8822 - val_loss: 1.7007 - val_acc: 0.8719\n",
      "[INFO] evaluating network...\n",
      "             precision    recall  f1-score   support\n",
      "\n",
      "        top       0.71      0.95      0.81      1000\n",
      "    trouser       1.00      0.99      0.99      1000\n",
      "   pullover       0.82      0.94      0.87      1000\n",
      "      dress       0.91      0.96      0.93      1000\n",
      "       coat       0.66      0.96      0.78      1000\n",
      "     sandal       0.98      0.99      0.99      1000\n",
      "      shirt       0.00      0.00      0.00      1000\n",
      "    sneaker       0.97      0.98      0.97      1000\n",
      "        bag       0.99      0.99      0.99      1000\n",
      " ankle boot       0.98      0.96      0.97      1000\n",
      "\n",
      "avg / total       0.80      0.87      0.83     10000\n",
      "\n"
     ]
    },
    {
     "name": "stderr",
     "output_type": "stream",
     "text": [
      "/opt/conda/lib/python3.6/site-packages/sklearn/metrics/classification.py:1135: UndefinedMetricWarning: Precision and F-score are ill-defined and being set to 0.0 in labels with no predicted samples.\n",
      "  'precision', 'predicted', average, warn_for)\n"
     ]
    }
   ],
   "source": [
    "# otherwise, we have already defined a learning rate space to train\n",
    "# over, so compute the step size and initialize the cyclic learning\n",
    "# rate method\n",
    "stepSize = STEP_SIZE * (X_train.shape[0] // BATCH_SIZE)\n",
    "clr = CyclicLR(mode=CLR_METHOD, base_lr=MIN_LR, max_lr=MAX_LR, step_size=stepSize)\n",
    "\n",
    "# train the network\n",
    "print(\"[INFO] training network...\")\n",
    "H = model.fit_generator(gen_aug.flow(X_train, Y_train, batch_size=BATCH_SIZE),\n",
    "    validation_data=(X_test, Y_test),\n",
    "    steps_per_epoch=X_train.shape[0] // BATCH_SIZE,\n",
    "    epochs=NUM_EPOCHS,\n",
    "    callbacks=[clr],\n",
    "    verbose=1)\n",
    "\n",
    "# evaluate the network and show a classification report\n",
    "print(\"[INFO] evaluating network...\")\n",
    "predictions = model.predict(X_test, batch_size=BATCH_SIZE)\n",
    "print(classification_report(Y_test.argmax(axis=1),\n",
    "predictions.argmax(axis=1), target_names=CLASSES))"
   ]
  },
  {
   "cell_type": "markdown",
   "metadata": {},
   "source": [
    "# Plot results"
   ]
  },
  {
   "cell_type": "code",
   "execution_count": 9,
   "metadata": {},
   "outputs": [
    {
     "data": {
      "image/png": "[encoded data removed]",
      "text/plain": [
       "<Figure size 432x288 with 1 Axes>"
      ]
     },
     "metadata": {},
     "output_type": "display_data"
    },
    {
     "data": {
      "image/png": "[encoded data removed]",
      "text/plain": [
       "<Figure size 432x288 with 1 Axes>"
      ]
     },
     "metadata": {},
     "output_type": "display_data"
    }
   ],
   "source": [
    "# construct a plot that plots and saves the training history\n",
    "N = np.arange(0, NUM_EPOCHS)\n",
    "plt.style.use(\"ggplot\")\n",
    "plt.figure()\n",
    "plt.plot(N, H.history[\"loss\"], label=\"train_loss\")\n",
    "plt.plot(N, H.history[\"val_loss\"], label=\"val_loss\")\n",
    "plt.plot(N, H.history[\"acc\"], label=\"train_acc\")\n",
    "plt.plot(N, H.history[\"val_acc\"], label=\"val_acc\")\n",
    "plt.title(\"Training Loss and Accuracy\")\n",
    "plt.xlabel(\"Epoch #\")\n",
    "plt.ylabel(\"Loss/Accuracy\")\n",
    "plt.legend(loc=\"lower left\")\n",
    "plt.savefig(TRAINING_PLOT_PATH)\n",
    "\n",
    "# plot the learning rate history\n",
    "N = np.arange(0, len(clr.history[\"lr\"]))\n",
    "plt.figure()\n",
    "plt.plot(N, clr.history[\"lr\"])\n",
    "plt.title(\"Cyclical Learning Rate (CLR)\")\n",
    "plt.xlabel(\"Training Iterations\")\n",
    "plt.ylabel(\"Learning Rate\")\n",
    "plt.savefig(CLR_PLOT_PATH)"
   ]
  },
  {
   "cell_type": "code",
   "execution_count": null,
   "metadata": {},
   "outputs": [],
   "source": []
  }
 ],
 "metadata": {
  "kernelspec": {
   "display_name": "Python 3",
   "language": "python",
   "name": "python3"
  },
  "language_info": {
   "codemirror_mode": {
    "name": "ipython",
    "version": 3
   },
   "file_extension": ".py",
   "mimetype": "text/x-python",
   "name": "python",
   "nbconvert_exporter": "python",
   "pygments_lexer": "ipython3",
   "version": "3.7.6"
  }
 },
 "nbformat": 4,
 "nbformat_minor": 2
}
