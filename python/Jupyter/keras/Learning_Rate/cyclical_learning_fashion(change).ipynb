{
 "cells": [
  {
   "cell_type": "markdown",
   "metadata": {},
   "source": [
    "# Cyclical Learning using Fashion_MNIST dataset\n",
    "## References:\n",
    "1. Leslie Smith, \"Cyclical Learning Rates for Training Neural Networks\", arXiv: 1506.01186\n",
    "2. https://www.pyimagesearch.com/2019/07/29/cyclical-learning-rates-with-keras-and-deep-learning/"
   ]
  },
  {
   "cell_type": "code",
   "execution_count": 1,
   "metadata": {},
   "outputs": [
    {
     "name": "stderr",
     "output_type": "stream",
     "text": [
      "Using TensorFlow backend.\n"
     ]
    }
   ],
   "source": [
    "import numpy as np\n",
    "import matplotlib.pyplot as plt\n",
    "#import matplotlib\n",
    "#matplotlib.use(\"Agg\")\n",
    "\n",
    "import os, sys\n",
    "import cv2, keras\n",
    "from keras.models import Model\n",
    "from keras.models import Sequential\n",
    "from sklearn.preprocessing import LabelBinarizer\n",
    "from sklearn.metrics import classification_report\n",
    "from keras.preprocessing.image import ImageDataGenerator\n",
    "from keras.optimizers import SGD\n",
    "#from keras.datasets import fashion_mnist\n",
    "from keras.layers import Dense, Activation, Convolution2D, MaxPooling2D, Flatten, BatchNormalization, Input\n",
    "#from keras.datasets import cifar10\n",
    "\n",
    "from learningratefinder import LearningRateFinder\n",
    "from clr_callback import CyclicLR\n",
    "#from model.minigooglenet import MiniGoogLeNet"
   ]
  },
  {
   "cell_type": "markdown",
   "metadata": {},
   "source": [
    "# Define hyper-parameters"
   ]
  },
  {
   "cell_type": "code",
   "execution_count": 2,
   "metadata": {},
   "outputs": [],
   "source": [
    "# initialize the list of class label names\n",
    "# CLASSES = [\"top\", \"trouser\", \"pullover\", \"dress\", \"coat\", \"sandal\", \"shirt\", \"sneaker\", \"bag\", \"ankle boot\"]\n",
    "\n",
    "# define hyper-parameters\n",
    "MIN_LR = 1e-5\n",
    "MAX_LR = 1e-2\n",
    "BATCH_SIZE = 50\n",
    "STEP_SIZE = 8\n",
    "CLR_METHOD = \"triangular\"\n",
    "NUM_EPOCHS = 48\n",
    "lr_find = 1\n",
    "\n",
    "# define plot path\n",
    "LRFIND_PLOT_PATH = os.path.sep.join([\"output\", \"lrfind_plot2.png\"])\n",
    "TRAINING_PLOT_PATH = os.path.sep.join([\"output\", \"training_plot2.png\"])\n",
    "CLR_PLOT_PATH = os.path.sep.join([\"output\", \"clr_plot2.png\"])"
   ]
  },
  {
   "cell_type": "markdown",
   "metadata": {},
   "source": [
    "# Load data"
   ]
  },
  {
   "cell_type": "code",
   "execution_count": 3,
   "metadata": {},
   "outputs": [
    {
     "name": "stdout",
     "output_type": "stream",
     "text": [
      "[INFO] loading Fashion data...\n"
     ]
    }
   ],
   "source": [
    "conv1,conv2,linear = (2, 2, 5, 1, 'same'), (2, 2, 5, 1, 'same'), (\"\", 512, 2)\n",
    "channelsize = (49, 98)\n",
    "\n",
    "classify_phase = [5, 1]\n",
    "filename = [\"20200310\",\"G_eigenvector\",\"7\"]\n",
    "kind_of_data = [\"eigenvector_r_square_combine_theta_particle_hole\",\"phase\"]\n",
    "line = \"delta=0.5\"\n",
    "path = 'D:/program/vscode_workspace/private/data/project_data(phy)/train/'\n",
    "\n",
    "\n",
    "CLASSES = []\n",
    "for p in classify_phase:\n",
    "    CLASSES.append(str(p))\n",
    "\n",
    "def move(ph):\n",
    "    if(line==\"delta=0.5\" or line==\"delta=-0.5\"):\n",
    "        if(ph==5 or ph==6):\n",
    "            m = 0\n",
    "        elif(ph==1 or ph==2):\n",
    "            m = 1000\n",
    "        elif(ph==3 or ph==4):\n",
    "            m = 2000\n",
    "        elif(ph==7 or ph==8):\n",
    "            m = 3000\n",
    "        else:\n",
    "            print(\"error\")\n",
    "    else:\n",
    "        if(ph==5 or ph==1 or ph==3 or ph==7):\n",
    "            m = 0\n",
    "        elif(ph==6 or ph==2 or ph==4 or ph==8):\n",
    "            m = 1000\n",
    "        else:\n",
    "            print(\"error\")            \n",
    "    return m\n",
    "\n",
    "def get_train_data(phase):\n",
    "\n",
    "    file = np.load((path+'{},{}_train,N={},{}.npz').format(filename[0],filename[1],filename[2],line))\n",
    "    test_input = []\n",
    "    test_target = []\n",
    "    train_input = []\n",
    "    train_target = []\n",
    "\n",
    "    for i in range(len(phase)):\n",
    "        test_input += file[kind_of_data[0]][800 + move(phase[i]) : 1000 + move(phase[i])].tolist()\n",
    "        test_target += file[kind_of_data[1]][800 + move(phase[i]) : 1000 + move(phase[i])].tolist()\n",
    "        train_input += file[kind_of_data[0]][0 + move(phase[i]) : 800 + move(phase[i])].tolist()\n",
    "        train_target += file[kind_of_data[1]][0 + move(phase[i]) : 800 + move(phase[i])].tolist()\n",
    "\n",
    "    test_input = np.array(test_input)[:,1:3,:,:]\n",
    "    test_target = np.array(test_target)\n",
    "    train_input = np.array(train_input)[:,1:3,:,:]\n",
    "    train_target = np.array(train_target)\n",
    "\n",
    "    return [test_input, test_target, train_input, train_target]\n",
    "\n",
    "total_data = get_train_data(classify_phase)    \n",
    "\n",
    "print(\"[INFO] loading Fashion data...\")\n",
    "X_train, Y_train, X_test, Y_test = total_data[2], total_data[3], total_data[0], total_data[1]\n",
    "\n",
    "# Fashion MNIST images are 28x28, reshape to 32x32\n",
    "# X_train = np.array([cv2.resize(x, (channelsize[0], channelsize[1])) for x in X_train])\n",
    "# X_test = np.array([cv2.resize(x, (channelsize[0], channelsize[1])) for x in X_test])\n",
    "\n",
    "# normalization\n",
    "X_train = X_train.astype(\"float\") / 255.0\n",
    "X_test = X_test.astype(\"float\") / 255.0\n",
    "\n",
    "# reshape\n",
    "# print(\"X_train : \",np.shape(X_train))\n",
    "# print(\"X_test : \",np.shape(X_test))\n",
    "X_train = X_train.transpose((0,2,3,1)) #.reshape((X_train.shape[0], channelsize[0], channelsize[1], conv1[0]))\n",
    "X_test = X_test.transpose((0,2,3,1))   #reshape((X_test.shape[0], channelsize[0], channelsize[1], conv1[0]))\n",
    "\n",
    "\"\"\"One can also try cifar10 dataset\n",
    "print(\"[INFO] loading CIFAR-10 data...\")\n",
    "((X_train, Y_train), (X_test, Y_test)) = cifar10.load_data()\n",
    "X_train = X_train.astype(\"float\")\n",
    "X_test = X_test.astype(\"float\")\n",
    "\n",
    "# apply mean subtraction to the data\n",
    "mean = np.mean(X_train, axis=0)\n",
    "X_train -= mean\n",
    "X_test -= mean\n",
    "\"\"\"\n",
    "# One-hot encoding\n",
    "lb = LabelBinarizer()\n",
    "Y_train = lb.fit_transform(Y_train)\n",
    "Y_test = lb.transform(Y_test)\n",
    "\n",
    "if(len(classify_phase)==2):\n",
    "    Y_train = Y_train.tolist()\n",
    "    Y_test = Y_test.tolist()\n",
    "    for i in range(len(Y_train)): Y_train[i].append(1-Y_train[i][0])\n",
    "    for i in range(len(Y_test )): Y_test[i].append(1-Y_test[i][0])\n",
    "    Y_train = np.array(Y_train)\n",
    "    Y_test = np.array(Y_test)"
   ]
  },
  {
   "cell_type": "code",
   "execution_count": 4,
   "metadata": {},
   "outputs": [],
   "source": [
    "# construct the image generator for data augmentation\n",
    "gen_aug = ImageDataGenerator(width_shift_range=0.1, height_shift_range=0.1, horizontal_flip=True, fill_mode=\"nearest\")"
   ]
  },
  {
   "cell_type": "markdown",
   "metadata": {},
   "source": [
    "# Model construction"
   ]
  },
  {
   "cell_type": "code",
   "execution_count": 5,
   "metadata": {},
   "outputs": [],
   "source": [
    "def resnet(input_shape):\n",
    "    inputs = Input(shape=input_shape)\n",
    "\n",
    "    x = Convolution2D(batch_input_shape=(None, channelsize[0], channelsize[1], conv1[0]), \n",
    "                      filters=conv1[1], \n",
    "                      kernel_size=conv1[2], \n",
    "                      strides=conv1[3],\n",
    "                      padding=conv1[4])(inputs)\n",
    "    x = BatchNormalization()(x)    \n",
    "    x = Activation('relu')(x)\n",
    "    x = Convolution2D(filters=conv2[1], \n",
    "                      kernel_size=conv2[2], \n",
    "                      strides=conv2[3],\n",
    "                      padding=conv2[4])(x)\n",
    "    x = BatchNormalization()(x)    \n",
    "    x = Activation('relu')(x)\n",
    "    \n",
    "    x = keras.layers.add([x,inputs])\n",
    "    \n",
    "    x = Flatten()(x)\n",
    "    x = Dense(linear[1])(x)\n",
    "    x = Dense(linear[2])(x)\n",
    "    outputs = Activation('softmax')(x)\n",
    "    \n",
    "    return Model(inputs=inputs,outputs=outputs)\n",
    "\n",
    "model = resnet((channelsize[0], channelsize[1], conv1[0]))\n"
   ]
  },
  {
   "cell_type": "code",
   "execution_count": 6,
   "metadata": {},
   "outputs": [
    {
     "name": "stdout",
     "output_type": "stream",
     "text": [
      "Model: \"model_1\"\n",
      "__________________________________________________________________________________________________\n",
      "Layer (type)                    Output Shape         Param #     Connected to                     \n",
      "==================================================================================================\n",
      "input_1 (InputLayer)            (None, 49, 98, 2)    0                                            \n",
      "__________________________________________________________________________________________________\n",
      "conv2d_1 (Conv2D)               (None, 49, 98, 2)    102         input_1[0][0]                    \n",
      "__________________________________________________________________________________________________\n",
      "batch_normalization_1 (BatchNor (None, 49, 98, 2)    8           conv2d_1[0][0]                   \n",
      "__________________________________________________________________________________________________\n",
      "activation_1 (Activation)       (None, 49, 98, 2)    0           batch_normalization_1[0][0]      \n",
      "__________________________________________________________________________________________________\n",
      "conv2d_2 (Conv2D)               (None, 49, 98, 2)    102         activation_1[0][0]               \n",
      "__________________________________________________________________________________________________\n",
      "batch_normalization_2 (BatchNor (None, 49, 98, 2)    8           conv2d_2[0][0]                   \n",
      "__________________________________________________________________________________________________\n",
      "activation_2 (Activation)       (None, 49, 98, 2)    0           batch_normalization_2[0][0]      \n",
      "__________________________________________________________________________________________________\n",
      "add_1 (Add)                     (None, 49, 98, 2)    0           activation_2[0][0]               \n",
      "                                                                 input_1[0][0]                    \n",
      "__________________________________________________________________________________________________\n",
      "flatten_1 (Flatten)             (None, 9604)         0           add_1[0][0]                      \n",
      "__________________________________________________________________________________________________\n",
      "dense_1 (Dense)                 (None, 512)          4917760     flatten_1[0][0]                  \n",
      "__________________________________________________________________________________________________\n",
      "dense_2 (Dense)                 (None, 2)            1026        dense_1[0][0]                    \n",
      "__________________________________________________________________________________________________\n",
      "activation_3 (Activation)       (None, 2)            0           dense_2[0][0]                    \n",
      "==================================================================================================\n",
      "Total params: 4,919,006\n",
      "Trainable params: 4,918,998\n",
      "Non-trainable params: 8\n",
      "__________________________________________________________________________________________________\n"
     ]
    }
   ],
   "source": [
    "# initialize a model\n",
    "#model = MiniGoogLeNet.build(width=32, height=32, depth=1, classes=10)\n",
    "model.summary()"
   ]
  },
  {
   "cell_type": "code",
   "execution_count": 7,
   "metadata": {},
   "outputs": [
    {
     "name": "stdout",
     "output_type": "stream",
     "text": [
      "[INFO] compiling model...\n"
     ]
    }
   ],
   "source": [
    "# initialize the optimizer\n",
    "print(\"[INFO] compiling model...\")\n",
    "opt = SGD(lr=MIN_LR, momentum=0.9)\n",
    "model.compile(loss=\"categorical_crossentropy\", optimizer=opt, metrics=[\"accuracy\"])"
   ]
  },
  {
   "cell_type": "markdown",
   "metadata": {},
   "source": [
    "# Find learning rate"
   ]
  },
  {
   "cell_type": "code",
   "execution_count": 8,
   "metadata": {},
   "outputs": [
    {
     "name": "stdout",
     "output_type": "stream",
     "text": [
      "[INFO] finding learning rate...\n"
     ]
    },
    {
     "name": "stderr",
     "output_type": "stream",
     "text": [
      "C:\\Users\\Cheng\\Anaconda3\\lib\\site-packages\\keras_preprocessing\\image\\numpy_array_iterator.py:127: UserWarning: NumpyArrayIterator is set to use the data format convention \"channels_last\" (channels on axis 3), i.e. expected either 1, 3, or 4 channels on axis 3. However, it was passed an array with shape (1600, 49, 98, 2) (2 channels).\n",
      "  str(self.x.shape[channels_axis]) + ' channels).')\n"
     ]
    },
    {
     "name": "stdout",
     "output_type": "stream",
     "text": [
      "Epoch 1/64\n",
      "32/32 [==============================] - 3s 90ms/step - loss: 1.0887 - accuracy: 0.4981\n",
      "Epoch 2/64\n",
      "32/32 [==============================] - 2s 50ms/step - loss: 1.1064 - accuracy: 0.4981\n",
      "Epoch 3/64\n",
      "32/32 [==============================] - 2s 50ms/step - loss: 1.0976 - accuracy: 0.4950\n",
      "Epoch 4/64\n",
      "32/32 [==============================] - 2s 50ms/step - loss: 1.1408 - accuracy: 0.5025\n",
      "Epoch 5/64\n",
      "32/32 [==============================] - 2s 64ms/step - loss: 1.0973 - accuracy: 0.4994\n",
      "Epoch 6/64\n",
      "32/32 [==============================] - 2s 59ms/step - loss: 1.1173 - accuracy: 0.4994\n",
      "Epoch 7/64\n",
      "32/32 [==============================] - 2s 60ms/step - loss: 1.0857 - accuracy: 0.5019\n",
      "Epoch 8/64\n",
      "32/32 [==============================] - 2s 57ms/step - loss: 1.1031 - accuracy: 0.4981\n",
      "Epoch 9/64\n",
      "32/32 [==============================] - 2s 57ms/step - loss: 1.1118 - accuracy: 0.5013\n",
      "Epoch 10/64\n",
      "32/32 [==============================] - 2s 56ms/step - loss: 1.1031 - accuracy: 0.5069\n",
      "Epoch 11/64\n",
      "32/32 [==============================] - 2s 58ms/step - loss: 1.1071 - accuracy: 0.5019\n",
      "Epoch 12/64\n",
      "32/32 [==============================] - 2s 57ms/step - loss: 1.0848 - accuracy: 0.5075\n",
      "Epoch 13/64\n",
      "32/32 [==============================] - 2s 57ms/step - loss: 1.1238 - accuracy: 0.5056\n",
      "Epoch 14/64\n",
      "32/32 [==============================] - 2s 58ms/step - loss: 1.1270 - accuracy: 0.5013\n",
      "Epoch 15/64\n",
      "32/32 [==============================] - 2s 57ms/step - loss: 1.0938 - accuracy: 0.5038\n",
      "Epoch 16/64\n",
      "32/32 [==============================] - 2s 57ms/step - loss: 1.0840 - accuracy: 0.5006\n",
      "Epoch 17/64\n",
      "32/32 [==============================] - 2s 57ms/step - loss: 1.0603 - accuracy: 0.5063 0s - los\n",
      "Epoch 18/64\n",
      "32/32 [==============================] - 2s 57ms/step - loss: 1.0625 - accuracy: 0.4988\n",
      "Epoch 19/64\n",
      "32/32 [==============================] - 2s 58ms/step - loss: 1.0847 - accuracy: 0.5019\n",
      "Epoch 20/64\n",
      "32/32 [==============================] - 2s 62ms/step - loss: 1.0448 - accuracy: 0.5038\n",
      "Epoch 21/64\n",
      "32/32 [==============================] - 2s 61ms/step - loss: 1.0334 - accuracy: 0.4994\n",
      "Epoch 22/64\n",
      "32/32 [==============================] - 2s 60ms/step - loss: 0.9817 - accuracy: 0.5013\n",
      "Epoch 23/64\n",
      "32/32 [==============================] - 2s 57ms/step - loss: 0.9485 - accuracy: 0.4919\n",
      "Epoch 24/64\n",
      "32/32 [==============================] - 2s 60ms/step - loss: 0.8902 - accuracy: 0.4994 1s\n",
      "Epoch 25/64\n",
      "32/32 [==============================] - 2s 59ms/step - loss: 0.8384 - accuracy: 0.4981\n",
      "Epoch 26/64\n",
      "32/32 [==============================] - 2s 57ms/step - loss: 0.8106 - accuracy: 0.5013\n",
      "Epoch 27/64\n",
      "32/32 [==============================] - 2s 58ms/step - loss: 0.7823 - accuracy: 0.5188\n",
      "Epoch 28/64\n",
      "32/32 [==============================] - 2s 60ms/step - loss: 0.7580 - accuracy: 0.5244\n",
      "Epoch 29/64\n",
      "32/32 [==============================] - 2s 62ms/step - loss: 0.7638 - accuracy: 0.5362\n",
      "Epoch 30/64\n",
      "32/32 [==============================] - 2s 60ms/step - loss: 0.7605 - accuracy: 0.5194\n",
      "Epoch 31/64\n",
      "32/32 [==============================] - 2s 59ms/step - loss: 0.7402 - accuracy: 0.5431\n",
      "Epoch 32/64\n",
      "32/32 [==============================] - 2s 58ms/step - loss: 0.7211 - accuracy: 0.5387\n",
      "Epoch 33/64\n",
      "32/32 [==============================] - 2s 57ms/step - loss: 0.7152 - accuracy: 0.5631\n",
      "Epoch 34/64\n",
      "32/32 [==============================] - 2s 64ms/step - loss: 0.6919 - accuracy: 0.5775\n",
      "Epoch 35/64\n",
      "32/32 [==============================] - 2s 66ms/step - loss: 0.6281 - accuracy: 0.6519\n",
      "Epoch 36/64\n",
      "32/32 [==============================] - 2s 66ms/step - loss: 0.5219 - accuracy: 0.7581- ETA: 0s - loss: 0.5296 - accuracy: 0.\n",
      "Epoch 37/64\n",
      "32/32 [==============================] - 2s 65ms/step - loss: 0.3890 - accuracy: 0.8425\n",
      "Epoch 38/64\n",
      "32/32 [==============================] - 2s 60ms/step - loss: 0.3397 - accuracy: 0.8700 1s - loss: 0.3588 - accuracy: 0.\n",
      "Epoch 39/64\n",
      "32/32 [==============================] - 2s 57ms/step - loss: 0.2670 - accuracy: 0.8919\n",
      "Epoch 40/64\n",
      "32/32 [==============================] - 2s 57ms/step - loss: 0.2164 - accuracy: 0.9181\n",
      "Epoch 41/64\n",
      "32/32 [==============================] - 2s 58ms/step - loss: 0.1518 - accuracy: 0.9463\n",
      "Epoch 42/64\n",
      "32/32 [==============================] - 2s 57ms/step - loss: 0.0976 - accuracy: 0.9650\n",
      "Epoch 43/64\n",
      "32/32 [==============================] - 2s 67ms/step - loss: 0.0601 - accuracy: 0.9850\n",
      "Epoch 44/64\n",
      "32/32 [==============================] - 2s 70ms/step - loss: 0.0672 - accuracy: 0.9781\n",
      "Epoch 45/64\n",
      "32/32 [==============================] - 2s 61ms/step - loss: 0.2397 - accuracy: 0.9112\n",
      "Epoch 46/64\n",
      "32/32 [==============================] - 2s 57ms/step - loss: 0.0739 - accuracy: 0.9744 \n",
      "Epoch 47/64\n",
      "32/32 [==============================] - 2s 57ms/step - loss: 0.0047 - accuracy: 0.9987\n",
      "Epoch 48/64\n",
      "32/32 [==============================] - 2s 59ms/step - loss: 0.0047 - accuracy: 0.9987ETA: \n",
      "Epoch 49/64\n",
      "32/32 [==============================] - 2s 59ms/step - loss: 9.7634e-04 - accuracy: 1.0000\n",
      "Epoch 50/64\n",
      "32/32 [==============================] - 2s 58ms/step - loss: 0.0026 - accuracy: 0.9987\n",
      "Epoch 51/64\n",
      "32/32 [==============================] - 2s 60ms/step - loss: 0.0025 - accuracy: 1.0000\n",
      "Epoch 52/64\n",
      "32/32 [==============================] - 2s 57ms/step - loss: 7.6399e-04 - accuracy: 1.0000\n",
      "Epoch 53/64\n",
      "32/32 [==============================] - 2s 57ms/step - loss: 0.0109 - accuracy: 0.9956\n",
      "Epoch 54/64\n",
      " 1/32 [..............................] - ETA: 2s - loss: 3.2464 - accuracy: 0.5800[INFO] learning rate finder complete\n",
      "[INFO] examine plot and adjust learning rates before training\n"
     ]
    },
    {
     "data": {
      "image/png": "[encoded data removed]",
      "text/plain": [
       "<Figure size 432x288 with 1 Axes>"
      ]
     },
     "metadata": {
      "needs_background": "light"
     },
     "output_type": "display_data"
    }
   ],
   "source": [
    "if lr_find > 0:\n",
    "# initialize the learning rate finder (from 1e-10 to 1e+1)\n",
    "    print(\"[INFO] finding learning rate...\")\n",
    "    lrf = LearningRateFinder(model)\n",
    "    lrf.find(gen_aug.flow(X_train, Y_train, batch_size=BATCH_SIZE), 1e-10, 1e+1,\n",
    "    stepsPerEpoch=np.ceil((len(X_train) / float(BATCH_SIZE))), batchSize=BATCH_SIZE)\n",
    "\n",
    "    # plot the loss and save the resulting plot to disk\n",
    "    lrf.plot_loss()\n",
    "    plt.savefig(LRFIND_PLOT_PATH)\n",
    "    \n",
    "    print(\"[INFO] learning rate finder complete\")\n",
    "    print(\"[INFO] examine plot and adjust learning rates before training\")\n",
    "    #exit(0)"
   ]
  },
  {
   "cell_type": "markdown",
   "metadata": {},
   "source": [
    "# Cyclical training"
   ]
  },
  {
   "cell_type": "code",
   "execution_count": 9,
   "metadata": {},
   "outputs": [
    {
     "name": "stdout",
     "output_type": "stream",
     "text": [
      "[INFO] training network...\n",
      "Epoch 1/48"
     ]
    },
    {
     "name": "stderr",
     "output_type": "stream",
     "text": [
      "C:\\Users\\Cheng\\Anaconda3\\lib\\site-packages\\keras_preprocessing\\image\\numpy_array_iterator.py:127: UserWarning: NumpyArrayIterator is set to use the data format convention \"channels_last\" (channels on axis 3), i.e. expected either 1, 3, or 4 channels on axis 3. However, it was passed an array with shape (1600, 49, 98, 2) (2 channels).\n",
      "  str(self.x.shape[channels_axis]) + ' channels).')\n"
     ]
    },
    {
     "name": "stdout",
     "output_type": "stream",
     "text": [
      "\n",
      "32/32 [==============================] - 2s 64ms/step - loss: 12.6984 - accuracy: 0.4837 - val_loss: 2955.7201 - val_accuracy: 0.5000\n",
      "Epoch 2/48\n",
      "32/32 [==============================] - 2s 56ms/step - loss: 0.7307 - accuracy: 0.6137 - val_loss: 1918.7029 - val_accuracy: 0.5000\n",
      "Epoch 3/48\n",
      "32/32 [==============================] - 2s 58ms/step - loss: 0.5182 - accuracy: 0.7462 - val_loss: 407.2626 - val_accuracy: 0.5000\n",
      "Epoch 4/48\n",
      "32/32 [==============================] - 2s 58ms/step - loss: 0.4374 - accuracy: 0.7881 - val_loss: 16.8049 - val_accuracy: 0.5000\n",
      "Epoch 5/48\n",
      "32/32 [==============================] - 2s 59ms/step - loss: 0.3367 - accuracy: 0.8587 - val_loss: 3.0179 - val_accuracy: 0.5000\n",
      "Epoch 6/48\n",
      "32/32 [==============================] - 2s 58ms/step - loss: 0.2370 - accuracy: 0.9125 - val_loss: 1.7284 - val_accuracy: 0.5000\n",
      "Epoch 7/48\n",
      "32/32 [==============================] - 2s 58ms/step - loss: 0.3123 - accuracy: 0.9000 - val_loss: 1.7380 - val_accuracy: 0.5000\n",
      "Epoch 8/48\n",
      "32/32 [==============================] - 2s 58ms/step - loss: 0.2179 - accuracy: 0.9306 - val_loss: 1.7243 - val_accuracy: 0.5000\n",
      "Epoch 9/48\n",
      "32/32 [==============================] - 2s 58ms/step - loss: 0.2300 - accuracy: 0.9244 - val_loss: 1.4483 - val_accuracy: 0.5000\n",
      "Epoch 10/48\n",
      "32/32 [==============================] - 2s 58ms/step - loss: 0.2104 - accuracy: 0.9525 - val_loss: 1.3075 - val_accuracy: 0.5000\n",
      "Epoch 11/48\n",
      "32/32 [==============================] - 2s 59ms/step - loss: 0.1581 - accuracy: 0.9506 - val_loss: 1.5893 - val_accuracy: 0.5000\n",
      "Epoch 12/48\n",
      "32/32 [==============================] - 2s 58ms/step - loss: 0.1079 - accuracy: 0.9638 - val_loss: 1.3654 - val_accuracy: 0.5000\n",
      "Epoch 13/48\n",
      "32/32 [==============================] - 2s 58ms/step - loss: 0.0599 - accuracy: 0.9781 - val_loss: 1.4249 - val_accuracy: 0.5000\n",
      "Epoch 14/48\n",
      "32/32 [==============================] - 2s 58ms/step - loss: 0.0684 - accuracy: 0.9800 - val_loss: 1.2910 - val_accuracy: 0.5000\n",
      "Epoch 15/48\n",
      "32/32 [==============================] - 2s 58ms/step - loss: 0.0490 - accuracy: 0.9881 - val_loss: 1.4277 - val_accuracy: 0.5000\n",
      "Epoch 16/48\n",
      "32/32 [==============================] - 2s 59ms/step - loss: 0.0454 - accuracy: 0.9856 - val_loss: 1.4001 - val_accuracy: 0.5000\n",
      "Epoch 17/48\n",
      "32/32 [==============================] - 2s 58ms/step - loss: 0.0338 - accuracy: 0.9894 - val_loss: 1.3681 - val_accuracy: 0.5000\n",
      "Epoch 18/48\n",
      "32/32 [==============================] - 2s 64ms/step - loss: 0.0408 - accuracy: 0.9887 - val_loss: 0.9933 - val_accuracy: 0.5450\n",
      "Epoch 19/48\n",
      "32/32 [==============================] - 2s 70ms/step - loss: 0.0395 - accuracy: 0.9900 - val_loss: 0.7089 - val_accuracy: 0.6575\n",
      "Epoch 20/48\n",
      "32/32 [==============================] - 2s 70ms/step - loss: 0.0295 - accuracy: 0.9894 - val_loss: 0.2505 - val_accuracy: 0.8875\n",
      "Epoch 21/48\n",
      "32/32 [==============================] - 2s 62ms/step - loss: 0.0406 - accuracy: 0.9894 - val_loss: 0.1096 - val_accuracy: 0.9650\n",
      "Epoch 22/48\n",
      "32/32 [==============================] - 2s 58ms/step - loss: 0.0542 - accuracy: 0.9869 - val_loss: 0.0429 - val_accuracy: 0.9850\n",
      "Epoch 23/48\n",
      "32/32 [==============================] - 2s 58ms/step - loss: 0.0639 - accuracy: 0.9869 - val_loss: 0.0106 - val_accuracy: 0.9975\n",
      "Epoch 24/48\n",
      "32/32 [==============================] - 2s 58ms/step - loss: 0.0460 - accuracy: 0.9900 - val_loss: 0.0973 - val_accuracy: 0.9750\n",
      "Epoch 25/48\n",
      "32/32 [==============================] - 2s 60ms/step - loss: 0.1060 - accuracy: 0.9800 - val_loss: 0.0175 - val_accuracy: 0.9925\n",
      "Epoch 26/48\n",
      "32/32 [==============================] - 2s 58ms/step - loss: 0.0699 - accuracy: 0.9819 - val_loss: 0.0258 - val_accuracy: 0.9925\n",
      "Epoch 27/48\n",
      "32/32 [==============================] - 2s 60ms/step - loss: 0.0462 - accuracy: 0.9875 - val_loss: 2.3335e-04 - val_accuracy: 1.0000\n",
      "Epoch 28/48\n",
      "32/32 [==============================] - 2s 60ms/step - loss: 0.0616 - accuracy: 0.9850 - val_loss: 1.1536e-05 - val_accuracy: 1.0000\n",
      "Epoch 29/48\n",
      "32/32 [==============================] - 2s 58ms/step - loss: 0.0284 - accuracy: 0.9931 - val_loss: 6.7384e-04 - val_accuracy: 1.0000\n",
      "Epoch 30/48\n",
      "32/32 [==============================] - 2s 58ms/step - loss: 0.0323 - accuracy: 0.9944 - val_loss: 4.5562e-06 - val_accuracy: 1.0000\n",
      "Epoch 31/48\n",
      "32/32 [==============================] - 2s 58ms/step - loss: 0.0238 - accuracy: 0.9931 - val_loss: 5.5070e-04 - val_accuracy: 1.0000\n",
      "Epoch 32/48\n",
      "32/32 [==============================] - 2s 63ms/step - loss: 0.0234 - accuracy: 0.9956 - val_loss: 9.6424e-05 - val_accuracy: 1.0000\n",
      "Epoch 33/48\n",
      "32/32 [==============================] - 2s 60ms/step - loss: 0.0056 - accuracy: 0.9981 - val_loss: 1.0966e-05 - val_accuracy: 1.0000\n",
      "Epoch 34/48\n",
      "32/32 [==============================] - 2s 59ms/step - loss: 0.0153 - accuracy: 0.9962 - val_loss: 8.5548e-07 - val_accuracy: 1.0000\n",
      "Epoch 35/48\n",
      "32/32 [==============================] - 2s 57ms/step - loss: 0.0262 - accuracy: 0.9956 - val_loss: 1.0613e-06 - val_accuracy: 1.0000\n",
      "Epoch 36/48\n",
      "32/32 [==============================] - 2s 58ms/step - loss: 0.0087 - accuracy: 0.9962 - val_loss: 0.0045 - val_accuracy: 0.9975\n",
      "Epoch 37/48\n",
      "32/32 [==============================] - 2s 58ms/step - loss: 0.0326 - accuracy: 0.9950 - val_loss: 2.6247e-04 - val_accuracy: 1.0000\n",
      "Epoch 38/48\n",
      "32/32 [==============================] - 2s 58ms/step - loss: 0.0306 - accuracy: 0.9931 - val_loss: 4.8096e-07 - val_accuracy: 1.0000\n",
      "Epoch 39/48\n",
      "32/32 [==============================] - 2s 59ms/step - loss: 0.0249 - accuracy: 0.9944 - val_loss: 3.8743e-09 - val_accuracy: 1.0000\n",
      "Epoch 40/48\n",
      "32/32 [==============================] - 2s 61ms/step - loss: 0.0104 - accuracy: 0.9987 - val_loss: 1.1921e-09 - val_accuracy: 1.0000\n",
      "Epoch 41/48\n",
      "32/32 [==============================] - 2s 58ms/step - loss: 0.0258 - accuracy: 0.9937 - val_loss: 1.5188e-05 - val_accuracy: 1.0000\n",
      "Epoch 42/48\n",
      "32/32 [==============================] - 2s 58ms/step - loss: 0.0122 - accuracy: 0.9937 - val_loss: 5.9605e-10 - val_accuracy: 1.0000\n",
      "Epoch 43/48\n",
      "32/32 [==============================] - 2s 59ms/step - loss: 0.0071 - accuracy: 0.9981 - val_loss: 3.6178e-07 - val_accuracy: 1.0000\n",
      "Epoch 44/48\n",
      "32/32 [==============================] - 2s 59ms/step - loss: 0.0115 - accuracy: 0.9962 - val_loss: 8.9407e-10 - val_accuracy: 1.0000\n",
      "Epoch 45/48\n",
      "32/32 [==============================] - 2s 59ms/step - loss: 0.0171 - accuracy: 0.9956 - val_loss: 1.0021e-06 - val_accuracy: 1.0000\n",
      "Epoch 46/48\n",
      "32/32 [==============================] - 2s 58ms/step - loss: 0.0088 - accuracy: 0.9994 - val_loss: 3.0158e-07 - val_accuracy: 1.0000\n",
      "Epoch 47/48\n",
      "32/32 [==============================] - 2s 58ms/step - loss: 0.0163 - accuracy: 0.9944 - val_loss: 2.3842e-09 - val_accuracy: 1.0000\n",
      "Epoch 48/48\n",
      "32/32 [==============================] - 2s 60ms/step - loss: 0.0189 - accuracy: 0.9956 - val_loss: 0.0000e+00 - val_accuracy: 1.0000\n",
      "[INFO] evaluating network...\n",
      "              precision    recall  f1-score   support\n",
      "\n",
      "           5       1.00      1.00      1.00       200\n",
      "           1       1.00      1.00      1.00       200\n",
      "\n",
      "    accuracy                           1.00       400\n",
      "   macro avg       1.00      1.00      1.00       400\n",
      "weighted avg       1.00      1.00      1.00       400\n",
      "\n"
     ]
    }
   ],
   "source": [
    "# otherwise, we have already defined a learning rate space to train\n",
    "# over, so compute the step size and initialize the cyclic learning\n",
    "# rate method\n",
    "stepSize = STEP_SIZE * (X_train.shape[0] // BATCH_SIZE)\n",
    "clr = CyclicLR(mode=CLR_METHOD, base_lr=MIN_LR, max_lr=MAX_LR, step_size=stepSize)\n",
    "\n",
    "# train the network\n",
    "print(\"[INFO] training network...\")\n",
    "H = model.fit_generator(gen_aug.flow(X_train, Y_train, batch_size=BATCH_SIZE),\n",
    "    validation_data=(X_test, Y_test),\n",
    "    steps_per_epoch=X_train.shape[0] // BATCH_SIZE,\n",
    "    epochs=NUM_EPOCHS,\n",
    "    callbacks=[clr],\n",
    "    verbose=1)\n",
    "\n",
    "# evaluate the network and show a classification report\n",
    "print(\"[INFO] evaluating network...\")\n",
    "predictions = model.predict(X_test, batch_size=BATCH_SIZE)\n",
    "print(classification_report(Y_test.argmax(axis=1),\n",
    "predictions.argmax(axis=1), target_names=CLASSES))"
   ]
  },
  {
   "cell_type": "markdown",
   "metadata": {},
   "source": [
    "# Plot results"
   ]
  },
  {
   "cell_type": "code",
   "execution_count": 10,
   "metadata": {},
   "outputs": [
    {
     "data": {
      "image/png": "[encoded data removed]",
      "text/plain": [
       "<Figure size 432x288 with 1 Axes>"
      ]
     },
     "metadata": {},
     "output_type": "display_data"
    },
    {
     "data": {
      "image/png": "[encoded data removed]",
      "text/plain": [
       "<Figure size 432x288 with 1 Axes>"
      ]
     },
     "metadata": {},
     "output_type": "display_data"
    }
   ],
   "source": [
    "# construct a plot that plots and saves the training history\n",
    "N = np.arange(0, NUM_EPOCHS)\n",
    "plt.style.use(\"ggplot\")\n",
    "plt.figure()\n",
    "plt.plot(N, H.history[\"loss\"], label=\"train_loss\")\n",
    "plt.plot(N, H.history[\"val_loss\"], label=\"val_loss\")\n",
    "# plt.plot(N, H.history[\"acc\"], label=\"train_acc\")\n",
    "# plt.plot(N, H.history[\"val_acc\"], label=\"val_acc\")\n",
    "plt.title(\"Training Loss and Accuracy\")\n",
    "plt.xlabel(\"Epoch #\")\n",
    "plt.ylabel(\"Loss/Accuracy\")\n",
    "plt.legend(loc=\"lower left\")\n",
    "plt.savefig(TRAINING_PLOT_PATH)\n",
    "\n",
    "# plot the learning rate history\n",
    "N = np.arange(0, len(clr.history[\"lr\"]))\n",
    "plt.figure()\n",
    "plt.plot(N, clr.history[\"lr\"])\n",
    "plt.title(\"Cyclical Learning Rate (CLR)\")\n",
    "plt.xlabel(\"Training Iterations\")\n",
    "plt.ylabel(\"Learning Rate\")\n",
    "plt.savefig(CLR_PLOT_PATH)"
   ]
  },
  {
   "cell_type": "code",
   "execution_count": null,
   "metadata": {},
   "outputs": [],
   "source": []
  }
 ],
 "metadata": {
  "kernelspec": {
   "display_name": "Python 3",
   "language": "python",
   "name": "python3"
  },
  "language_info": {
   "codemirror_mode": {
    "name": "ipython",
    "version": 3
   },
   "file_extension": ".py",
   "mimetype": "text/x-python",
   "name": "python",
   "nbconvert_exporter": "python",
   "pygments_lexer": "ipython3",
   "version": "3.6.5"
  }
 },
 "nbformat": 4,
 "nbformat_minor": 2
}
