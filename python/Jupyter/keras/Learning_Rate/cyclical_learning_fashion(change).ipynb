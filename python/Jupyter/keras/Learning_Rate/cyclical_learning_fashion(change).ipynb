{
 "cells": [
  {
   "cell_type": "markdown",
   "metadata": {},
   "source": [
    "# Cyclical Learning using Fashion_MNIST dataset\n",
    "## References:\n",
    "1. Leslie Smith, \"Cyclical Learning Rates for Training Neural Networks\", arXiv: 1506.01186\n",
    "2. https://www.pyimagesearch.com/2019/07/29/cyclical-learning-rates-with-keras-and-deep-learning/"
   ]
  },
  {
   "cell_type": "code",
   "execution_count": 1,
   "metadata": {},
   "outputs": [
    {
     "name": "stderr",
     "output_type": "stream",
     "text": [
      "Using TensorFlow backend.\n"
     ]
    }
   ],
   "source": [
    "import numpy as np\n",
    "import matplotlib.pyplot as plt\n",
    "#import matplotlib\n",
    "#matplotlib.use(\"Agg\")\n",
    "\n",
    "import os, sys\n",
    "import cv2, keras\n",
    "from keras.models import Model\n",
    "from keras.models import Sequential\n",
    "from sklearn.preprocessing import LabelBinarizer\n",
    "from sklearn.metrics import classification_report\n",
    "from keras.preprocessing.image import ImageDataGenerator\n",
    "from keras.optimizers import SGD\n",
    "#from keras.datasets import fashion_mnist\n",
    "from keras.layers import Dense, Activation, Convolution2D, MaxPooling2D, Flatten, BatchNormalization, Input\n",
    "#from keras.datasets import cifar10\n",
    "\n",
    "from learningratefinder import LearningRateFinder\n",
    "from clr_callback import CyclicLR\n",
    "#from model.minigooglenet import MiniGoogLeNet"
   ]
  },
  {
   "cell_type": "markdown",
   "metadata": {},
   "source": [
    "# Define hyper-parameters"
   ]
  },
  {
   "cell_type": "code",
   "execution_count": 2,
   "metadata": {},
   "outputs": [],
   "source": [
    "# initialize the list of class label names\n",
    "# CLASSES = [\"top\", \"trouser\", \"pullover\", \"dress\", \"coat\", \"sandal\", \"shirt\", \"sneaker\", \"bag\", \"ankle boot\"]\n",
    "\n",
    "# define hyper-parameters\n",
    "MIN_LR = 1e-5\n",
    "MAX_LR = 1e-2\n",
    "BATCH_SIZE = 50\n",
    "STEP_SIZE = 8\n",
    "CLR_METHOD = \"triangular\"\n",
    "NUM_EPOCHS = 48\n",
    "lr_find = 1\n",
    "\n",
    "# define plot path\n",
    "LRFIND_PLOT_PATH = os.path.sep.join([\"output\", \"lrfind_plot2.png\"])\n",
    "TRAINING_PLOT_PATH = os.path.sep.join([\"output\", \"training_plot2.png\"])\n",
    "CLR_PLOT_PATH = os.path.sep.join([\"output\", \"clr_plot2.png\"])"
   ]
  },
  {
   "cell_type": "markdown",
   "metadata": {},
   "source": [
    "# Load data"
   ]
  },
  {
   "cell_type": "code",
   "execution_count": 3,
   "metadata": {},
   "outputs": [
    {
     "name": "stdout",
     "output_type": "stream",
     "text": [
      "[INFO] loading Fashion data...\n"
     ]
    }
   ],
   "source": [
    "conv1,conv2,linear = (3, 3, 5, 1, 'same'), (3, 3, 5, 1, 'same'), (\"\", 512, 4)\n",
    "channelsize = (36, 72)\n",
    "\n",
    "classify_phase = [5, 1, 3, 7]\n",
    "filename = [\"20200310\",\"G_eigenvector\",\"6\"]\n",
    "kind_of_data = [\"eigenvector_r_square_combine_theta_particle_hole\",\"phase\"]\n",
    "line = \"delta=0.5\"\n",
    "path = 'D:/program/vscode_workspace/private/data/project_data(phy)/train/'\n",
    "\n",
    "\n",
    "CLASSES = []\n",
    "for p in classify_phase:\n",
    "    CLASSES.append(str(p))\n",
    "\n",
    "def move(ph):\n",
    "    if(line==\"delta=0.5\" or line==\"delta=-0.5\"):\n",
    "        if(ph==5 or ph==6):\n",
    "            m = 0\n",
    "        elif(ph==1 or ph==2):\n",
    "            m = 1000\n",
    "        elif(ph==3 or ph==4):\n",
    "            m = 2000\n",
    "        elif(ph==7 or ph==8):\n",
    "            m = 3000\n",
    "        else:\n",
    "            print(\"error\")\n",
    "    else:\n",
    "        if(ph==5 or ph==1 or ph==3 or ph==7):\n",
    "            m = 0\n",
    "        elif(ph==6 or ph==2 or ph==4 or ph==8):\n",
    "            m = 1000\n",
    "        else:\n",
    "            print(\"error\")            \n",
    "    return m\n",
    "\n",
    "def get_train_data(phase):\n",
    "\n",
    "    file = np.load((path+'{},{}_train,N={},{}.npz').format(filename[0],filename[1],filename[2],line))\n",
    "    test_input = []\n",
    "    test_target = []\n",
    "    train_input = []\n",
    "    train_target = []\n",
    "\n",
    "    for i in range(len(phase)):\n",
    "        test_input += file[kind_of_data[0]][800 + move(phase[i]) : 1000 + move(phase[i])].tolist()\n",
    "        test_target += file[kind_of_data[1]][800 + move(phase[i]) : 1000 + move(phase[i])].tolist()\n",
    "        train_input += file[kind_of_data[0]][0 + move(phase[i]) : 800 + move(phase[i])].tolist()\n",
    "        train_target += file[kind_of_data[1]][0 + move(phase[i]) : 800 + move(phase[i])].tolist()\n",
    "\n",
    "    test_input = np.array(test_input)\n",
    "    test_target = np.array(test_target)\n",
    "    train_input = np.array(train_input)\n",
    "    train_target = np.array(train_target)\n",
    "\n",
    "    return [test_input, test_target, train_input, train_target]\n",
    "\n",
    "total_data = get_train_data(classify_phase)    \n",
    "\n",
    "print(\"[INFO] loading Fashion data...\")\n",
    "X_train, Y_train, X_test, Y_test = total_data[2], total_data[3], total_data[0], total_data[1]\n",
    "\n",
    "# Fashion MNIST images are 28x28, reshape to 32x32\n",
    "# X_train = np.array([cv2.resize(x, (channelsize[0], channelsize[1])) for x in X_train])\n",
    "# X_test = np.array([cv2.resize(x, (channelsize[0], channelsize[1])) for x in X_test])\n",
    "\n",
    "# normalization\n",
    "X_train = X_train.astype(\"float\") / 255.0\n",
    "X_test = X_test.astype(\"float\") / 255.0\n",
    "\n",
    "# reshape\n",
    "# print(\"X_train : \",np.shape(X_train))\n",
    "# print(\"X_test : \",np.shape(X_test))\n",
    "X_train = X_train.transpose((0,2,3,1)) #.reshape((X_train.shape[0], channelsize[0], channelsize[1], conv1[0]))\n",
    "X_test = X_test.transpose((0,2,3,1))   #reshape((X_test.shape[0], channelsize[0], channelsize[1], conv1[0]))\n",
    "\n",
    "\"\"\"One can also try cifar10 dataset\n",
    "print(\"[INFO] loading CIFAR-10 data...\")\n",
    "((X_train, Y_train), (X_test, Y_test)) = cifar10.load_data()\n",
    "X_train = X_train.astype(\"float\")\n",
    "X_test = X_test.astype(\"float\")\n",
    "\n",
    "# apply mean subtraction to the data\n",
    "mean = np.mean(X_train, axis=0)\n",
    "X_train -= mean\n",
    "X_test -= mean\n",
    "\"\"\"\n",
    "# One-hot encoding\n",
    "lb = LabelBinarizer()\n",
    "Y_train = lb.fit_transform(Y_train)\n",
    "Y_test = lb.transform(Y_test)\n",
    "\n",
    "if(len(classify_phase)==2):\n",
    "    Y_train = Y_train.tolist()\n",
    "    Y_test = Y_test.tolist()\n",
    "    for i in range(len(Y_train)): Y_train[i].append(1-Y_train[i][0])\n",
    "    for i in range(len(Y_test )): Y_test[i].append(1-Y_test[i][0])\n",
    "    Y_train = np.array(Y_train)\n",
    "    Y_test = np.array(Y_test)"
   ]
  },
  {
   "cell_type": "code",
   "execution_count": 4,
   "metadata": {},
   "outputs": [],
   "source": [
    "# construct the image generator for data augmentation\n",
    "gen_aug = ImageDataGenerator(width_shift_range=0.1, height_shift_range=0.1, horizontal_flip=True, fill_mode=\"nearest\")"
   ]
  },
  {
   "cell_type": "markdown",
   "metadata": {},
   "source": [
    "# Model construction"
   ]
  },
  {
   "cell_type": "code",
   "execution_count": 5,
   "metadata": {},
   "outputs": [],
   "source": [
    "def resnet(input_shape):\n",
    "    inputs = Input(shape=input_shape)\n",
    "\n",
    "    x = Convolution2D(batch_input_shape=(None, channelsize[0], channelsize[1], conv1[0]), \n",
    "                      filters=conv1[1], \n",
    "                      kernel_size=conv1[2], \n",
    "                      strides=conv1[3],\n",
    "                      padding=conv1[4])(inputs)\n",
    "    x = BatchNormalization()(x)    \n",
    "    x = Activation('relu')(x)\n",
    "    x = Convolution2D(filters=conv2[1], \n",
    "                      kernel_size=conv2[2], \n",
    "                      strides=conv2[3],\n",
    "                      padding=conv2[4])(x)\n",
    "    x = BatchNormalization()(x)    \n",
    "    x = Activation('relu')(x)\n",
    "    \n",
    "    x = keras.layers.add([x,inputs])\n",
    "    \n",
    "    x = Flatten()(x)\n",
    "    x = Dense(linear[1])(x)\n",
    "    x = Dense(linear[2])(x)\n",
    "    outputs = Activation('softmax')(x)\n",
    "    \n",
    "    return Model(inputs=inputs,outputs=outputs)\n",
    "\n",
    "model = resnet((channelsize[0], channelsize[1], 3))\n"
   ]
  },
  {
   "cell_type": "code",
   "execution_count": 6,
   "metadata": {},
   "outputs": [
    {
     "name": "stdout",
     "output_type": "stream",
     "text": [
      "Model: \"model_1\"\n",
      "__________________________________________________________________________________________________\n",
      "Layer (type)                    Output Shape         Param #     Connected to                     \n",
      "==================================================================================================\n",
      "input_1 (InputLayer)            (None, 36, 72, 3)    0                                            \n",
      "__________________________________________________________________________________________________\n",
      "conv2d_1 (Conv2D)               (None, 36, 72, 3)    228         input_1[0][0]                    \n",
      "__________________________________________________________________________________________________\n",
      "batch_normalization_1 (BatchNor (None, 36, 72, 3)    12          conv2d_1[0][0]                   \n",
      "__________________________________________________________________________________________________\n",
      "activation_1 (Activation)       (None, 36, 72, 3)    0           batch_normalization_1[0][0]      \n",
      "__________________________________________________________________________________________________\n",
      "conv2d_2 (Conv2D)               (None, 36, 72, 3)    228         activation_1[0][0]               \n",
      "__________________________________________________________________________________________________\n",
      "batch_normalization_2 (BatchNor (None, 36, 72, 3)    12          conv2d_2[0][0]                   \n",
      "__________________________________________________________________________________________________\n",
      "activation_2 (Activation)       (None, 36, 72, 3)    0           batch_normalization_2[0][0]      \n",
      "__________________________________________________________________________________________________\n",
      "add_1 (Add)                     (None, 36, 72, 3)    0           activation_2[0][0]               \n",
      "                                                                 input_1[0][0]                    \n",
      "__________________________________________________________________________________________________\n",
      "flatten_1 (Flatten)             (None, 7776)         0           add_1[0][0]                      \n",
      "__________________________________________________________________________________________________\n",
      "dense_1 (Dense)                 (None, 512)          3981824     flatten_1[0][0]                  \n",
      "__________________________________________________________________________________________________\n",
      "dense_2 (Dense)                 (None, 4)            2052        dense_1[0][0]                    \n",
      "__________________________________________________________________________________________________\n",
      "activation_3 (Activation)       (None, 4)            0           dense_2[0][0]                    \n",
      "==================================================================================================\n",
      "Total params: 3,984,356\n",
      "Trainable params: 3,984,344\n",
      "Non-trainable params: 12\n",
      "__________________________________________________________________________________________________\n"
     ]
    }
   ],
   "source": [
    "# initialize a model\n",
    "#model = MiniGoogLeNet.build(width=32, height=32, depth=1, classes=10)\n",
    "model.summary()"
   ]
  },
  {
   "cell_type": "code",
   "execution_count": 7,
   "metadata": {},
   "outputs": [
    {
     "name": "stdout",
     "output_type": "stream",
     "text": [
      "[INFO] compiling model...\n"
     ]
    }
   ],
   "source": [
    "# initialize the optimizer\n",
    "print(\"[INFO] compiling model...\")\n",
    "opt = SGD(lr=MIN_LR, momentum=0.9)\n",
    "model.compile(loss=\"categorical_crossentropy\", optimizer=opt, metrics=[\"accuracy\"])"
   ]
  },
  {
   "cell_type": "markdown",
   "metadata": {},
   "source": [
    "# Find learning rate"
   ]
  },
  {
   "cell_type": "code",
   "execution_count": 8,
   "metadata": {},
   "outputs": [
    {
     "name": "stdout",
     "output_type": "stream",
     "text": [
      "[INFO] finding learning rate...\n",
      "Epoch 1/32\n",
      "64/64 [==============================] - 4s 58ms/step - loss: 1.5801 - accuracy: 0.2384\n",
      "Epoch 2/32\n",
      "64/64 [==============================] - 3s 41ms/step - loss: 1.5881 - accuracy: 0.2394\n",
      "Epoch 3/32\n",
      "64/64 [==============================] - 3s 49ms/step - loss: 1.5867 - accuracy: 0.2425\n",
      "Epoch 4/32\n",
      "64/64 [==============================] - 3s 50ms/step - loss: 1.5943 - accuracy: 0.2362\n",
      "Epoch 5/32\n",
      "64/64 [==============================] - 3s 46ms/step - loss: 1.5938 - accuracy: 0.2269\n",
      "Epoch 6/32\n",
      "64/64 [==============================] - 3s 48ms/step - loss: 1.5746 - accuracy: 0.2347\n",
      "Epoch 7/32\n",
      "64/64 [==============================] - 3s 51ms/step - loss: 1.5857 - accuracy: 0.2331\n",
      "Epoch 8/32\n",
      "64/64 [==============================] - 3s 51ms/step - loss: 1.5950 - accuracy: 0.2347\n",
      "Epoch 9/32\n",
      "64/64 [==============================] - 4s 60ms/step - loss: 1.5860 - accuracy: 0.2369\n",
      "Epoch 10/32\n",
      "64/64 [==============================] - 3s 53ms/step - loss: 1.5964 - accuracy: 0.2256\n",
      "Epoch 11/32\n",
      "64/64 [==============================] - 3s 47ms/step - loss: 1.6154 - accuracy: 0.2191\n",
      "Epoch 12/32\n",
      "64/64 [==============================] - 3s 47ms/step - loss: 1.5625 - accuracy: 0.2422\n",
      "Epoch 13/32\n",
      "64/64 [==============================] - 3s 47ms/step - loss: 1.5521 - accuracy: 0.2369\n",
      "Epoch 14/32\n",
      "64/64 [==============================] - 3s 47ms/step - loss: 1.5167 - accuracy: 0.2503\n",
      "Epoch 15/32\n",
      "64/64 [==============================] - 3s 47ms/step - loss: 1.5181 - accuracy: 0.2353 1s - l\n",
      "Epoch 16/32\n",
      "64/64 [==============================] - 3s 47ms/step - loss: 1.4690 - accuracy: 0.2469\n",
      "Epoch 17/32\n",
      "64/64 [==============================] - 3s 47ms/step - loss: 1.4315 - accuracy: 0.2609\n",
      "Epoch 18/32\n",
      "64/64 [==============================] - 3s 47ms/step - loss: 1.3912 - accuracy: 0.2719\n",
      "Epoch 19/32\n",
      "64/64 [==============================] - 3s 48ms/step - loss: 1.3549 - accuracy: 0.3231\n",
      "Epoch 20/32\n",
      "64/64 [==============================] - 3s 47ms/step - loss: 1.2388 - accuracy: 0.4150\n",
      "Epoch 21/32\n",
      "64/64 [==============================] - 3s 47ms/step - loss: 0.9155 - accuracy: 0.5047\n",
      "Epoch 22/32\n",
      "64/64 [==============================] - 3s 48ms/step - loss: 0.8185 - accuracy: 0.5300 1s - l\n",
      "Epoch 23/32\n",
      "64/64 [==============================] - 3s 47ms/step - loss: 0.8158 - accuracy: 0.5269\n",
      "Epoch 24/32\n",
      "64/64 [==============================] - 3s 48ms/step - loss: 0.7908 - accuracy: 0.5238\n",
      "Epoch 25/32\n",
      "64/64 [==============================] - 3s 47ms/step - loss: 0.7284 - accuracy: 0.5591\n",
      "Epoch 26/32\n",
      "64/64 [==============================] - 3s 47ms/step - loss: 0.8938 - accuracy: 0.5013\n",
      "Epoch 27/32\n",
      "64/64 [==============================] - 3s 49ms/step - loss: 1.0764 - accuracy: 0.3941\n",
      "Epoch 28/32\n",
      "64/64 [==============================] - 3s 48ms/step - loss: 1.0917 - accuracy: 0.4497\n",
      "Epoch 29/32\n",
      " 6/64 [=>............................] - ETA: 2s - loss: 19.9296 - accuracy: 0.2967[INFO] learning rate finder complete\n",
      "[INFO] examine plot and adjust learning rates before training\n"
     ]
    },
    {
     "data": {
      "image/png": "[encoded data removed]",
      "text/plain": [
       "<Figure size 432x288 with 1 Axes>"
      ]
     },
     "metadata": {
      "needs_background": "light"
     },
     "output_type": "display_data"
    }
   ],
   "source": [
    "if lr_find > 0:\n",
    "# initialize the learning rate finder (from 1e-10 to 1e+1)\n",
    "    print(\"[INFO] finding learning rate...\")\n",
    "    lrf = LearningRateFinder(model)\n",
    "    lrf.find(gen_aug.flow(X_train, Y_train, batch_size=BATCH_SIZE), 1e-10, 1e+1,\n",
    "    stepsPerEpoch=np.ceil((len(X_train) / float(BATCH_SIZE))), batchSize=BATCH_SIZE)\n",
    "\n",
    "    # plot the loss and save the resulting plot to disk\n",
    "    lrf.plot_loss()\n",
    "    plt.savefig(LRFIND_PLOT_PATH)\n",
    "    \n",
    "    print(\"[INFO] learning rate finder complete\")\n",
    "    print(\"[INFO] examine plot and adjust learning rates before training\")\n",
    "    #exit(0)"
   ]
  },
  {
   "cell_type": "markdown",
   "metadata": {},
   "source": [
    "# Cyclical training"
   ]
  },
  {
   "cell_type": "code",
   "execution_count": 9,
   "metadata": {},
   "outputs": [
    {
     "name": "stdout",
     "output_type": "stream",
     "text": [
      "[INFO] training network...\n",
      "Epoch 1/48\n",
      "64/64 [==============================] - 3s 52ms/step - loss: 242146.2826 - accuracy: 0.2562 - val_loss: 826.0939 - val_accuracy: 0.2500\n",
      "Epoch 2/48\n",
      "64/64 [==============================] - 3s 48ms/step - loss: 497.9313 - accuracy: 0.2688 - val_loss: 67.5711 - val_accuracy: 0.3887\n",
      "Epoch 3/48\n",
      "64/64 [==============================] - 3s 49ms/step - loss: 331.3236 - accuracy: 0.2684 - val_loss: 60.6512 - val_accuracy: 0.2837\n",
      "Epoch 4/48\n",
      "64/64 [==============================] - 3s 49ms/step - loss: 297.1930 - accuracy: 0.3231 - val_loss: 59.0308 - val_accuracy: 0.2500\n",
      "Epoch 5/48\n",
      "64/64 [==============================] - 3s 50ms/step - loss: 265.2179 - accuracy: 0.3516 - val_loss: 37.0072 - val_accuracy: 0.4988\n",
      "Epoch 6/48\n",
      "64/64 [==============================] - 3s 48ms/step - loss: 250.7866 - accuracy: 0.3322 - val_loss: 12.9898 - val_accuracy: 0.3512\n",
      "Epoch 7/48\n",
      "64/64 [==============================] - 3s 48ms/step - loss: 206.7939 - accuracy: 0.3397 - val_loss: 0.9046 - val_accuracy: 0.6250\n",
      "Epoch 8/48\n",
      "64/64 [==============================] - 3s 49ms/step - loss: 203.5029 - accuracy: 0.3231 - val_loss: 1.2126 - val_accuracy: 0.5512\n",
      "Epoch 9/48\n",
      "64/64 [==============================] - 3s 49ms/step - loss: 162.0542 - accuracy: 0.3459 - val_loss: 5.3558 - val_accuracy: 0.4812\n",
      "Epoch 10/48\n",
      "64/64 [==============================] - 3s 49ms/step - loss: 133.2061 - accuracy: 0.3603 - val_loss: 1.4159 - val_accuracy: 0.5725\n",
      "Epoch 11/48\n",
      "64/64 [==============================] - 3s 49ms/step - loss: 106.5356 - accuracy: 0.3688 - val_loss: 0.8814 - val_accuracy: 0.5612\n",
      "Epoch 12/48\n",
      "64/64 [==============================] - 3s 49ms/step - loss: 93.3579 - accuracy: 0.3703 - val_loss: 0.8491 - val_accuracy: 0.6725\n",
      "Epoch 13/48\n",
      "64/64 [==============================] - 3s 49ms/step - loss: 76.8329 - accuracy: 0.3747 - val_loss: 1.2770 - val_accuracy: 0.6400\n",
      "Epoch 14/48\n",
      "64/64 [==============================] - 3s 48ms/step - loss: 69.2569 - accuracy: 0.3631 - val_loss: 1.1978 - val_accuracy: 0.5600\n",
      "Epoch 15/48\n",
      "64/64 [==============================] - 3s 49ms/step - loss: 63.6191 - accuracy: 0.3769 - val_loss: 1.0635 - val_accuracy: 0.6250\n",
      "Epoch 16/48\n",
      "64/64 [==============================] - 3s 49ms/step - loss: 58.2529 - accuracy: 0.3950 - val_loss: 1.2577 - val_accuracy: 0.5863\n",
      "Epoch 17/48\n",
      "64/64 [==============================] - 3s 48ms/step - loss: 58.8662 - accuracy: 0.3994 - val_loss: 1.0238 - val_accuracy: 0.6162\n",
      "Epoch 18/48\n",
      "64/64 [==============================] - 3s 49ms/step - loss: 57.7509 - accuracy: 0.3772 - val_loss: 1.1782 - val_accuracy: 0.5650\n",
      "Epoch 19/48\n",
      "64/64 [==============================] - 3s 49ms/step - loss: 49.4802 - accuracy: 0.3869 - val_loss: 0.8976 - val_accuracy: 0.6388\n",
      "Epoch 20/48\n",
      "64/64 [==============================] - 3s 49ms/step - loss: 41.2743 - accuracy: 0.3753 - val_loss: 0.9731 - val_accuracy: 0.6000\n",
      "Epoch 21/48\n",
      "64/64 [==============================] - 3s 49ms/step - loss: 28.1796 - accuracy: 0.3866 - val_loss: 0.9263 - val_accuracy: 0.5412\n",
      "Epoch 22/48\n",
      "64/64 [==============================] - 3s 49ms/step - loss: 12.3806 - accuracy: 0.3909 - val_loss: 1.1200 - val_accuracy: 0.4787\n",
      "Epoch 23/48\n",
      "64/64 [==============================] - 3s 49ms/step - loss: 2.2392 - accuracy: 0.3691 - val_loss: 1.4347 - val_accuracy: 0.1887\n",
      "Epoch 24/48\n",
      "64/64 [==============================] - 3s 49ms/step - loss: 1.8712 - accuracy: 0.3688 - val_loss: 1.1729 - val_accuracy: 0.4187\n",
      "Epoch 25/48\n",
      "64/64 [==============================] - 3s 49ms/step - loss: 1.8718 - accuracy: 0.3775 - val_loss: 1.1684 - val_accuracy: 0.3450\n",
      "Epoch 26/48\n",
      "64/64 [==============================] - 3s 48ms/step - loss: 1.7273 - accuracy: 0.3822 - val_loss: 1.1382 - val_accuracy: 0.4325\n",
      "Epoch 27/48\n",
      "64/64 [==============================] - 3s 49ms/step - loss: 1.6785 - accuracy: 0.3950 - val_loss: 1.2178 - val_accuracy: 0.4725\n",
      "Epoch 28/48\n",
      "64/64 [==============================] - 3s 49ms/step - loss: 1.6968 - accuracy: 0.3853 - val_loss: 1.1138 - val_accuracy: 0.4375\n",
      "Epoch 29/48\n",
      "64/64 [==============================] - 3s 50ms/step - loss: 1.5600 - accuracy: 0.4084 - val_loss: 1.0354 - val_accuracy: 0.3462\n",
      "Epoch 30/48\n",
      "64/64 [==============================] - 3s 48ms/step - loss: 1.6433 - accuracy: 0.3756 - val_loss: 1.0655 - val_accuracy: 0.3775\n",
      "Epoch 31/48\n",
      "64/64 [==============================] - 3s 49ms/step - loss: 1.5484 - accuracy: 0.3972 - val_loss: 1.0330 - val_accuracy: 0.3700\n",
      "Epoch 32/48\n",
      "64/64 [==============================] - 3s 49ms/step - loss: 1.5828 - accuracy: 0.4006 - val_loss: 1.1256 - val_accuracy: 0.4387\n",
      "Epoch 33/48\n",
      "64/64 [==============================] - 3s 49ms/step - loss: 1.6143 - accuracy: 0.3800 - val_loss: 1.1049 - val_accuracy: 0.4425\n",
      "Epoch 34/48\n",
      "64/64 [==============================] - 3s 49ms/step - loss: 1.5943 - accuracy: 0.3956 - val_loss: 1.0866 - val_accuracy: 0.4187\n",
      "Epoch 35/48\n",
      "64/64 [==============================] - 3s 49ms/step - loss: 1.5784 - accuracy: 0.3841 - val_loss: 1.0547 - val_accuracy: 0.3950\n",
      "Epoch 36/48\n",
      "64/64 [==============================] - 3s 49ms/step - loss: 1.5767 - accuracy: 0.3825 - val_loss: 1.0118 - val_accuracy: 0.3575\n",
      "Epoch 37/48\n",
      "64/64 [==============================] - 3s 49ms/step - loss: 1.5627 - accuracy: 0.3947 - val_loss: 1.0253 - val_accuracy: 0.3438\n",
      "Epoch 38/48\n",
      "64/64 [==============================] - 3s 51ms/step - loss: 1.5861 - accuracy: 0.3922 - val_loss: 1.0263 - val_accuracy: 0.4050\n",
      "Epoch 39/48\n",
      "64/64 [==============================] - 3s 49ms/step - loss: 1.5157 - accuracy: 0.3972 - val_loss: 1.1129 - val_accuracy: 0.4588\n",
      "Epoch 40/48\n",
      "64/64 [==============================] - 3s 49ms/step - loss: 1.4826 - accuracy: 0.3966 - val_loss: 0.9935 - val_accuracy: 0.4300\n",
      "Epoch 41/48\n",
      "64/64 [==============================] - 3s 49ms/step - loss: 1.4790 - accuracy: 0.4097 - val_loss: 1.0502 - val_accuracy: 0.3475\n",
      "Epoch 42/48\n",
      "64/64 [==============================] - 3s 51ms/step - loss: 1.4764 - accuracy: 0.4084 - val_loss: 0.9142 - val_accuracy: 0.3537\n",
      "Epoch 43/48\n",
      "64/64 [==============================] - 3s 50ms/step - loss: 1.3960 - accuracy: 0.4109 - val_loss: 0.9209 - val_accuracy: 0.3550\n",
      "Epoch 44/48\n",
      "64/64 [==============================] - 3s 50ms/step - loss: 1.4064 - accuracy: 0.3900 - val_loss: 0.9380 - val_accuracy: 0.3413\n",
      "Epoch 45/48\n",
      "64/64 [==============================] - 4s 70ms/step - loss: 1.4126 - accuracy: 0.3984 - val_loss: 0.9947 - val_accuracy: 0.4550\n",
      "Epoch 46/48\n",
      "64/64 [==============================] - 3s 50ms/step - loss: 1.3119 - accuracy: 0.4147 - val_loss: 0.9523 - val_accuracy: 0.4363\n",
      "Epoch 47/48\n",
      "64/64 [==============================] - 3s 49ms/step - loss: 1.3056 - accuracy: 0.4244 - val_loss: 0.9459 - val_accuracy: 0.4325\n",
      "Epoch 48/48\n",
      "64/64 [==============================] - 3s 51ms/step - loss: 1.2864 - accuracy: 0.4253 - val_loss: 0.9461 - val_accuracy: 0.4200\n",
      "[INFO] evaluating network...\n",
      "              precision    recall  f1-score   support\n",
      "\n",
      "           5       0.50      1.00      0.67       200\n",
      "           1       0.00      0.00      0.00       200\n",
      "           3       0.03      0.01      0.01       200\n",
      "           7       0.40      0.67      0.50       200\n",
      "\n",
      "    accuracy                           0.42       800\n",
      "   macro avg       0.23      0.42      0.30       800\n",
      "weighted avg       0.23      0.42      0.30       800\n",
      "\n"
     ]
    },
    {
     "name": "stderr",
     "output_type": "stream",
     "text": [
      "C:\\Users\\Cheng\\Anaconda3\\lib\\site-packages\\sklearn\\metrics\\_classification.py:1272: UndefinedMetricWarning: Precision and F-score are ill-defined and being set to 0.0 in labels with no predicted samples. Use `zero_division` parameter to control this behavior.\n",
      "  _warn_prf(average, modifier, msg_start, len(result))\n"
     ]
    }
   ],
   "source": [
    "# otherwise, we have already defined a learning rate space to train\n",
    "# over, so compute the step size and initialize the cyclic learning\n",
    "# rate method\n",
    "stepSize = STEP_SIZE * (X_train.shape[0] // BATCH_SIZE)\n",
    "clr = CyclicLR(mode=CLR_METHOD, base_lr=MIN_LR, max_lr=MAX_LR, step_size=stepSize)\n",
    "\n",
    "# train the network\n",
    "print(\"[INFO] training network...\")\n",
    "H = model.fit_generator(gen_aug.flow(X_train, Y_train, batch_size=BATCH_SIZE),\n",
    "    validation_data=(X_test, Y_test),\n",
    "    steps_per_epoch=X_train.shape[0] // BATCH_SIZE,\n",
    "    epochs=NUM_EPOCHS,\n",
    "    callbacks=[clr],\n",
    "    verbose=1)\n",
    "\n",
    "# evaluate the network and show a classification report\n",
    "print(\"[INFO] evaluating network...\")\n",
    "predictions = model.predict(X_test, batch_size=BATCH_SIZE)\n",
    "print(classification_report(Y_test.argmax(axis=1),\n",
    "predictions.argmax(axis=1), target_names=CLASSES))"
   ]
  },
  {
   "cell_type": "markdown",
   "metadata": {},
   "source": [
    "# Plot results"
   ]
  },
  {
   "cell_type": "code",
   "execution_count": 10,
   "metadata": {},
   "outputs": [
    {
     "data": {
      "image/png": "[encoded data removed]",
      "text/plain": [
       "<Figure size 432x288 with 1 Axes>"
      ]
     },
     "metadata": {},
     "output_type": "display_data"
    },
    {
     "data": {
      "image/png": "[encoded data removed]",
      "text/plain": [
       "<Figure size 432x288 with 1 Axes>"
      ]
     },
     "metadata": {},
     "output_type": "display_data"
    }
   ],
   "source": [
    "# construct a plot that plots and saves the training history\n",
    "N = np.arange(0, NUM_EPOCHS)\n",
    "plt.style.use(\"ggplot\")\n",
    "plt.figure()\n",
    "plt.plot(N, H.history[\"loss\"], label=\"train_loss\")\n",
    "plt.plot(N, H.history[\"val_loss\"], label=\"val_loss\")\n",
    "# plt.plot(N, H.history[\"acc\"], label=\"train_acc\")\n",
    "# plt.plot(N, H.history[\"val_acc\"], label=\"val_acc\")\n",
    "plt.title(\"Training Loss and Accuracy\")\n",
    "plt.xlabel(\"Epoch #\")\n",
    "plt.ylabel(\"Loss/Accuracy\")\n",
    "plt.legend(loc=\"lower left\")\n",
    "plt.savefig(TRAINING_PLOT_PATH)\n",
    "\n",
    "# plot the learning rate history\n",
    "N = np.arange(0, len(clr.history[\"lr\"]))\n",
    "plt.figure()\n",
    "plt.plot(N, clr.history[\"lr\"])\n",
    "plt.title(\"Cyclical Learning Rate (CLR)\")\n",
    "plt.xlabel(\"Training Iterations\")\n",
    "plt.ylabel(\"Learning Rate\")\n",
    "plt.savefig(CLR_PLOT_PATH)"
   ]
  },
  {
   "cell_type": "code",
   "execution_count": null,
   "metadata": {},
   "outputs": [],
   "source": []
  }
 ],
 "metadata": {
  "kernelspec": {
   "display_name": "Python 3",
   "language": "python",
   "name": "python3"
  },
  "language_info": {
   "codemirror_mode": {
    "name": "ipython",
    "version": 3
   },
   "file_extension": ".py",
   "mimetype": "text/x-python",
   "name": "python",
   "nbconvert_exporter": "python",
   "pygments_lexer": "ipython3",
   "version": "3.6.5"
  }
 },
 "nbformat": 4,
 "nbformat_minor": 2
}
