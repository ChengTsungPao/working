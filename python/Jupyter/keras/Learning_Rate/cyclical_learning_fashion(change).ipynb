{
 "cells": [
  {
   "cell_type": "markdown",
   "metadata": {},
   "source": [
    "# Cyclical Learning using Fashion_MNIST dataset\n",
    "## References:\n",
    "1. Leslie Smith, \"Cyclical Learning Rates for Training Neural Networks\", arXiv: 1506.01186\n",
    "2. https://www.pyimagesearch.com/2019/07/29/cyclical-learning-rates-with-keras-and-deep-learning/"
   ]
  },
  {
   "cell_type": "code",
   "execution_count": 1,
   "metadata": {},
   "outputs": [
    {
     "name": "stderr",
     "output_type": "stream",
     "text": [
      "Using TensorFlow backend.\n"
     ]
    }
   ],
   "source": [
    "import numpy as np\n",
    "import matplotlib.pyplot as plt\n",
    "#import matplotlib\n",
    "#matplotlib.use(\"Agg\")\n",
    "\n",
    "import os, sys\n",
    "import cv2, keras\n",
    "from keras.models import Model\n",
    "from keras.models import Sequential\n",
    "from sklearn.preprocessing import LabelBinarizer\n",
    "from sklearn.metrics import classification_report\n",
    "from keras.preprocessing.image import ImageDataGenerator\n",
    "from keras.optimizers import SGD\n",
    "#from keras.datasets import fashion_mnist\n",
    "from keras.layers import Dense, Activation, Convolution2D, MaxPooling2D, Flatten, BatchNormalization, Input\n",
    "#from keras.datasets import cifar10\n",
    "\n",
    "from learningratefinder import LearningRateFinder\n",
    "from clr_callback import CyclicLR\n",
    "#from model.minigooglenet import MiniGoogLeNet"
   ]
  },
  {
   "cell_type": "markdown",
   "metadata": {},
   "source": [
    "# Define hyper-parameters"
   ]
  },
  {
   "cell_type": "code",
   "execution_count": 2,
   "metadata": {},
   "outputs": [],
   "source": [
    "# initialize the list of class label names\n",
    "# CLASSES = [\"top\", \"trouser\", \"pullover\", \"dress\", \"coat\", \"sandal\", \"shirt\", \"sneaker\", \"bag\", \"ankle boot\"]\n",
    "\n",
    "# define hyper-parameters\n",
    "MIN_LR = 1e-5\n",
    "MAX_LR = 1e-2\n",
    "BATCH_SIZE = 50\n",
    "STEP_SIZE = 8\n",
    "CLR_METHOD = \"triangular\"\n",
    "NUM_EPOCHS = 48\n",
    "lr_find = 1\n",
    "\n",
    "# define plot path\n",
    "LRFIND_PLOT_PATH = os.path.sep.join([\"output\", \"lrfind_plot2.png\"])\n",
    "TRAINING_PLOT_PATH = os.path.sep.join([\"output\", \"training_plot2.png\"])\n",
    "CLR_PLOT_PATH = os.path.sep.join([\"output\", \"clr_plot2.png\"])"
   ]
  },
  {
   "cell_type": "markdown",
   "metadata": {},
   "source": [
    "# Load data"
   ]
  },
  {
   "cell_type": "code",
   "execution_count": 3,
   "metadata": {},
   "outputs": [
    {
     "name": "stdout",
     "output_type": "stream",
     "text": [
      "[INFO] loading Fashion data...\n"
     ]
    }
   ],
   "source": [
    "conv1,conv2,linear = (3, 3, 5, 1, 'same'), (3, 3, 5, 1, 'same'), (\"\", 512, 4)\n",
    "channelsize = (36, 72)\n",
    "\n",
    "classify_phase = [5, 1, 3, 7]\n",
    "filename = [\"20200310\",\"G_eigenvector\",\"6\"]\n",
    "kind_of_data = [\"eigenvector_r_square_combine_theta_particle_hole\",\"phase\"]\n",
    "line = \"delta=0.5\"\n",
    "path = 'D:/program/vscode_workspace/private/data/project_data(phy)/train/'\n",
    "\n",
    "\n",
    "CLASSES = []\n",
    "for p in classify_phase:\n",
    "    CLASSES.append(str(p))\n",
    "\n",
    "def move(ph):\n",
    "    if(line==\"delta=0.5\" or line==\"delta=-0.5\"):\n",
    "        if(ph==5 or ph==6):\n",
    "            m = 0\n",
    "        elif(ph==1 or ph==2):\n",
    "            m = 1000\n",
    "        elif(ph==3 or ph==4):\n",
    "            m = 2000\n",
    "        elif(ph==7 or ph==8):\n",
    "            m = 3000\n",
    "        else:\n",
    "            print(\"error\")\n",
    "    else:\n",
    "        if(ph==5 or ph==1 or ph==3 or ph==7):\n",
    "            m = 0\n",
    "        elif(ph==6 or ph==2 or ph==4 or ph==8):\n",
    "            m = 1000\n",
    "        else:\n",
    "            print(\"error\")            \n",
    "    return m\n",
    "\n",
    "def get_train_data(phase):\n",
    "\n",
    "    file = np.load((path+'{},{}_train,N={},{}.npz').format(filename[0],filename[1],filename[2],line))\n",
    "    test_input = []\n",
    "    test_target = []\n",
    "    train_input = []\n",
    "    train_target = []\n",
    "\n",
    "    for i in range(len(phase)):\n",
    "        test_input += file[kind_of_data[0]][800 + move(phase[i]) : 1000 + move(phase[i])].tolist()\n",
    "        test_target += file[kind_of_data[1]][800 + move(phase[i]) : 1000 + move(phase[i])].tolist()\n",
    "        train_input += file[kind_of_data[0]][0 + move(phase[i]) : 800 + move(phase[i])].tolist()\n",
    "        train_target += file[kind_of_data[1]][0 + move(phase[i]) : 800 + move(phase[i])].tolist()\n",
    "\n",
    "    test_input = np.array(test_input)\n",
    "    test_target = np.array(test_target)\n",
    "    train_input = np.array(train_input)\n",
    "    train_target = np.array(train_target)\n",
    "\n",
    "    return [test_input, test_target, train_input, train_target]\n",
    "\n",
    "total_data = get_train_data(classify_phase)    \n",
    "\n",
    "print(\"[INFO] loading Fashion data...\")\n",
    "X_train, Y_train, X_test, Y_test = total_data[2], total_data[3], total_data[0], total_data[1]\n",
    "\n",
    "# Fashion MNIST images are 28x28, reshape to 32x32\n",
    "# X_train = np.array([cv2.resize(x, (channelsize[0], channelsize[1])) for x in X_train])\n",
    "# X_test = np.array([cv2.resize(x, (channelsize[0], channelsize[1])) for x in X_test])\n",
    "\n",
    "# normalization\n",
    "X_train = X_train.astype(\"float\") / 255.0\n",
    "X_test = X_test.astype(\"float\") / 255.0\n",
    "\n",
    "# reshape\n",
    "# print(\"X_train : \",np.shape(X_train))\n",
    "# print(\"X_test : \",np.shape(X_test))\n",
    "X_train = X_train.transpose((0,2,3,1)) #.reshape((X_train.shape[0], channelsize[0], channelsize[1], conv1[0]))\n",
    "X_test = X_test.transpose((0,2,3,1))   #reshape((X_test.shape[0], channelsize[0], channelsize[1], conv1[0]))\n",
    "\n",
    "\"\"\"One can also try cifar10 dataset\n",
    "print(\"[INFO] loading CIFAR-10 data...\")\n",
    "((X_train, Y_train), (X_test, Y_test)) = cifar10.load_data()\n",
    "X_train = X_train.astype(\"float\")\n",
    "X_test = X_test.astype(\"float\")\n",
    "\n",
    "# apply mean subtraction to the data\n",
    "mean = np.mean(X_train, axis=0)\n",
    "X_train -= mean\n",
    "X_test -= mean\n",
    "\"\"\"\n",
    "# One-hot encoding\n",
    "lb = LabelBinarizer()\n",
    "Y_train = lb.fit_transform(Y_train)\n",
    "Y_test = lb.transform(Y_test)\n",
    "\n",
    "if(len(classify_phase)==2):\n",
    "    Y_train = Y_train.tolist()\n",
    "    Y_test = Y_test.tolist()\n",
    "    for i in range(len(Y_train)): Y_train[i].append(1-Y_train[i][0])\n",
    "    for i in range(len(Y_test )): Y_test[i].append(1-Y_test[i][0])\n",
    "    Y_train = np.array(Y_train)\n",
    "    Y_test = np.array(Y_test)"
   ]
  },
  {
   "cell_type": "code",
   "execution_count": 4,
   "metadata": {},
   "outputs": [],
   "source": [
    "# construct the image generator for data augmentation\n",
    "gen_aug = ImageDataGenerator(width_shift_range=0.1, height_shift_range=0.1, horizontal_flip=True, fill_mode=\"nearest\")"
   ]
  },
  {
   "cell_type": "markdown",
   "metadata": {},
   "source": [
    "# Model construction"
   ]
  },
  {
   "cell_type": "code",
   "execution_count": 5,
   "metadata": {},
   "outputs": [],
   "source": [
    "def resnet(input_shape):\n",
    "    inputs = Input(shape=input_shape)\n",
    "\n",
    "    x = Convolution2D(batch_input_shape=(None, channelsize[0], channelsize[1], conv1[0]), \n",
    "                      filters=conv1[1], \n",
    "                      kernel_size=conv1[2], \n",
    "                      strides=conv1[3],\n",
    "                      padding=conv1[4])(inputs)\n",
    "    x = BatchNormalization()(x)    \n",
    "    x = Activation('relu')(x)\n",
    "    x = Convolution2D(filters=conv2[1], \n",
    "                      kernel_size=conv2[2], \n",
    "                      strides=conv2[3],\n",
    "                      padding=conv2[4])(x)\n",
    "    x = BatchNormalization()(x)    \n",
    "    x = Activation('relu')(x)\n",
    "    \n",
    "    x = keras.layers.add([x,inputs])\n",
    "    \n",
    "    x = Flatten()(x)\n",
    "    x = Dense(linear[1])(x)\n",
    "    x = Dense(linear[2])(x)\n",
    "    outputs = Activation('softmax')(x)\n",
    "    \n",
    "    return Model(inputs=inputs,outputs=outputs)\n",
    "\n",
    "model = resnet((channelsize[0], channelsize[1], 3))\n"
   ]
  },
  {
   "cell_type": "code",
   "execution_count": 6,
   "metadata": {},
   "outputs": [
    {
     "name": "stdout",
     "output_type": "stream",
     "text": [
      "Model: \"model_1\"\n",
      "__________________________________________________________________________________________________\n",
      "Layer (type)                    Output Shape         Param #     Connected to                     \n",
      "==================================================================================================\n",
      "input_1 (InputLayer)            (None, 36, 72, 3)    0                                            \n",
      "__________________________________________________________________________________________________\n",
      "conv2d_1 (Conv2D)               (None, 36, 72, 3)    228         input_1[0][0]                    \n",
      "__________________________________________________________________________________________________\n",
      "batch_normalization_1 (BatchNor (None, 36, 72, 3)    12          conv2d_1[0][0]                   \n",
      "__________________________________________________________________________________________________\n",
      "activation_1 (Activation)       (None, 36, 72, 3)    0           batch_normalization_1[0][0]      \n",
      "__________________________________________________________________________________________________\n",
      "conv2d_2 (Conv2D)               (None, 36, 72, 3)    228         activation_1[0][0]               \n",
      "__________________________________________________________________________________________________\n",
      "batch_normalization_2 (BatchNor (None, 36, 72, 3)    12          conv2d_2[0][0]                   \n",
      "__________________________________________________________________________________________________\n",
      "activation_2 (Activation)       (None, 36, 72, 3)    0           batch_normalization_2[0][0]      \n",
      "__________________________________________________________________________________________________\n",
      "add_1 (Add)                     (None, 36, 72, 3)    0           activation_2[0][0]               \n",
      "                                                                 input_1[0][0]                    \n",
      "__________________________________________________________________________________________________\n",
      "flatten_1 (Flatten)             (None, 7776)         0           add_1[0][0]                      \n",
      "__________________________________________________________________________________________________\n",
      "dense_1 (Dense)                 (None, 512)          3981824     flatten_1[0][0]                  \n",
      "__________________________________________________________________________________________________\n",
      "dense_2 (Dense)                 (None, 4)            2052        dense_1[0][0]                    \n",
      "__________________________________________________________________________________________________\n",
      "activation_3 (Activation)       (None, 4)            0           dense_2[0][0]                    \n",
      "==================================================================================================\n",
      "Total params: 3,984,356\n",
      "Trainable params: 3,984,344\n",
      "Non-trainable params: 12\n",
      "__________________________________________________________________________________________________\n"
     ]
    }
   ],
   "source": [
    "# initialize a model\n",
    "#model = MiniGoogLeNet.build(width=32, height=32, depth=1, classes=10)\n",
    "model.summary()"
   ]
  },
  {
   "cell_type": "code",
   "execution_count": 7,
   "metadata": {},
   "outputs": [
    {
     "name": "stdout",
     "output_type": "stream",
     "text": [
      "[INFO] compiling model...\n"
     ]
    }
   ],
   "source": [
    "# initialize the optimizer\n",
    "print(\"[INFO] compiling model...\")\n",
    "opt = SGD(lr=MIN_LR, momentum=0.9)\n",
    "model.compile(loss=\"categorical_crossentropy\", optimizer=opt, metrics=[\"accuracy\"])"
   ]
  },
  {
   "cell_type": "markdown",
   "metadata": {},
   "source": [
    "# Find learning rate"
   ]
  },
  {
   "cell_type": "code",
   "execution_count": 8,
   "metadata": {},
   "outputs": [
    {
     "name": "stdout",
     "output_type": "stream",
     "text": [
      "[INFO] finding learning rate...\n",
      "Epoch 1/32\n",
      "64/64 [==============================] - 15s 229ms/step - loss: 1.5519 - accuracy: 0.2391\n",
      "Epoch 2/32\n",
      "64/64 [==============================] - 6s 100ms/step - loss: 1.5520 - accuracy: 0.2450\n",
      "Epoch 3/32\n",
      "64/64 [==============================] - 6s 97ms/step - loss: 1.5561 - accuracy: 0.2537\n",
      "Epoch 4/32\n",
      "64/64 [==============================] - 6s 98ms/step - loss: 1.5451 - accuracy: 0.2556 0s - loss: 1.5448 - accura\n",
      "Epoch 5/32\n",
      "64/64 [==============================] - 7s 117ms/step - loss: 1.5390 - accuracy: 0.2475\n",
      "Epoch 6/32\n",
      "64/64 [==============================] - 7s 113ms/step - loss: 1.5386 - accuracy: 0.2531\n",
      "Epoch 7/32\n",
      "64/64 [==============================] - 7s 116ms/step - loss: 1.5371 - accuracy: 0.2472\n",
      "Epoch 8/32\n",
      "64/64 [==============================] - 7s 102ms/step - loss: 1.5412 - accuracy: 0.2459\n",
      "Epoch 9/32\n",
      "64/64 [==============================] - 7s 102ms/step - loss: 1.5462 - accuracy: 0.2381\n",
      "Epoch 10/32\n",
      "64/64 [==============================] - 6s 98ms/step - loss: 1.5390 - accuracy: 0.2488\n",
      "Epoch 11/32\n",
      "64/64 [==============================] - 6s 94ms/step - loss: 1.5592 - accuracy: 0.2425\n",
      "Epoch 12/32\n",
      "64/64 [==============================] - 7s 106ms/step - loss: 1.5294 - accuracy: 0.2534\n",
      "Epoch 13/32\n",
      "64/64 [==============================] - 7s 103ms/step - loss: 1.5249 - accuracy: 0.2428\n",
      "Epoch 14/32\n",
      "64/64 [==============================] - 7s 104ms/step - loss: 1.4804 - accuracy: 0.2556\n",
      "Epoch 15/32\n",
      "64/64 [==============================] - 6s 101ms/step - loss: 1.4640 - accuracy: 0.2512\n",
      "Epoch 16/32\n",
      "64/64 [==============================] - 6s 101ms/step - loss: 1.4299 - accuracy: 0.25590s - loss: 1.4317 - ac\n",
      "Epoch 17/32\n",
      "64/64 [==============================] - 6s 99ms/step - loss: 1.4068 - accuracy: 0.2537\n",
      "Epoch 18/32\n",
      "64/64 [==============================] - 7s 102ms/step - loss: 1.3844 - accuracy: 0.2769\n",
      "Epoch 19/32\n",
      "64/64 [==============================] - 6s 101ms/step - loss: 1.3737 - accuracy: 0.3088\n",
      "Epoch 20/32\n",
      "64/64 [==============================] - 6s 101ms/step - loss: 1.3393 - accuracy: 0.34471s\n",
      "Epoch 21/32\n",
      "64/64 [==============================] - 7s 102ms/step - loss: 1.1614 - accuracy: 0.4466\n",
      "Epoch 22/32\n",
      "64/64 [==============================] - 7s 102ms/step - loss: 0.8404 - accuracy: 0.5241\n",
      "Epoch 23/32\n",
      "64/64 [==============================] - 7s 104ms/step - loss: 0.7692 - accuracy: 0.5462 - ETA: 1s - loss:\n",
      "Epoch 24/32\n",
      "64/64 [==============================] - 7s 108ms/step - loss: 0.7728 - accuracy: 0.5534\n",
      "Epoch 25/32\n",
      "64/64 [==============================] - 7s 103ms/step - loss: 0.7147 - accuracy: 0.5644\n",
      "Epoch 26/32\n",
      "64/64 [==============================] - 7s 105ms/step - loss: 0.7373 - accuracy: 0.5528\n",
      "Epoch 27/32\n",
      "64/64 [==============================] - 7s 109ms/step - loss: 1.1086 - accuracy: 0.4922\n",
      "Epoch 28/32\n",
      "64/64 [==============================] - 7s 104ms/step - loss: 2.2478 - accuracy: 0.24661s\n",
      "Epoch 29/32\n",
      "64/64 [==============================] - 7s 117ms/step - loss: 1.4110 - accuracy: 0.2650\n",
      "Epoch 30/32\n",
      "64/64 [==============================] - 8s 124ms/step - loss: 1.4344 - accuracy: 0.2519\n",
      "Epoch 31/32\n",
      "18/64 [=======>......................] - ETA: 4s - loss: 6.7843 - accuracy: 0.2444[INFO] learning rate finder complete\n",
      "[INFO] examine plot and adjust learning rates before training\n"
     ]
    },
    {
     "data": {
      "image/png": "[encoded data removed]",
      "text/plain": [
       "<Figure size 432x288 with 1 Axes>"
      ]
     },
     "metadata": {
      "needs_background": "light"
     },
     "output_type": "display_data"
    }
   ],
   "source": [
    "if lr_find > 0:\n",
    "# initialize the learning rate finder (from 1e-10 to 1e+1)\n",
    "    print(\"[INFO] finding learning rate...\")\n",
    "    lrf = LearningRateFinder(model)\n",
    "    lrf.find(gen_aug.flow(X_train, Y_train, batch_size=BATCH_SIZE), 1e-10, 1e+1,\n",
    "    stepsPerEpoch=np.ceil((len(X_train) / float(BATCH_SIZE))), batchSize=BATCH_SIZE)\n",
    "\n",
    "    # plot the loss and save the resulting plot to disk\n",
    "    lrf.plot_loss()\n",
    "    plt.savefig(LRFIND_PLOT_PATH)\n",
    "    \n",
    "    print(\"[INFO] learning rate finder complete\")\n",
    "    print(\"[INFO] examine plot and adjust learning rates before training\")\n",
    "    #exit(0)"
   ]
  },
  {
   "cell_type": "markdown",
   "metadata": {},
   "source": [
    "# Cyclical training"
   ]
  },
  {
   "cell_type": "code",
   "execution_count": 9,
   "metadata": {},
   "outputs": [
    {
     "name": "stdout",
     "output_type": "stream",
     "text": [
      "[INFO] training network...\n",
      "Epoch 1/48\n",
      "64/64 [==============================] - 7s 112ms/step - loss: 1333.0912 - accuracy: 0.2594 - val_loss: 1142.5125 - val_accuracy: 0.2500\n",
      "Epoch 2/48\n",
      "64/64 [==============================] - 6s 100ms/step - loss: 416.3643 - accuracy: 0.2478 - val_loss: 63.0235 - val_accuracy: 0.2500\n",
      "Epoch 3/48\n",
      "64/64 [==============================] - 7s 103ms/step - loss: 37.4603 - accuracy: 0.2519 - val_loss: 59.7639 - val_accuracy: 0.2500\n",
      "Epoch 4/48\n",
      "64/64 [==============================] - 6s 101ms/step - loss: 59.3989 - accuracy: 0.2572 - val_loss: 106.0651 - val_accuracy: 0.2500\n",
      "Epoch 5/48\n",
      "64/64 [==============================] - 7s 105ms/step - loss: 67.3602 - accuracy: 0.2512 - val_loss: 56.6861 - val_accuracy: 0.2500\n",
      "Epoch 6/48\n",
      "64/64 [==============================] - 6s 100ms/step - loss: 107.6290 - accuracy: 0.2478 - val_loss: 148.6474 - val_accuracy: 0.2500\n",
      "Epoch 7/48\n",
      "64/64 [==============================] - 7s 102ms/step - loss: 104.1484 - accuracy: 0.2669 - val_loss: 93.8165 - val_accuracy: 0.2500\n",
      "Epoch 8/48\n",
      "64/64 [==============================] - 7s 104ms/step - loss: 81.7648 - accuracy: 0.2528 - val_loss: 73.1081 - val_accuracy: 0.2500\n",
      "Epoch 9/48\n",
      "64/64 [==============================] - 6s 100ms/step - loss: 86.1955 - accuracy: 0.2469 - val_loss: 252.9649 - val_accuracy: 0.2500oss: 73.0283 - accuracy:\n",
      "Epoch 10/48\n",
      "64/64 [==============================] - 7s 107ms/step - loss: 124.9731 - accuracy: 0.2528 - val_loss: 137.5392 - val_accuracy: 0.2500\n",
      "Epoch 11/48\n",
      "64/64 [==============================] - 6s 100ms/step - loss: 66.3722 - accuracy: 0.2491 - val_loss: 65.0398 - val_accuracy: 0.2500\n",
      "Epoch 12/48\n",
      "64/64 [==============================] - 7s 109ms/step - loss: 62.9307 - accuracy: 0.2422 - val_loss: 34.0929 - val_accuracy: 0.2500\n",
      "Epoch 13/48\n",
      "64/64 [==============================] - 6s 97ms/step - loss: 28.9014 - accuracy: 0.2722 - val_loss: 25.1561 - val_accuracy: 0.2500\n",
      "Epoch 14/48\n",
      "64/64 [==============================] - 6s 97ms/step - loss: 18.7293 - accuracy: 0.2763 - val_loss: 18.8266 - val_accuracy: 0.250005 - ac - ETA: 0s - loss: 19.1172 - accuracy: 0.27\n",
      "Epoch 15/48\n",
      "64/64 [==============================] - 6s 100ms/step - loss: 6.3481 - accuracy: 0.3166 - val_loss: 4.7135 - val_accuracy: 0.2488\n",
      "Epoch 16/48\n",
      "64/64 [==============================] - 7s 104ms/step - loss: 2.9990 - accuracy: 0.3388 - val_loss: 1.8343 - val_accuracy: 0.5250\n",
      "Epoch 17/48\n",
      "64/64 [==============================] - 7s 109ms/step - loss: 2.6745 - accuracy: 0.3331 - val_loss: 1.3135 - val_accuracy: 0.2637\n",
      "Epoch 18/48\n",
      "64/64 [==============================] - 6s 101ms/step - loss: 4.0140 - accuracy: 0.3275 - val_loss: 3.9989 - val_accuracy: 0.2862\n",
      "Epoch 19/48\n",
      "64/64 [==============================] - 6s 100ms/step - loss: 19.6392 - accuracy: 0.2916 - val_loss: 14.4221 - val_accuracy: 0.2500\n",
      "Epoch 20/48\n",
      "64/64 [==============================] - 6s 98ms/step - loss: 24.6008 - accuracy: 0.2713 - val_loss: 38.8715 - val_accuracy: 0.2500\n",
      "Epoch 21/48\n",
      "64/64 [==============================] - 7s 102ms/step - loss: 35.2069 - accuracy: 0.2553 - val_loss: 66.3326 - val_accuracy: 0.2500\n",
      "Epoch 22/48\n",
      "64/64 [==============================] - 7s 103ms/step - loss: 45.2910 - accuracy: 0.2644 - val_loss: 60.1436 - val_accuracy: 0.2500\n",
      "Epoch 23/48\n",
      "64/64 [==============================] - 6s 101ms/step - loss: 68.6306 - accuracy: 0.2516 - val_loss: 79.1621 - val_accuracy: 0.2500\n",
      "Epoch 24/48\n",
      "64/64 [==============================] - 6s 100ms/step - loss: 62.7925 - accuracy: 0.2406 - val_loss: 224.3877 - val_accuracy: 0.2500\n",
      "Epoch 25/48\n",
      "64/64 [==============================] - 7s 104ms/step - loss: 73.5662 - accuracy: 0.2447 - val_loss: 70.4133 - val_accuracy: 0.2500\n",
      "Epoch 26/48\n",
      "64/64 [==============================] - 6s 100ms/step - loss: 102.5044 - accuracy: 0.2434 - val_loss: 82.3930 - val_accuracy: 0.2500\n",
      "Epoch 27/48\n",
      "64/64 [==============================] - 6s 100ms/step - loss: 29.5649 - accuracy: 0.2656 - val_loss: 18.0012 - val_accuracy: 0.2500\n",
      "Epoch 28/48\n",
      "64/64 [==============================] - 6s 99ms/step - loss: 14.3179 - accuracy: 0.2769 - val_loss: 24.8205 - val_accuracy: 0.2500\n",
      "Epoch 29/48\n",
      "64/64 [==============================] - 7s 114ms/step - loss: 24.9868 - accuracy: 0.2700 - val_loss: 37.4856 - val_accuracy: 0.2338\n",
      "Epoch 30/48\n",
      "64/64 [==============================] - 7s 106ms/step - loss: 11.8571 - accuracy: 0.2853 - val_loss: 2.7228 - val_accuracy: 0.1513\n",
      "Epoch 31/48\n",
      "64/64 [==============================] - 7s 103ms/step - loss: 3.5777 - accuracy: 0.3047 - val_loss: 2.7082 - val_accuracy: 0.2400\n",
      "Epoch 32/48\n",
      "64/64 [==============================] - 7s 102ms/step - loss: 3.6799 - accuracy: 0.3191 - val_loss: 3.9408 - val_accuracy: 0.0613\n",
      "Epoch 33/48\n",
      "64/64 [==============================] - 6s 101ms/step - loss: 3.2575 - accuracy: 0.2763 - val_loss: 3.9232 - val_accuracy: 0.5525\n",
      "Epoch 34/48\n",
      "64/64 [==============================] - 7s 102ms/step - loss: 4.2735 - accuracy: 0.2994 - val_loss: 2.6732 - val_accuracy: 0.3038\n",
      "Epoch 35/48\n",
      "64/64 [==============================] - 7s 104ms/step - loss: 5.8285 - accuracy: 0.3009 - val_loss: 23.3840 - val_accuracy: 0.2500\n",
      "Epoch 36/48\n",
      "64/64 [==============================] - 7s 103ms/step - loss: 8.7111 - accuracy: 0.2925 - val_loss: 8.2415 - val_accuracy: 0.0012\n",
      "Epoch 37/48\n",
      "64/64 [==============================] - 6s 101ms/step - loss: 18.5667 - accuracy: 0.2803 - val_loss: 38.3841 - val_accuracy: 0.2500\n",
      "Epoch 38/48\n",
      "64/64 [==============================] - 7s 104ms/step - loss: 17.0334 - accuracy: 0.2669 - val_loss: 17.5690 - val_accuracy: 0.1000\n",
      "Epoch 39/48\n",
      "64/64 [==============================] - 7s 103ms/step - loss: 34.2196 - accuracy: 0.2519 - val_loss: 86.3991 - val_accuracy: 0.2500\n",
      "Epoch 40/48\n",
      "64/64 [==============================] - 6s 100ms/step - loss: 41.6083 - accuracy: 0.2691 - val_loss: 32.8650 - val_accuracy: 0.2500\n",
      "Epoch 41/48\n",
      "64/64 [==============================] - 6s 100ms/step - loss: 47.5997 - accuracy: 0.2650 - val_loss: 45.9490 - val_accuracy: 0.2500\n",
      "Epoch 42/48\n",
      "64/64 [==============================] - 6s 101ms/step - loss: 49.6735 - accuracy: 0.2350 - val_loss: 12.8741 - val_accuracy: 0.2488\n",
      "Epoch 43/48\n",
      "64/64 [==============================] - 7s 104ms/step - loss: 16.5233 - accuracy: 0.2912 - val_loss: 14.4911 - val_accuracy: 0.2500\n",
      "Epoch 44/48\n",
      "64/64 [==============================] - 6s 98ms/step - loss: 11.9604 - accuracy: 0.2650 - val_loss: 10.5168 - val_accuracy: 0.2475\n",
      "Epoch 45/48\n",
      "64/64 [==============================] - 6s 101ms/step - loss: 7.2284 - accuracy: 0.2859 - val_loss: 7.2417 - val_accuracy: 0.4913\n",
      "Epoch 46/48\n",
      "64/64 [==============================] - 6s 101ms/step - loss: 6.0502 - accuracy: 0.3094 - val_loss: 4.6965 - val_accuracy: 0.0137\n",
      "Epoch 47/48\n",
      "64/64 [==============================] - 6s 100ms/step - loss: 3.9996 - accuracy: 0.2941 - val_loss: 2.9108 - val_accuracy: 0.1163\n",
      "Epoch 48/48\n",
      "64/64 [==============================] - 6s 99ms/step - loss: 3.6996 - accuracy: 0.3237 - val_loss: 2.6412 - val_accuracy: 0.1700\n",
      "[INFO] evaluating network...\n",
      "              precision    recall  f1-score   support\n",
      "\n",
      "           5       0.00      0.00      0.00       200\n",
      "           1       0.00      0.00      0.00       200\n",
      "           3       0.58      0.68      0.63       200\n",
      "           7       0.00      0.00      0.00       200\n",
      "\n",
      "    accuracy                           0.17       800\n",
      "   macro avg       0.14      0.17      0.16       800\n",
      "weighted avg       0.14      0.17      0.16       800\n",
      "\n"
     ]
    },
    {
     "name": "stderr",
     "output_type": "stream",
     "text": [
      "C:\\Users\\Cheng\\Anaconda3\\lib\\site-packages\\sklearn\\metrics\\_classification.py:1272: UndefinedMetricWarning: Precision and F-score are ill-defined and being set to 0.0 in labels with no predicted samples. Use `zero_division` parameter to control this behavior.\n",
      "  _warn_prf(average, modifier, msg_start, len(result))\n"
     ]
    }
   ],
   "source": [
    "# otherwise, we have already defined a learning rate space to train\n",
    "# over, so compute the step size and initialize the cyclic learning\n",
    "# rate method\n",
    "stepSize = STEP_SIZE * (X_train.shape[0] // BATCH_SIZE)\n",
    "clr = CyclicLR(mode=CLR_METHOD, base_lr=MIN_LR, max_lr=MAX_LR, step_size=stepSize)\n",
    "\n",
    "# train the network\n",
    "print(\"[INFO] training network...\")\n",
    "H = model.fit_generator(gen_aug.flow(X_train, Y_train, batch_size=BATCH_SIZE),\n",
    "    validation_data=(X_test, Y_test),\n",
    "    steps_per_epoch=X_train.shape[0] // BATCH_SIZE,\n",
    "    epochs=NUM_EPOCHS,\n",
    "    callbacks=[clr],\n",
    "    verbose=1)\n",
    "\n",
    "# evaluate the network and show a classification report\n",
    "print(\"[INFO] evaluating network...\")\n",
    "predictions = model.predict(X_test, batch_size=BATCH_SIZE)\n",
    "print(classification_report(Y_test.argmax(axis=1),\n",
    "predictions.argmax(axis=1), target_names=CLASSES))"
   ]
  },
  {
   "cell_type": "markdown",
   "metadata": {},
   "source": [
    "# Plot results"
   ]
  },
  {
   "cell_type": "code",
   "execution_count": 10,
   "metadata": {},
   "outputs": [
    {
     "data": {
      "image/png": "[encoded data removed]",
      "text/plain": [
       "<Figure size 432x288 with 1 Axes>"
      ]
     },
     "metadata": {},
     "output_type": "display_data"
    },
    {
     "data": {
      "image/png": "[encoded data removed]",
      "text/plain": [
       "<Figure size 432x288 with 1 Axes>"
      ]
     },
     "metadata": {},
     "output_type": "display_data"
    }
   ],
   "source": [
    "# construct a plot that plots and saves the training history\n",
    "N = np.arange(0, NUM_EPOCHS)\n",
    "plt.style.use(\"ggplot\")\n",
    "plt.figure()\n",
    "plt.plot(N, H.history[\"loss\"], label=\"train_loss\")\n",
    "plt.plot(N, H.history[\"val_loss\"], label=\"val_loss\")\n",
    "# plt.plot(N, H.history[\"acc\"], label=\"train_acc\")\n",
    "# plt.plot(N, H.history[\"val_acc\"], label=\"val_acc\")\n",
    "plt.title(\"Training Loss and Accuracy\")\n",
    "plt.xlabel(\"Epoch #\")\n",
    "plt.ylabel(\"Loss/Accuracy\")\n",
    "plt.legend(loc=\"lower left\")\n",
    "plt.savefig(TRAINING_PLOT_PATH)\n",
    "\n",
    "# plot the learning rate history\n",
    "N = np.arange(0, len(clr.history[\"lr\"]))\n",
    "plt.figure()\n",
    "plt.plot(N, clr.history[\"lr\"])\n",
    "plt.title(\"Cyclical Learning Rate (CLR)\")\n",
    "plt.xlabel(\"Training Iterations\")\n",
    "plt.ylabel(\"Learning Rate\")\n",
    "plt.savefig(CLR_PLOT_PATH)"
   ]
  },
  {
   "cell_type": "code",
   "execution_count": null,
   "metadata": {},
   "outputs": [],
   "source": []
  }
 ],
 "metadata": {
  "kernelspec": {
   "display_name": "Python 3",
   "language": "python",
   "name": "python3"
  },
  "language_info": {
   "codemirror_mode": {
    "name": "ipython",
    "version": 3
   },
   "file_extension": ".py",
   "mimetype": "text/x-python",
   "name": "python",
   "nbconvert_exporter": "python",
   "pygments_lexer": "ipython3",
   "version": "3.6.5"
  }
 },
 "nbformat": 4,
 "nbformat_minor": 2
}
