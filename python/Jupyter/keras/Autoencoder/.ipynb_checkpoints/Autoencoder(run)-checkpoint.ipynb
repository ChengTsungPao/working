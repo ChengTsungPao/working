{
 "cells": [
  {
   "cell_type": "code",
   "execution_count": 1,
   "metadata": {},
   "outputs": [
    {
     "name": "stderr",
     "output_type": "stream",
     "text": [
      "C:\\Users\\Cheng\\Anaconda3\\lib\\site-packages\\h5py\\__init__.py:36: FutureWarning: Conversion of the second argument of issubdtype from `float` to `np.floating` is deprecated. In future, it will be treated as `np.float64 == np.dtype(float).type`.\n",
      "  from ._conv import register_converters as _register_converters\n",
      "Using TensorFlow backend.\n"
     ]
    }
   ],
   "source": [
    "import numpy as np\n",
    "import matplotlib.pyplot as plt\n",
    "\n",
    "import os, re\n",
    "import numpy as np\n",
    "import pandas as pd\n",
    "import keras\n",
    "#from keras import backend as K\n",
    "from keras.utils import np_utils\n",
    "from keras.models import Sequential,Model\n",
    "from keras.layers import Dense, Dropout, Activation, Flatten, Input, Reshape\n",
    "from keras.layers import Conv2D, MaxPooling2D, ZeroPadding2D\n",
    "from keras.optimizers import Adam, RMSprop, SGD, Nadam\n",
    "import matplotlib.pyplot as plt\n",
    "#import gauss_integral as G_int\n",
    "\n",
    "from sklearn.utils import shuffle\n",
    "from sklearn.model_selection import train_test_split"
   ]
  },
  {
   "cell_type": "code",
   "execution_count": 2,
   "metadata": {},
   "outputs": [
    {
     "name": "stdout",
     "output_type": "stream",
     "text": [
      "[name: \"/device:CPU:0\"\n",
      "device_type: \"CPU\"\n",
      "memory_limit: 268435456\n",
      "locality {\n",
      "}\n",
      "incarnation: 6595910261995684340\n",
      ", name: \"/device:GPU:0\"\n",
      "device_type: \"GPU\"\n",
      "memory_limit: 1453562265\n",
      "locality {\n",
      "  bus_id: 1\n",
      "  links {\n",
      "  }\n",
      "}\n",
      "incarnation: 18317643003234023323\n",
      "physical_device_desc: \"device: 0, name: GeForce MX150, pci bus id: 0000:01:00.0, compute capability: 6.1\"\n",
      "]\n"
     ]
    },
    {
     "data": {
      "text/plain": [
       "True"
      ]
     },
     "execution_count": 2,
     "metadata": {},
     "output_type": "execute_result"
    }
   ],
   "source": [
    "from tensorflow.python.client import device_lib\n",
    "print(device_lib.list_local_devices())\n",
    "import tensorflow as tf\n",
    "tf.test.is_gpu_available()"
   ]
  },
  {
   "cell_type": "code",
   "execution_count": 3,
   "metadata": {},
   "outputs": [],
   "source": [
    "L = 20\n",
    "Low_Lambda = 0.5\n",
    "High_Lambda = 1/0.2\n",
    "create = True\n",
    "\n"
   ]
  },
  {
   "cell_type": "code",
   "execution_count": 4,
   "metadata": {},
   "outputs": [],
   "source": [
    "# # parallelised continuous\n",
    "# from joblib import Parallel, delayed\n",
    "# import multiprocessing\n",
    "# import time\n",
    "# t0=time.time()\n",
    "\n",
    "# num_cores = multiprocessing.cpu_count()\n",
    "# print(num_cores)\n",
    "# def C_matrix_fast(Lambda, L):\n",
    "#         ij = range(int(0-L), int(0+L))\n",
    "#         INT = []\n",
    "#         for i in ij:\n",
    "#             def F(k):\n",
    "#                 return (1.0/np.pi)*( -1*np.sin(k)*np.sin(k*(i)) + (np.cos(k)-Lambda)*np.cos(k*(i))/((np.sin(k)**2+(np.cos(k)-Lambda)**2)**0.5))\n",
    "#             INT.append(G_int.gaussxwint(F, 0, np.pi, 100))\n",
    "\n",
    "#         A = np.zeros([L, L, 1])\n",
    "#         for i in range(L):\n",
    "#             for j in range(L):\n",
    "#                 A[i, j, 0] = INT[i-j-L]\n",
    "#         return A\n",
    "# # count = 0\n",
    "# #1.0/Low_Lambda\n",
    "# # Lambda_range = 0.005\n",
    "# # number_of_training_data = 501 \n",
    "# # AA = [0]*number_of_training_data\n",
    "# # for i in np.linspace(Low_Lambda, Low_Lambda+Lambda_range, number_of_training_data):\n",
    "# points_of_measurement = np.linspace( 0, 10,5000)\n",
    "# def gen_low(i):\n",
    "# #     count += 1\n",
    "#     res=C_matrix_fast(i, L)\n",
    "# #     if count %50 == 1:\n",
    "# #         print ('Low', count)\n",
    "#     return res\n",
    "# lin_input=points_of_measurement\n",
    "# C_matrix= Parallel(n_jobs=num_cores)(delayed(gen_low)(i) for i in lin_input)\n",
    "# # np.save('./training_data/L='+str(L)+'/CBA_L='+str(L)+'Lambda='+str(Low_Lambda)+'_LambdaRange='+str(Lambda_range)+'number_of_training_data='+str(number_of_training_data)+'_mod.npy', AA)\n",
    "# C_matrix=np.array(C_matrix)\n",
    "# print(C_matrix.shape)\n",
    "# # np.save('./training_data/L='+str(L)+'/CBA_L='+str(L)+'Lambda='+str(High_Lambda)+'_LambdaRange='+str(Lambda_range)+'number_of_training_data='+str(number_of_training_data)+'_mod.npy', AA)\n",
    "# # print (\"training data has been produced\")\n",
    "# # print (\"L=\"+str(L)+\" Low=\"+str(Low_Lambda))\n",
    "# np.save('./C_linspace_L=30_0_10_5000.npy',C_matrix)\n",
    "# t1=time.time()\n",
    "# print(t1-t0)"
   ]
  },
  {
   "cell_type": "code",
   "execution_count": 5,
   "metadata": {},
   "outputs": [],
   "source": [
    "C_matrix = np.load('./C_linspace_0_10_5000.npy')\n",
    "points_of_measurement = np.linspace( 0, 10,5000)"
   ]
  },
  {
   "cell_type": "code",
   "execution_count": null,
   "metadata": {},
   "outputs": [],
   "source": []
  },
  {
   "cell_type": "code",
   "execution_count": 6,
   "metadata": {},
   "outputs": [],
   "source": [
    "# # parallelised low and high\n",
    "# from joblib import Parallel, delayed\n",
    "# import multiprocessing\n",
    "# import time\n",
    "# t0=time.time()\n",
    "\n",
    "# num_cores = multiprocessing.cpu_count()\n",
    "# print(num_cores)\n",
    "# def C_matrix_fast(Lambda, L):\n",
    "#         ij = range(int(0-L), int(0+L))\n",
    "#         INT = []\n",
    "#         for i in ij:\n",
    "#             def F(k):\n",
    "#                 return (1.0/np.pi)*( -1*np.sin(k)*np.sin(k*(i)) + (np.cos(k)-Lambda)*np.cos(k*(i))/((np.sin(k)**2+(np.cos(k)-Lambda)**2)**0.5))\n",
    "#             INT.append(G_int.gaussxwint(F, 0, np.pi, 100))\n",
    "\n",
    "#         A = np.zeros([L, L, 1])\n",
    "#         for i in range(L):\n",
    "#             for j in range(L):\n",
    "#                 A[i, j, 0] = INT[i-j-L]\n",
    "#         return A\n",
    "# # count = 0\n",
    "# #1.0/Low_Lambda\n",
    "# # Lambda_range = 0.005\n",
    "# # number_of_training_data = 501 \n",
    "# # AA = [0]*number_of_training_data\n",
    "# # for i in np.linspace(Low_Lambda, Low_Lambda+Lambda_range, number_of_training_data):\n",
    "# points_of_measurement_high = np.linspace( 2, 2.005,10)\n",
    "# points_of_measurement_low = np.linspace( 0.500, 0.505,10)\n",
    "# def gen_low(i):\n",
    "# #     count += 1\n",
    "#     res=C_matrix_fast(i, L)\n",
    "# #     if count %50 == 1:\n",
    "# #         print ('Low', count)\n",
    "#     return res\n",
    "# lin_input=points_of_measurement_low\n",
    "# C_matrix_low= Parallel(n_jobs=num_cores)(delayed(gen_low)(i) for i in lin_input)\n",
    "# # np.save('./training_data/L='+str(L)+'/CBA_L='+str(L)+'Lambda='+str(Low_Lambda)+'_LambdaRange='+str(Lambda_range)+'number_of_training_data='+str(number_of_training_data)+'_mod.npy', AA)\n",
    "\n",
    "# # count = 0\n",
    "# # AA = [0]*number_of_training_data\n",
    "# lin_input=points_of_measurement_high\n",
    "# C_matrix_high= Parallel(n_jobs=num_cores)(delayed(gen_low)(i) for i in lin_input)\n",
    "\n",
    "# points_of_measurement = np.append(points_of_measurement_low,points_of_measurement_high)\n",
    "# C_matrix_high = np.array(C_matrix_high)\n",
    "# C_matrix_low = np.array(C_matrix_low)\n",
    "# C_matrix = np.vstack((C_matrix_low, C_matrix_high))\n",
    "# # C_matrix = np.reshape(C_matrix, (len(points_of_measurement), L, L, 1))\n",
    "# print(C_matrix.shape)\n",
    "# # np.save('./training_data/L='+str(L)+'/CBA_L='+str(L)+'Lambda='+str(High_Lambda)+'_LambdaRange='+str(Lambda_range)+'number_of_training_data='+str(number_of_training_data)+'_mod.npy', AA)\n",
    "# # print (\"training data has been produced\")\n",
    "# # print (\"L=\"+str(L)+\" Low=\"+str(Low_Lambda))\n",
    "# np.save('./C_low_high_0.5_10.npy',C_matrix)\n",
    "# t1=time.time()\n",
    "# print(t1-t0)"
   ]
  },
  {
   "cell_type": "code",
   "execution_count": 7,
   "metadata": {},
   "outputs": [],
   "source": [
    "# C_matrix = np.vstack((C_matrix_high, C_matrix_low))\n",
    "# # C_matrix = np.reshape(C_matrix, (len(points_of_measurement), L, L, 1))\n",
    "# points_of_measurement = np.append(points_of_measurement_high,points_of_measurement_low)\n",
    "# print(C_matrix.shape)"
   ]
  },
  {
   "cell_type": "code",
   "execution_count": 8,
   "metadata": {},
   "outputs": [],
   "source": [
    "# if create :\n",
    "#     C_matrix_low = []\n",
    "#     C_matrix_high = []\n",
    "#     def C_matrix_fast(Lambda, L):\n",
    "#             ij = range(int(0-L), int(0+L))\n",
    "#             INT = []\n",
    "#             for i in ij:\n",
    "#                 def F(k):\n",
    "#                     return (1.0/np.pi)*( -1*np.sin(k)*np.sin(k*(i)) \n",
    "#                                         + (np.cos(k)-Lambda)*np.cos(k*(i))/((np.sin(k)**2\n",
    "#                                                                              +(np.cos(k)-Lambda)**2)**0.5))\n",
    "#                 INT.append(G_int.gaussxwint(F, 0, np.pi, 100))\n",
    "\n",
    "#             A = np.zeros([L, L, 1])\n",
    "#             for i in range(L):\n",
    "#                 for j in range(L):\n",
    "#                     A[i, j, 0] = INT[i-j-L]\n",
    "#             return A\n",
    "\n",
    "\n",
    "#     points_of_measurement_high = np.linspace( 0, 1,500)\n",
    "#     points_of_measurement_low = np.linspace( 1, 10,500)\n",
    "    \n",
    "#     for lam in points_of_measurement_high :\n",
    "#         C_matrix_high.append(C_matrix_fast(lam, L))\n",
    "#     for lam in points_of_measurement_low :\n",
    "#         C_matrix_low.append(C_matrix_fast(lam, L))\n",
    "        \n",
    "#     points_of_measurement = np.append(points_of_measurement_low,points_of_measurement_high)\n",
    "#     C_matrix_high = np.array(C_matrix_high)\n",
    "#     C_matrix_low = np.array(C_matrix_low)\n",
    "#     C_matrix = np.append(C_matrix_low, C_matrix_high)\n",
    "#     C_matrix = np.reshape(C_matrix, (len(points_of_measurement), L, L, 1))\n",
    "#     print(C_matrix.shape)\n"
   ]
  },
  {
   "cell_type": "code",
   "execution_count": 9,
   "metadata": {
    "scrolled": true
   },
   "outputs": [
    {
     "name": "stdout",
     "output_type": "stream",
     "text": [
      "-0.9974952928612609\n",
      "0.9999999999999998\n",
      "0.0\n",
      "1.9974952928612608\n",
      "0.0\n",
      "1.0\n",
      "(5000, 20, 20, 1)\n"
     ]
    },
    {
     "data": {
      "image/png": "[encoded data removed]",
      "text/plain": [
       "<Figure size 432x288 with 1 Axes>"
      ]
     },
     "metadata": {},
     "output_type": "display_data"
    }
   ],
   "source": [
    "\n",
    "x = shuffle(C_matrix,random_state=20)\n",
    "\n",
    "print(np.min(x))\n",
    "print(np.max(x))\n",
    "x = x - np.min(x)\n",
    "\n",
    "print(np.min(x))\n",
    "print(np.max(x))\n",
    "\n",
    "x = x/np.max(x)\n",
    "# x = x/np.max(np.abs(x))\n",
    "\n",
    "\n",
    "print(np.min(x))\n",
    "print(np.max(x))\n",
    "\n",
    "print (x.shape)\n",
    "\n",
    "\n",
    "A = x[0]\n",
    "A = np.reshape(A, (L, L))\n",
    "plt.imshow(A)\n",
    "plt.show()\n",
    "\n"
   ]
  },
  {
   "cell_type": "code",
   "execution_count": 10,
   "metadata": {},
   "outputs": [],
   "source": [
    "train_X,valid_X,train_ground,valid_ground = train_test_split(x,\n",
    "                                                             x, \n",
    "                                                             test_size=0.2, \n",
    "                                                             random_state=13)\n"
   ]
  },
  {
   "cell_type": "code",
   "execution_count": 11,
   "metadata": {},
   "outputs": [],
   "source": [
    "points_of_measurement = np.linspace( 0, 10,5000)"
   ]
  },
  {
   "cell_type": "code",
   "execution_count": 12,
   "metadata": {},
   "outputs": [
    {
     "name": "stdout",
     "output_type": "stream",
     "text": [
      "_________________________________________________________________\n",
      "Layer (type)                 Output Shape              Param #   \n",
      "=================================================================\n",
      "input_1 (InputLayer)         (None, 20, 20, 1)         0         \n",
      "_________________________________________________________________\n",
      "conv2d_1 (Conv2D)            (None, 20, 20, 8)         80        \n",
      "_________________________________________________________________\n",
      "flatten_1 (Flatten)          (None, 3200)              0         \n",
      "_________________________________________________________________\n",
      "dense_1 (Dense)              (None, 20)                64020     \n",
      "_________________________________________________________________\n",
      "dense_2 (Dense)              (None, 2)                 42        \n",
      "_________________________________________________________________\n",
      "dropout_2 (Dropout)          (None, 2)                 0         \n",
      "_________________________________________________________________\n",
      "dense_3 (Dense)              (None, 20)                60        \n",
      "_________________________________________________________________\n",
      "dense_4 (Dense)              (None, 3200)              67200     \n",
      "_________________________________________________________________\n",
      "reshape_1 (Reshape)          (None, 20, 20, 8)         0         \n",
      "_________________________________________________________________\n",
      "conv2d_2 (Conv2D)            (None, 20, 20, 1)         73        \n",
      "=================================================================\n",
      "Total params: 131,475\n",
      "Trainable params: 131,475\n",
      "Non-trainable params: 0\n",
      "_________________________________________________________________\n"
     ]
    }
   ],
   "source": [
    "encoded_input = Input(shape=(L, L, 1))\n",
    "\n",
    "encode = Conv2D(filters=8, \n",
    "                 kernel_size=(3,3), \n",
    "                 input_shape=(L,L,1), \n",
    "                 activation='relu', \n",
    "                 padding='same')(encoded_input)\n",
    "# encode = Conv2D(filters=32, \n",
    "#                  kernel_size=(3,3), \n",
    "#                  activation='relu', \n",
    "#                  padding='same')(encode)\n",
    "# encode = Conv2D(filters=32, \n",
    "#                  kernel_size=(3,3), \n",
    "#                  activation='relu', \n",
    "#                  padding='same')(encode)\n",
    "# encode = Conv2D(filters=32, \n",
    "#                  kernel_size=(3,3), \n",
    "#                  activation='relu', \n",
    "#                  padding='same')(encode)\n",
    "encode = Flatten()(encode)\n",
    "enocode= Dropout(0.5)(encode)\n",
    "encode = Dense(units=20, activation='relu')(encode)\n",
    "# encode = Dense(units=200, activation='relu')(encode)\n",
    "encode = Dense(units=2, activation='tanh')(encode)\n",
    "\n",
    "\n",
    "decode= Dropout(0.5)(encode)\n",
    "decode = Dense(units=20, activation='relu')(decode)\n",
    "\n",
    "# decode = Dense(units=200, activation='relu')(decode)\n",
    "decode = Dense(units=L*L*8, activation='relu')(decode)\n",
    "decode = Reshape((L, L, 8))(decode)\n",
    "# decode = Conv2D(filters=32, \n",
    "#                  kernel_size=(3,3), \n",
    "#                  activation='relu', \n",
    "#                  padding='same')(decode)\n",
    "# decode = Conv2D(filters=32, \n",
    "#                  kernel_size=(3,3), \n",
    "#                  activation='relu', \n",
    "#                  padding='same')(decode)\n",
    "# decode = Conv2D(filters=16, \n",
    "#                  kernel_size=(3,3), \n",
    "#                  activation='relu', \n",
    "#                  padding='same')(decode)\n",
    "decode = Conv2D(filters=1, \n",
    "                 kernel_size=(3,3), \n",
    "                 input_shape=(L,L,1), \n",
    "                 activation='relu', \n",
    "                 padding='same')(decode)\n",
    "\n",
    "autoencoder = Model(encoded_input, decode)\n",
    "encoder = Model(encoded_input, encode)\n",
    "\n",
    "autoencoder.summary()"
   ]
  },
  {
   "cell_type": "code",
   "execution_count": 13,
   "metadata": {},
   "outputs": [
    {
     "name": "stdout",
     "output_type": "stream",
     "text": [
      "Train on 4000 samples, validate on 1000 samples\n",
      "Epoch 1/200\n",
      "4000/4000 [==============================] - 3s 744us/step - loss: 0.0757 - val_loss: 0.0142\n",
      "Epoch 2/200\n",
      "4000/4000 [==============================] - 1s 318us/step - loss: 0.0056 - val_loss: 0.0094\n",
      "Epoch 3/200\n",
      "4000/4000 [==============================] - 1s 344us/step - loss: 0.0018 - val_loss: 0.0084\n",
      "Epoch 4/200\n",
      "4000/4000 [==============================] - 1s 339us/step - loss: 0.0013 - val_loss: 0.0080\n",
      "Epoch 5/200\n",
      "4000/4000 [==============================] - 1s 308us/step - loss: 0.0012 - val_loss: 0.0081\n",
      "Epoch 6/200\n",
      "4000/4000 [==============================] - 1s 296us/step - loss: 0.0011 - val_loss: 0.0077\n",
      "Epoch 7/200\n",
      "4000/4000 [==============================] - 1s 295us/step - loss: 0.0011 - val_loss: 0.0081\n",
      "Epoch 8/200\n",
      "4000/4000 [==============================] - 1s 312us/step - loss: 0.0011 - val_loss: 0.0077\n",
      "Epoch 9/200\n",
      "4000/4000 [==============================] - 1s 297us/step - loss: 0.0011 - val_loss: 0.0075\n",
      "Epoch 10/200\n",
      "4000/4000 [==============================] - 1s 311us/step - loss: 0.0011 - val_loss: 0.0077\n",
      "Epoch 11/200\n",
      "4000/4000 [==============================] - 1s 308us/step - loss: 0.0011 - val_loss: 0.0074\n",
      "Epoch 12/200\n",
      "4000/4000 [==============================] - 1s 305us/step - loss: 0.0010 - val_loss: 0.0074\n",
      "Epoch 13/200\n",
      "4000/4000 [==============================] - 1s 309us/step - loss: 0.0011 - val_loss: 0.0076\n",
      "Epoch 14/200\n",
      "4000/4000 [==============================] - 2s 376us/step - loss: 0.0010 - val_loss: 0.0076\n",
      "Epoch 15/200\n",
      "4000/4000 [==============================] - 1s 319us/step - loss: 0.0010 - val_loss: 0.0074\n",
      "Epoch 16/200\n",
      "4000/4000 [==============================] - 1s 322us/step - loss: 0.0010 - val_loss: 0.0075\n",
      "Epoch 17/200\n",
      "4000/4000 [==============================] - 1s 311us/step - loss: 0.0010 - val_loss: 0.0077\n",
      "Epoch 18/200\n",
      "4000/4000 [==============================] - 1s 307us/step - loss: 0.0010 - val_loss: 0.0074\n",
      "Epoch 19/200\n",
      "4000/4000 [==============================] - 1s 308us/step - loss: 0.0010 - val_loss: 0.0077\n",
      "Epoch 20/200\n",
      "4000/4000 [==============================] - 1s 307us/step - loss: 0.0010 - val_loss: 0.0077\n",
      "Epoch 21/200\n",
      "4000/4000 [==============================] - 1s 323us/step - loss: 0.0010 - val_loss: 0.0075\n",
      "Epoch 22/200\n",
      "4000/4000 [==============================] - 1s 341us/step - loss: 0.0010 - val_loss: 0.0077\n",
      "Epoch 23/200\n",
      "4000/4000 [==============================] - 1s 327us/step - loss: 0.0010 - val_loss: 0.0073\n",
      "Epoch 24/200\n",
      "4000/4000 [==============================] - 1s 307us/step - loss: 0.0010 - val_loss: 0.0077\n",
      "Epoch 25/200\n",
      "4000/4000 [==============================] - 1s 309us/step - loss: 0.0010 - val_loss: 0.0078\n",
      "Epoch 26/200\n",
      "4000/4000 [==============================] - 1s 303us/step - loss: 0.0010 - val_loss: 0.0075\n",
      "Epoch 27/200\n",
      "4000/4000 [==============================] - 1s 305us/step - loss: 0.0010 - val_loss: 0.0076\n",
      "Epoch 28/200\n",
      "4000/4000 [==============================] - 1s 306us/step - loss: 0.0010 - val_loss: 0.0076\n",
      "Epoch 29/200\n",
      "4000/4000 [==============================] - 1s 306us/step - loss: 0.0010 - val_loss: 0.0076\n",
      "Epoch 30/200\n",
      "4000/4000 [==============================] - 1s 304us/step - loss: 0.0010 - val_loss: 0.0077\n",
      "Epoch 31/200\n",
      "4000/4000 [==============================] - 1s 310us/step - loss: 0.0011 - val_loss: 0.0079\n",
      "Epoch 32/200\n",
      "4000/4000 [==============================] - 1s 317us/step - loss: 0.0010 - val_loss: 0.0079\n",
      "Epoch 33/200\n",
      "4000/4000 [==============================] - 1s 306us/step - loss: 0.0010 - val_loss: 0.0077\n",
      "Epoch 34/200\n",
      "4000/4000 [==============================] - 1s 307us/step - loss: 0.0010 - val_loss: 0.0081\n",
      "Epoch 35/200\n",
      "4000/4000 [==============================] - 1s 307us/step - loss: 0.0010 - val_loss: 0.0078\n",
      "Epoch 36/200\n",
      "4000/4000 [==============================] - 1s 311us/step - loss: 0.0010 - val_loss: 0.0077\n",
      "Epoch 37/200\n",
      "4000/4000 [==============================] - 1s 318us/step - loss: 0.0010 - val_loss: 0.0077\n",
      "Epoch 38/200\n",
      "4000/4000 [==============================] - 1s 311us/step - loss: 0.0011 - val_loss: 0.0081\n",
      "Epoch 39/200\n",
      "4000/4000 [==============================] - 1s 310us/step - loss: 0.0010 - val_loss: 0.0082\n",
      "Epoch 40/200\n",
      "4000/4000 [==============================] - 1s 306us/step - loss: 0.0011 - val_loss: 0.0077\n",
      "Epoch 41/200\n",
      "4000/4000 [==============================] - 1s 303us/step - loss: 0.0010 - val_loss: 0.0081\n",
      "Epoch 42/200\n",
      "4000/4000 [==============================] - 1s 307us/step - loss: 0.0011 - val_loss: 0.0078\n",
      "Epoch 43/200\n",
      "4000/4000 [==============================] - 1s 304us/step - loss: 0.0011 - val_loss: 0.0079\n",
      "Epoch 44/200\n",
      "4000/4000 [==============================] - 1s 304us/step - loss: 0.0010 - val_loss: 0.0074\n",
      "Epoch 45/200\n",
      "4000/4000 [==============================] - 1s 327us/step - loss: 0.0010 - val_loss: 0.0079\n",
      "Epoch 46/200\n",
      "4000/4000 [==============================] - 1s 320us/step - loss: 0.0010 - val_loss: 0.0077\n",
      "Epoch 47/200\n",
      "4000/4000 [==============================] - 1s 333us/step - loss: 0.0010 - val_loss: 0.0077\n",
      "Epoch 48/200\n",
      "4000/4000 [==============================] - 1s 310us/step - loss: 0.0010 - val_loss: 0.0074\n",
      "Epoch 49/200\n",
      "4000/4000 [==============================] - 1s 314us/step - loss: 0.0010 - val_loss: 0.0074\n",
      "Epoch 50/200\n",
      "4000/4000 [==============================] - 1s 322us/step - loss: 0.0010 - val_loss: 0.0080\n",
      "Epoch 51/200\n",
      "4000/4000 [==============================] - 1s 353us/step - loss: 0.0010 - val_loss: 0.0071\n",
      "Epoch 52/200\n",
      "4000/4000 [==============================] - 1s 316us/step - loss: 0.0011 - val_loss: 0.0078\n",
      "Epoch 53/200\n",
      "4000/4000 [==============================] - 1s 305us/step - loss: 0.0010 - val_loss: 0.0079\n",
      "Epoch 54/200\n",
      "4000/4000 [==============================] - 1s 302us/step - loss: 0.0011 - val_loss: 0.0082\n",
      "Epoch 55/200\n",
      "4000/4000 [==============================] - 1s 307us/step - loss: 0.0010 - val_loss: 0.0082\n",
      "Epoch 56/200\n",
      "4000/4000 [==============================] - 1s 304us/step - loss: 0.0010 - val_loss: 0.0076\n",
      "Epoch 57/200\n",
      "4000/4000 [==============================] - 1s 309us/step - loss: 0.0010 - val_loss: 0.0074\n",
      "Epoch 58/200\n",
      "4000/4000 [==============================] - 1s 313us/step - loss: 0.0010 - val_loss: 0.0077\n",
      "Epoch 59/200\n",
      "4000/4000 [==============================] - 1s 318us/step - loss: 0.0010 - val_loss: 0.0075\n",
      "Epoch 60/200\n",
      "4000/4000 [==============================] - 1s 321us/step - loss: 0.0010 - val_loss: 0.0081\n",
      "Epoch 61/200\n",
      "4000/4000 [==============================] - 1s 308us/step - loss: 0.0010 - val_loss: 0.0077\n",
      "Epoch 62/200\n",
      "4000/4000 [==============================] - 1s 307us/step - loss: 0.0010 - val_loss: 0.0078\n",
      "Epoch 63/200\n",
      "4000/4000 [==============================] - 1s 337us/step - loss: 0.0010 - val_loss: 0.0076\n",
      "Epoch 64/200\n",
      "4000/4000 [==============================] - 1s 328us/step - loss: 0.0010 - val_loss: 0.0075\n",
      "Epoch 65/200\n",
      "4000/4000 [==============================] - 2s 390us/step - loss: 0.0011 - val_loss: 0.0072\n",
      "Epoch 66/200\n",
      "4000/4000 [==============================] - 1s 368us/step - loss: 0.0010 - val_loss: 0.0072\n",
      "Epoch 67/200\n",
      "4000/4000 [==============================] - 1s 370us/step - loss: 0.0011 - val_loss: 0.0074\n",
      "Epoch 68/200\n",
      "4000/4000 [==============================] - 1s 313us/step - loss: 0.0010 - val_loss: 0.0071\n",
      "Epoch 69/200\n",
      "4000/4000 [==============================] - 1s 298us/step - loss: 0.0010 - val_loss: 0.0073\n",
      "Epoch 70/200\n",
      "4000/4000 [==============================] - 1s 298us/step - loss: 0.0010 - val_loss: 0.0074\n",
      "Epoch 71/200\n",
      "4000/4000 [==============================] - 1s 299us/step - loss: 0.0010 - val_loss: 0.0075\n",
      "Epoch 72/200\n",
      "4000/4000 [==============================] - 1s 300us/step - loss: 0.0010 - val_loss: 0.0073\n",
      "Epoch 73/200\n",
      "4000/4000 [==============================] - 1s 297us/step - loss: 0.0010 - val_loss: 0.0072\n",
      "Epoch 74/200\n",
      "4000/4000 [==============================] - 1s 298us/step - loss: 0.0010 - val_loss: 0.0074\n",
      "Epoch 75/200\n",
      "4000/4000 [==============================] - 1s 300us/step - loss: 0.0010 - val_loss: 0.0073\n",
      "Epoch 76/200\n",
      "4000/4000 [==============================] - 1s 296us/step - loss: 0.0010 - val_loss: 0.0068\n",
      "Epoch 77/200\n",
      "4000/4000 [==============================] - 1s 297us/step - loss: 0.0010 - val_loss: 0.0070\n"
     ]
    },
    {
     "name": "stdout",
     "output_type": "stream",
     "text": [
      "Epoch 78/200\n",
      "4000/4000 [==============================] - 1s 298us/step - loss: 0.0010 - val_loss: 0.0067\n",
      "Epoch 79/200\n",
      "4000/4000 [==============================] - 1s 305us/step - loss: 0.0010 - val_loss: 0.0071\n",
      "Epoch 80/200\n",
      "4000/4000 [==============================] - 1s 309us/step - loss: 0.0010 - val_loss: 0.0070\n",
      "Epoch 81/200\n",
      "4000/4000 [==============================] - 1s 307us/step - loss: 0.0010 - val_loss: 0.0065\n",
      "Epoch 82/200\n",
      "4000/4000 [==============================] - 1s 295us/step - loss: 0.0010 - val_loss: 0.0070\n",
      "Epoch 83/200\n",
      "4000/4000 [==============================] - 1s 296us/step - loss: 0.0011 - val_loss: 0.0072\n",
      "Epoch 84/200\n",
      "4000/4000 [==============================] - 1s 295us/step - loss: 0.0010 - val_loss: 0.0071\n",
      "Epoch 85/200\n",
      "4000/4000 [==============================] - 1s 295us/step - loss: 0.0010 - val_loss: 0.0072\n",
      "Epoch 86/200\n",
      "4000/4000 [==============================] - 1s 294us/step - loss: 0.0010 - val_loss: 0.0066\n",
      "Epoch 87/200\n",
      "4000/4000 [==============================] - 1s 297us/step - loss: 0.0010 - val_loss: 0.0069\n",
      "Epoch 88/200\n",
      "4000/4000 [==============================] - 1s 302us/step - loss: 0.0010 - val_loss: 0.0066\n",
      "Epoch 89/200\n",
      "4000/4000 [==============================] - 1s 295us/step - loss: 0.0010 - val_loss: 0.0067\n",
      "Epoch 90/200\n",
      "4000/4000 [==============================] - 1s 297us/step - loss: 0.0010 - val_loss: 0.0064\n",
      "Epoch 91/200\n",
      "4000/4000 [==============================] - 1s 296us/step - loss: 0.0010 - val_loss: 0.0066\n",
      "Epoch 92/200\n",
      "4000/4000 [==============================] - 1s 301us/step - loss: 0.0010 - val_loss: 0.0062\n",
      "Epoch 93/200\n",
      "4000/4000 [==============================] - 1s 295us/step - loss: 0.0010 - val_loss: 0.0068\n",
      "Epoch 94/200\n",
      "4000/4000 [==============================] - 1s 296us/step - loss: 0.0010 - val_loss: 0.0069\n",
      "Epoch 95/200\n",
      "4000/4000 [==============================] - 1s 299us/step - loss: 0.0010 - val_loss: 0.0069\n",
      "Epoch 96/200\n",
      "4000/4000 [==============================] - 1s 297us/step - loss: 0.0010 - val_loss: 0.0066\n",
      "Epoch 97/200\n",
      "4000/4000 [==============================] - 1s 300us/step - loss: 0.0010 - val_loss: 0.0067\n",
      "Epoch 98/200\n",
      "4000/4000 [==============================] - 1s 296us/step - loss: 0.0011 - val_loss: 0.0068\n",
      "Epoch 99/200\n",
      "4000/4000 [==============================] - 1s 296us/step - loss: 0.0010 - val_loss: 0.0063\n",
      "Epoch 100/200\n",
      "4000/4000 [==============================] - 1s 297us/step - loss: 0.0010 - val_loss: 0.0069\n",
      "Epoch 101/200\n",
      "4000/4000 [==============================] - 1s 296us/step - loss: 0.0010 - val_loss: 0.0068\n",
      "Epoch 102/200\n",
      "4000/4000 [==============================] - 1s 300us/step - loss: 0.0010 - val_loss: 0.0070\n",
      "Epoch 103/200\n",
      "4000/4000 [==============================] - 1s 300us/step - loss: 0.0010 - val_loss: 0.0065\n",
      "Epoch 104/200\n",
      "4000/4000 [==============================] - 1s 296us/step - loss: 0.0010 - val_loss: 0.0065\n",
      "Epoch 105/200\n",
      "4000/4000 [==============================] - 1s 298us/step - loss: 0.0010 - val_loss: 0.0065\n",
      "Epoch 106/200\n",
      "4000/4000 [==============================] - 1s 295us/step - loss: 0.0010 - val_loss: 0.0060\n",
      "Epoch 107/200\n",
      "4000/4000 [==============================] - 1s 298us/step - loss: 0.0010 - val_loss: 0.0061\n",
      "Epoch 108/200\n",
      "4000/4000 [==============================] - ETA: 0s - loss: 0.001 - 1s 298us/step - loss: 0.0010 - val_loss: 0.0062\n",
      "Epoch 109/200\n",
      "4000/4000 [==============================] - 1s 297us/step - loss: 0.0010 - val_loss: 0.0065\n",
      "Epoch 110/200\n",
      "4000/4000 [==============================] - 1s 301us/step - loss: 0.0010 - val_loss: 0.0064\n",
      "Epoch 111/200\n",
      "4000/4000 [==============================] - 1s 300us/step - loss: 0.0010 - val_loss: 0.0043\n",
      "Epoch 112/200\n",
      "4000/4000 [==============================] - 1s 301us/step - loss: 7.9607e-04 - val_loss: 0.0015\n",
      "Epoch 113/200\n",
      "4000/4000 [==============================] - 1s 299us/step - loss: 6.2242e-04 - val_loss: 0.0013\n",
      "Epoch 114/200\n",
      "4000/4000 [==============================] - 1s 308us/step - loss: 5.9738e-04 - val_loss: 0.0011\n",
      "Epoch 115/200\n",
      "4000/4000 [==============================] - 1s 296us/step - loss: 5.4185e-04 - val_loss: 8.8065e-04\n",
      "Epoch 116/200\n",
      "4000/4000 [==============================] - 1s 298us/step - loss: 5.3280e-04 - val_loss: 8.7778e-04\n",
      "Epoch 117/200\n",
      "4000/4000 [==============================] - 1s 295us/step - loss: 5.0912e-04 - val_loss: 9.4484e-04\n",
      "Epoch 118/200\n",
      "4000/4000 [==============================] - 1s 297us/step - loss: 5.1130e-04 - val_loss: 8.3094e-04\n",
      "Epoch 119/200\n",
      "4000/4000 [==============================] - 1s 296us/step - loss: 4.9267e-04 - val_loss: 7.0009e-04\n",
      "Epoch 120/200\n",
      "4000/4000 [==============================] - 1s 297us/step - loss: 4.3651e-04 - val_loss: 6.6764e-04\n",
      "Epoch 121/200\n",
      "4000/4000 [==============================] - 1s 294us/step - loss: 3.9768e-04 - val_loss: 5.4472e-04\n",
      "Epoch 122/200\n",
      "4000/4000 [==============================] - 1s 297us/step - loss: 3.4409e-04 - val_loss: 5.0323e-04\n",
      "Epoch 123/200\n",
      "4000/4000 [==============================] - 1s 297us/step - loss: 3.4032e-04 - val_loss: 5.4460e-04\n",
      "Epoch 124/200\n",
      "4000/4000 [==============================] - 1s 300us/step - loss: 3.1471e-04 - val_loss: 5.3109e-04\n",
      "Epoch 125/200\n",
      "4000/4000 [==============================] - 1s 297us/step - loss: 3.3716e-04 - val_loss: 5.5743e-04\n",
      "Epoch 126/200\n",
      "4000/4000 [==============================] - 1s 297us/step - loss: 3.4338e-04 - val_loss: 5.5313e-04\n",
      "Epoch 127/200\n",
      "4000/4000 [==============================] - 1s 296us/step - loss: 3.0547e-04 - val_loss: 5.6320e-04\n",
      "Epoch 128/200\n",
      "4000/4000 [==============================] - 1s 295us/step - loss: 3.3974e-04 - val_loss: 5.5186e-04\n",
      "Epoch 129/200\n",
      "4000/4000 [==============================] - 1s 300us/step - loss: 3.3458e-04 - val_loss: 5.2176e-04\n",
      "Epoch 130/200\n",
      "4000/4000 [==============================] - 1s 300us/step - loss: 2.9511e-04 - val_loss: 5.8824e-04\n",
      "Epoch 131/200\n",
      "4000/4000 [==============================] - 1s 313us/step - loss: 3.3291e-04 - val_loss: 5.6023e-04\n",
      "Epoch 132/200\n",
      "4000/4000 [==============================] - 1s 330us/step - loss: 3.1178e-04 - val_loss: 5.2467e-04\n",
      "Epoch 133/200\n",
      "4000/4000 [==============================] - 1s 330us/step - loss: 3.3310e-04 - val_loss: 5.4285e-04\n",
      "Epoch 134/200\n",
      "4000/4000 [==============================] - 1s 308us/step - loss: 2.6523e-04 - val_loss: 5.1976e-04\n",
      "Epoch 135/200\n",
      "4000/4000 [==============================] - ETA: 0s - loss: 3.1560e-0 - 1s 323us/step - loss: 3.1885e-04 - val_loss: 5.0474e-04\n",
      "Epoch 136/200\n",
      "4000/4000 [==============================] - 1s 356us/step - loss: 3.1362e-04 - val_loss: 5.2340e-04\n",
      "Epoch 137/200\n",
      "4000/4000 [==============================] - 1s 353us/step - loss: 2.6410e-04 - val_loss: 4.8927e-04\n",
      "Epoch 138/200\n",
      "4000/4000 [==============================] - 1s 330us/step - loss: 2.8224e-04 - val_loss: 4.9019e-04\n",
      "Epoch 139/200\n",
      "4000/4000 [==============================] - 1s 345us/step - loss: 2.9652e-04 - val_loss: 5.1762e-04\n",
      "Epoch 140/200\n",
      "4000/4000 [==============================] - 1s 348us/step - loss: 3.1853e-04 - val_loss: 5.5767e-04\n",
      "Epoch 141/200\n",
      "4000/4000 [==============================] - 1s 325us/step - loss: 2.7833e-04 - val_loss: 5.4411e-04\n",
      "Epoch 142/200\n",
      "4000/4000 [==============================] - 1s 315us/step - loss: 3.4086e-04 - val_loss: 5.4254e-04\n",
      "Epoch 143/200\n",
      "4000/4000 [==============================] - 1s 322us/step - loss: 3.2613e-04 - val_loss: 5.0182e-04\n",
      "Epoch 144/200\n",
      "4000/4000 [==============================] - 1s 321us/step - loss: 2.9242e-04 - val_loss: 5.1141e-04\n",
      "Epoch 145/200\n",
      "4000/4000 [==============================] - 1s 318us/step - loss: 3.2719e-04 - val_loss: 5.1036e-04\n",
      "Epoch 146/200\n",
      "4000/4000 [==============================] - 1s 320us/step - loss: 2.7576e-04 - val_loss: 5.1267e-04\n",
      "Epoch 147/200\n",
      "4000/4000 [==============================] - 1s 333us/step - loss: 2.8370e-04 - val_loss: 5.3925e-04\n",
      "Epoch 148/200\n",
      "4000/4000 [==============================] - 1s 325us/step - loss: 3.2901e-04 - val_loss: 5.4035e-04\n",
      "Epoch 149/200\n",
      "4000/4000 [==============================] - 1s 313us/step - loss: 2.8540e-04 - val_loss: 5.2891e-04\n",
      "Epoch 150/200\n",
      "4000/4000 [==============================] - 1s 307us/step - loss: 2.9576e-04 - val_loss: 5.0647e-04\n",
      "Epoch 151/200\n"
     ]
    },
    {
     "name": "stdout",
     "output_type": "stream",
     "text": [
      "4000/4000 [==============================] - 1s 301us/step - loss: 2.9616e-04 - val_loss: 4.6189e-04\n",
      "Epoch 152/200\n",
      "4000/4000 [==============================] - 1s 328us/step - loss: 2.9764e-04 - val_loss: 4.8448e-04\n",
      "Epoch 153/200\n",
      "4000/4000 [==============================] - 1s 327us/step - loss: 2.9393e-04 - val_loss: 4.6295e-04\n",
      "Epoch 154/200\n",
      "4000/4000 [==============================] - 1s 317us/step - loss: 2.6689e-04 - val_loss: 4.9544e-04\n",
      "Epoch 155/200\n",
      "4000/4000 [==============================] - 1s 320us/step - loss: 3.0925e-04 - val_loss: 5.1423e-04\n",
      "Epoch 156/200\n",
      "4000/4000 [==============================] - 1s 319us/step - loss: 2.9662e-04 - val_loss: 4.8070e-04\n",
      "Epoch 157/200\n",
      "4000/4000 [==============================] - 1s 315us/step - loss: 2.7883e-04 - val_loss: 4.9874e-04\n",
      "Epoch 158/200\n",
      "4000/4000 [==============================] - 1s 305us/step - loss: 2.8977e-04 - val_loss: 5.1271e-04\n",
      "Epoch 159/200\n",
      "4000/4000 [==============================] - 1s 302us/step - loss: 2.5859e-04 - val_loss: 5.0790e-04\n",
      "Epoch 160/200\n",
      "4000/4000 [==============================] - 1s 304us/step - loss: 2.7669e-04 - val_loss: 5.1057e-04\n",
      "Epoch 161/200\n",
      "4000/4000 [==============================] - 1s 299us/step - loss: 2.8864e-04 - val_loss: 5.0596e-04\n",
      "Epoch 162/200\n",
      "4000/4000 [==============================] - 1s 306us/step - loss: 2.8814e-04 - val_loss: 4.7298e-04\n",
      "Epoch 163/200\n",
      "4000/4000 [==============================] - 1s 303us/step - loss: 2.8788e-04 - val_loss: 4.7073e-04\n",
      "Epoch 164/200\n",
      "4000/4000 [==============================] - 1s 299us/step - loss: 2.8877e-04 - val_loss: 4.6556e-04\n",
      "Epoch 165/200\n",
      "4000/4000 [==============================] - 1s 308us/step - loss: 2.9567e-04 - val_loss: 5.0086e-04\n",
      "Epoch 166/200\n",
      "4000/4000 [==============================] - 1s 304us/step - loss: 2.9385e-04 - val_loss: 4.9320e-04\n",
      "Epoch 167/200\n",
      "4000/4000 [==============================] - 1s 298us/step - loss: 2.9480e-04 - val_loss: 4.8592e-04\n",
      "Epoch 168/200\n",
      "4000/4000 [==============================] - 1s 298us/step - loss: 2.6376e-04 - val_loss: 4.9529e-04\n",
      "Epoch 169/200\n",
      "4000/4000 [==============================] - 1s 314us/step - loss: 3.1917e-04 - val_loss: 4.6341e-04\n",
      "Epoch 170/200\n",
      "4000/4000 [==============================] - 1s 321us/step - loss: 2.7087e-04 - val_loss: 4.8893e-04\n",
      "Epoch 171/200\n",
      "4000/4000 [==============================] - 1s 308us/step - loss: 2.8291e-04 - val_loss: 4.8938e-04\n",
      "Epoch 172/200\n",
      "4000/4000 [==============================] - 1s 318us/step - loss: 2.7316e-04 - val_loss: 4.9205e-04\n",
      "Epoch 173/200\n",
      "4000/4000 [==============================] - 1s 328us/step - loss: 2.8516e-04 - val_loss: 4.6110e-04\n",
      "Epoch 174/200\n",
      "4000/4000 [==============================] - 1s 318us/step - loss: 2.7539e-04 - val_loss: 4.7945e-04\n",
      "Epoch 175/200\n",
      "4000/4000 [==============================] - 1s 313us/step - loss: 2.9029e-04 - val_loss: 4.7182e-04\n",
      "Epoch 176/200\n",
      "4000/4000 [==============================] - 1s 308us/step - loss: 2.9557e-04 - val_loss: 5.0039e-04\n",
      "Epoch 177/200\n",
      "4000/4000 [==============================] - 1s 302us/step - loss: 2.7910e-04 - val_loss: 4.5668e-04\n",
      "Epoch 178/200\n",
      "4000/4000 [==============================] - 1s 302us/step - loss: 2.8615e-04 - val_loss: 4.7059e-04\n",
      "Epoch 179/200\n",
      "4000/4000 [==============================] - 1s 298us/step - loss: 3.1134e-04 - val_loss: 4.6292e-04\n",
      "Epoch 180/200\n",
      "4000/4000 [==============================] - 1s 303us/step - loss: 3.1126e-04 - val_loss: 4.8039e-04\n",
      "Epoch 181/200\n",
      "4000/4000 [==============================] - 1s 297us/step - loss: 3.0486e-04 - val_loss: 4.5991e-04\n",
      "Epoch 182/200\n",
      "4000/4000 [==============================] - 1s 298us/step - loss: 3.2246e-04 - val_loss: 4.2940e-04\n",
      "Epoch 183/200\n",
      "4000/4000 [==============================] - 1s 303us/step - loss: 2.8787e-04 - val_loss: 4.7894e-04\n",
      "Epoch 184/200\n",
      "4000/4000 [==============================] - 1s 304us/step - loss: 2.8721e-04 - val_loss: 4.3478e-04\n",
      "Epoch 185/200\n",
      "4000/4000 [==============================] - 1s 304us/step - loss: 2.8663e-04 - val_loss: 4.3381e-04\n",
      "Epoch 186/200\n",
      "4000/4000 [==============================] - 1s 313us/step - loss: 2.6594e-04 - val_loss: 4.2222e-04\n",
      "Epoch 187/200\n",
      "4000/4000 [==============================] - 1s 316us/step - loss: 2.8916e-04 - val_loss: 4.4546e-04\n",
      "Epoch 188/200\n",
      "4000/4000 [==============================] - 1s 320us/step - loss: 2.7219e-04 - val_loss: 4.2789e-04\n",
      "Epoch 189/200\n",
      "4000/4000 [==============================] - 1s 323us/step - loss: 3.2718e-04 - val_loss: 4.7295e-04\n",
      "Epoch 190/200\n",
      "4000/4000 [==============================] - 1s 321us/step - loss: 3.4594e-04 - val_loss: 4.7022e-04\n",
      "Epoch 191/200\n",
      "4000/4000 [==============================] - 1s 315us/step - loss: 2.8797e-04 - val_loss: 4.2299e-04\n",
      "Epoch 192/200\n",
      "4000/4000 [==============================] - 1s 318us/step - loss: 2.7777e-04 - val_loss: 4.3393e-04\n",
      "Epoch 193/200\n",
      "4000/4000 [==============================] - 1s 315us/step - loss: 3.0813e-04 - val_loss: 4.8654e-04\n",
      "Epoch 194/200\n",
      "4000/4000 [==============================] - 1s 315us/step - loss: 3.1779e-04 - val_loss: 4.0570e-04\n",
      "Epoch 195/200\n",
      "4000/4000 [==============================] - 1s 316us/step - loss: 2.4508e-04 - val_loss: 4.1910e-04\n",
      "Epoch 196/200\n",
      "4000/4000 [==============================] - 1s 315us/step - loss: 2.9193e-04 - val_loss: 4.1965e-04\n",
      "Epoch 197/200\n",
      "4000/4000 [==============================] - 1s 321us/step - loss: 2.9534e-04 - val_loss: 4.5826e-04\n",
      "Epoch 198/200\n",
      "4000/4000 [==============================] - 1s 315us/step - loss: 2.9452e-04 - val_loss: 4.2806e-04\n",
      "Epoch 199/200\n",
      "4000/4000 [==============================] - ETA: 0s - loss: 2.9889e-0 - 1s 312us/step - loss: 2.9323e-04 - val_loss: 4.5289e-04\n",
      "Epoch 200/200\n",
      "4000/4000 [==============================] - 1s 314us/step - loss: 2.5789e-04 - val_loss: 4.4505e-04\n"
     ]
    }
   ],
   "source": [
    "epochs = 200\n",
    "autoencoder.compile(optimizer= Adam(), loss='mean_squared_error')\n",
    "autoencoder_train = autoencoder.fit(train_X , train_ground , epochs=epochs, validation_data=(valid_X, valid_ground) )"
   ]
  },
  {
   "cell_type": "code",
   "execution_count": 14,
   "metadata": {},
   "outputs": [
    {
     "data": {
      "image/png": "[encoded data removed]",
      "text/plain": [
       "<Figure size 432x288 with 1 Axes>"
      ]
     },
     "metadata": {},
     "output_type": "display_data"
    }
   ],
   "source": [
    "loss = autoencoder_train.history['loss']\n",
    "val_loss = autoencoder_train.history['val_loss']\n",
    "epochs = range(epochs)\n",
    "plt.figure()\n",
    "plt.plot(epochs, loss, 'bo', label='Training loss')\n",
    "plt.plot(epochs, val_loss, 'b', label='Validation loss')#new_model_shan\n",
    "plt.title('Training and validation loss')\n",
    "\n",
    "\n",
    "plt.legend()\n",
    "plt.show()"
   ]
  },
  {
   "cell_type": "code",
   "execution_count": 15,
   "metadata": {},
   "outputs": [],
   "source": [
    "# model_json1 = autoencoder.to_json()\n",
    "# model_json2 = encoder.to_json()\n",
    "# with open(\"autoencoder.json\", \"w\") as json_file:\n",
    "#     json_file.write(model_json1)\n",
    "# with open(\"encoder.json\", \"w\") as json_file:\n",
    "#     json_file.write(model_json2)\n",
    "\n",
    "# autoencoder.save_weights(\"autoencoder_weights.h5\")\n",
    "\n",
    "# encoder.save_weights(\"encoder_weights.h5\")"
   ]
  },
  {
   "cell_type": "code",
   "execution_count": 16,
   "metadata": {},
   "outputs": [],
   "source": [
    "# # save model shan\n",
    "# autoencoder.save('shan_autoencoder.h5')\n",
    "# encoder.save('shan_encoder.h5')\n"
   ]
  },
  {
   "cell_type": "code",
   "execution_count": 17,
   "metadata": {},
   "outputs": [
    {
     "name": "stdout",
     "output_type": "stream",
     "text": [
      "_________________________________________________________________\n",
      "Layer (type)                 Output Shape              Param #   \n",
      "=================================================================\n",
      "input_5 (InputLayer)         (None, 20, 20, 1)         0         \n",
      "_________________________________________________________________\n",
      "conv2d_9 (Conv2D)            (None, 20, 20, 8)         80        \n",
      "_________________________________________________________________\n",
      "flatten_5 (Flatten)          (None, 3200)              0         \n",
      "_________________________________________________________________\n",
      "dense_17 (Dense)             (None, 20)                64020     \n",
      "_________________________________________________________________\n",
      "dense_18 (Dense)             (None, 2)                 42        \n",
      "_________________________________________________________________\n",
      "dropout_10 (Dropout)         (None, 2)                 0         \n",
      "_________________________________________________________________\n",
      "dense_19 (Dense)             (None, 20)                60        \n",
      "_________________________________________________________________\n",
      "dense_20 (Dense)             (None, 3200)              67200     \n",
      "_________________________________________________________________\n",
      "reshape_5 (Reshape)          (None, 20, 20, 8)         0         \n",
      "_________________________________________________________________\n",
      "conv2d_10 (Conv2D)           (None, 20, 20, 1)         73        \n",
      "=================================================================\n",
      "Total params: 131,475\n",
      "Trainable params: 131,475\n",
      "Non-trainable params: 0\n",
      "_________________________________________________________________\n"
     ]
    },
    {
     "name": "stderr",
     "output_type": "stream",
     "text": [
      "C:\\Users\\Cheng\\Anaconda3\\lib\\site-packages\\keras\\engine\\saving.py:304: UserWarning: Error in loading the saved optimizer state. As a result, your model is starting with a freshly initialized optimizer.\n",
      "  warnings.warn('Error in loading the saved optimizer '\n"
     ]
    }
   ],
   "source": [
    "# load model shan\n",
    "autoencoder=keras.models.load_model('shan_autoencoder.h5')\n",
    "autoencoder.summary()"
   ]
  },
  {
   "cell_type": "code",
   "execution_count": 18,
   "metadata": {},
   "outputs": [
    {
     "name": "stdout",
     "output_type": "stream",
     "text": [
      "_________________________________________________________________\n",
      "Layer (type)                 Output Shape              Param #   \n",
      "=================================================================\n",
      "input_5 (InputLayer)         (None, 20, 20, 1)         0         \n",
      "_________________________________________________________________\n",
      "conv2d_9 (Conv2D)            (None, 20, 20, 8)         80        \n",
      "_________________________________________________________________\n",
      "flatten_5 (Flatten)          (None, 3200)              0         \n",
      "_________________________________________________________________\n",
      "dense_17 (Dense)             (None, 20)                64020     \n",
      "_________________________________________________________________\n",
      "dense_18 (Dense)             (None, 2)                 42        \n",
      "=================================================================\n",
      "Total params: 64,142\n",
      "Trainable params: 64,142\n",
      "Non-trainable params: 0\n",
      "_________________________________________________________________\n"
     ]
    },
    {
     "name": "stderr",
     "output_type": "stream",
     "text": [
      "C:\\Users\\Cheng\\Anaconda3\\lib\\site-packages\\keras\\engine\\saving.py:269: UserWarning: No training configuration found in save file: the model was *not* compiled. Compile it manually.\n",
      "  warnings.warn('No training configuration found in save file: '\n"
     ]
    }
   ],
   "source": [
    "# load model shan\n",
    "encoder=keras.models.load_model('shan_encoder.h5')\n",
    "encoder.summary()"
   ]
  },
  {
   "cell_type": "code",
   "execution_count": 19,
   "metadata": {},
   "outputs": [],
   "source": [
    "# autoencoder = keras.models.model_from_json(\"autoencoder.json\")\n",
    "# encoder = keras.models.model_from_json(\"encoder.json\")"
   ]
  },
  {
   "cell_type": "code",
   "execution_count": 20,
   "metadata": {},
   "outputs": [
    {
     "name": "stdout",
     "output_type": "stream",
     "text": [
      "[[ 0.9400759   0.79110897]\n",
      " [ 0.93982327  0.7905301 ]\n",
      " [ 0.9395694   0.7899492 ]\n",
      " ...\n",
      " [ 0.12561439 -0.07474644]\n",
      " [ 0.12561353 -0.07474706]\n",
      " [ 0.12561266 -0.07474769]]\n"
     ]
    }
   ],
   "source": [
    "\n",
    "# encoded_imgs_low = encoder.predict(C_matrix_low)\n",
    "# encoded_imgs_high = encoder.predict(C_matrix_high)\n",
    "\n",
    "C_matrix_augmented = C_matrix - np.min(C_matrix)\n",
    "C_matrix_augmented = C_matrix_augmented/np.max(C_matrix_augmented)\n",
    "\n",
    "encoded_imgs = encoder.predict(C_matrix_augmented)\n",
    "encoded_imgs_copy = np.copy(encoded_imgs)\n",
    "\n",
    "\n",
    "# new_imgs_high = autoencoder.predict(C_matrix_high)\n",
    "# new_imgs_low = autoencoder.predict(C_matrix_low)\n",
    "new_imgs = autoencoder.predict(C_matrix_augmented)\n",
    "\n",
    "\n",
    "\n",
    "print(encoded_imgs)"
   ]
  },
  {
   "cell_type": "code",
   "execution_count": 21,
   "metadata": {},
   "outputs": [
    {
     "data": {
      "image/png": "[encoded data removed]",
      "text/plain": [
       "<Figure size 432x288 with 1 Axes>"
      ]
     },
     "metadata": {},
     "output_type": "display_data"
    },
    {
     "data": {
      "image/png": "[encoded data removed]",
      "text/plain": [
       "<Figure size 432x288 with 1 Axes>"
      ]
     },
     "metadata": {},
     "output_type": "display_data"
    }
   ],
   "source": [
    "A = train_ground[0]\n",
    "A = np.reshape(A, (L, L))\n",
    "plt.imshow(A)\n",
    "plt.show()\n",
    "\n",
    "A = new_imgs[0]\n",
    "A = np.reshape(A, (L, L))\n",
    "plt.imshow(A)\n",
    "plt.show()\n"
   ]
  },
  {
   "cell_type": "code",
   "execution_count": 22,
   "metadata": {},
   "outputs": [],
   "source": [
    "##z_val[500]"
   ]
  },
  {
   "cell_type": "code",
   "execution_count": 23,
   "metadata": {
    "scrolled": false
   },
   "outputs": [
    {
     "name": "stderr",
     "output_type": "stream",
     "text": [
      "No handles with labels found to put in legend.\n"
     ]
    },
    {
     "data": {
      "image/png": "[encoded data removed]",
      "text/plain": [
       "<Figure size 432x288 with 1 Axes>"
      ]
     },
     "metadata": {},
     "output_type": "display_data"
    },
    {
     "data": {
      "image/png": "[encoded data removed]",
      "text/plain": [
       "<Figure size 432x288 with 1 Axes>"
      ]
     },
     "metadata": {},
     "output_type": "display_data"
    },
    {
     "data": {
      "image/png": "[encoded data removed]",
      "text/plain": [
       "<Figure size 432x288 with 1 Axes>"
      ]
     },
     "metadata": {},
     "output_type": "display_data"
    }
   ],
   "source": [
    "# x_val_low = encoded_imgs_low[:,0]\n",
    "# y_val_low = encoded_imgs_low[:,1]\n",
    "# x_val_high = encoded_imgs_high[:,0]\n",
    "# y_val_high = encoded_imgs_high[:,1]\n",
    "x_val = encoded_imgs[:,0]\n",
    "y_val=  encoded_imgs[:,1]\n",
    "z_val = points_of_measurement\n",
    "\n",
    "\n",
    "# plt.scatter(x_val_low,y_val_low,color='red')\n",
    "# plt.show()\n",
    "# plt.scatter(x_val_high,y_val_high,color='black')\n",
    "# plt.show()\n",
    "\n",
    "plt.scatter(x_val,y_val, c = z_val,s=5)\n",
    "plt.plot([x_val[500]],[y_val[500]],'ro',markersize=2)\n",
    "plt.legend()\n",
    "plt.show()\n",
    "\n",
    "\n",
    "plt.scatter(z_val,x_val,s=0.5)\n",
    "plt.plot([z_val[500]],[x_val[500]],'ro',markersize=5)\n",
    "plt.xlabel(\"Lambda\")\n",
    "plt.ylabel(\"Output of Central Node\")\n",
    "plt.show()\n",
    "\n",
    "\n",
    "plt.scatter(z_val,y_val,s=0.5)\n",
    "# plt.plot([z_val[500]],[y_val[500]],'ro',markersize=12)\n",
    "plt.show()\n",
    "\n",
    "# grad=np.gradient(x_val)\n",
    "# plt.xlabel(\"Lambda\")\n",
    "# plt.ylabel(\"Derivative\")\n",
    "# plt.scatter(z_val,grad,s=0.5)\n",
    "# plt.show()\n",
    "\n",
    "# grad=np.gradient(grad)\n",
    "# plt.xlabel(\"Lambda\")\n",
    "# plt.ylabel(\"Derivative\")\n",
    "# plt.scatter(z_val,grad,s=0.5)\n",
    "# # plt.plot([z_val[500]],[y_val[500]],'ro',markersize=12)\n",
    "# plt.show()"
   ]
  },
  {
   "cell_type": "code",
   "execution_count": 24,
   "metadata": {
    "scrolled": true
   },
   "outputs": [
    {
     "name": "stderr",
     "output_type": "stream",
     "text": [
      "No handles with labels found to put in legend.\n"
     ]
    },
    {
     "name": "stdout",
     "output_type": "stream",
     "text": [
      "[0 0 0 ... 1 1 1]\n"
     ]
    },
    {
     "data": {
      "image/png": "[encoded data removed]",
      "text/plain": [
       "<Figure size 432x288 with 1 Axes>"
      ]
     },
     "metadata": {},
     "output_type": "display_data"
    }
   ],
   "source": [
    "from sklearn.cluster import DBSCAN\n",
    "\n",
    "clustering = DBSCAN(eps=0.01).fit(encoded_imgs)\n",
    "plt.xlabel(\"Output of Node 1\")\n",
    "plt.ylabel(\"Output of Node 2\")\n",
    "plt.scatter(x_val,y_val, c = clustering.labels_,s=5)\n",
    "print(clustering.labels_)\n",
    "# plt.plot([x_val[500]],[y_val[500]],'ro',markersize=2)\n",
    "plt.legend()\n",
    "plt.show()\n"
   ]
  },
  {
   "cell_type": "code",
   "execution_count": 25,
   "metadata": {},
   "outputs": [
    {
     "data": {
      "text/plain": [
       "[]"
      ]
     },
     "execution_count": 25,
     "metadata": {},
     "output_type": "execute_result"
    },
    {
     "data": {
      "image/png": "[encoded data removed]",
      "text/plain": [
       "<Figure size 432x288 with 1 Axes>"
      ]
     },
     "metadata": {},
     "output_type": "display_data"
    }
   ],
   "source": [
    "# print(clustering.labels_)\n",
    "window = 10\n",
    "\n",
    "# print(indices)\n",
    "# print(np.where(indices[0]<2))\n",
    "prob_val = []\n",
    "cluster = 1\n",
    "size = len(clustering.labels_)\n",
    "for i in range(size):\n",
    "    if i < window :\n",
    "        values = clustering.labels_[:i+10]\n",
    "    else :\n",
    "        values = clustering.labels_[i-10:i+10]\n",
    "    prob_val.append( len(np.where(values == cluster)[0])/(2*window) )\n",
    "\n",
    "plt.scatter(z_val,prob_val,s=1)\n",
    "plt.xlabel(\"Lambda\")\n",
    "plt.ylabel(\"Probability of data in cluster 1\")\n",
    "plt.plot()"
   ]
  },
  {
   "cell_type": "code",
   "execution_count": null,
   "metadata": {},
   "outputs": [],
   "source": []
  },
  {
   "cell_type": "code",
   "execution_count": 26,
   "metadata": {},
   "outputs": [],
   "source": [
    "# encoded_imgs_copy.sort(axis=0)\n",
    "# check_this.sort(axis=0)\n",
    "# print(encoded_imgs.shape)\n",
    "# plt.plot(encoded_imgs)\n",
    "# plt.ylabel('Output of Lambda')\n",
    "# plt.xlabel('Matrix id')"
   ]
  },
  {
   "cell_type": "code",
   "execution_count": 27,
   "metadata": {
    "scrolled": false
   },
   "outputs": [],
   "source": [
    "# from mpl_toolkits.mplot3d import Axes3D \n",
    "\n",
    "\n",
    "# x_val = encoded_imgs_copy[:,0]\n",
    "# y_val=  encoded_imgs_copy[:,1]\n",
    "# z_val = points_of_measurement\n",
    "\n",
    "# fig = plt.figure()\n",
    "# ax = fig.add_subplot(111, projection='3d')\n",
    "# ax.scatter(x_val, y_val, z_val )\n",
    "\n",
    "# plt.show()\n",
    "\n",
    "\n",
    "\n",
    "\n",
    "\n",
    "# plt.scatter(x_val,y_val)\n",
    "# plt.show()\n",
    "\n",
    "\n",
    "# plt.scatter(z_val,x_val)\n",
    "# plt.show()\n",
    "\n",
    "\n",
    "# plt.scatter(z_val,y_val)\n",
    "# plt.show()\n",
    "\n",
    "\n"
   ]
  },
  {
   "cell_type": "code",
   "execution_count": 28,
   "metadata": {},
   "outputs": [],
   "source": [
    "# points = []\n",
    "# for i in range(len(points_of_measurement)) :\n",
    "#     points.append((x_val[i],y_val[i],z_val[i]))\n",
    "    \n",
    "# for i in points :\n",
    "#     print(i)"
   ]
  },
  {
   "cell_type": "code",
   "execution_count": null,
   "metadata": {},
   "outputs": [],
   "source": []
  }
 ],
 "metadata": {
  "kernelspec": {
   "display_name": "Python 3",
   "language": "python",
   "name": "python3"
  },
  "language_info": {
   "codemirror_mode": {
    "name": "ipython",
    "version": 3
   },
   "file_extension": ".py",
   "mimetype": "text/x-python",
   "name": "python",
   "nbconvert_exporter": "python",
   "pygments_lexer": "ipython3",
   "version": "3.6.5"
  }
 },
 "nbformat": 4,
 "nbformat_minor": 2
}
